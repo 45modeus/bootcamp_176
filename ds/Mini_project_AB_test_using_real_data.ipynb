{
  "cells": [
    {
      "cell_type": "markdown",
      "metadata": {
        "id": "nbo-72ZODKz2"
      },
      "source": [
        "# Data Science Analyze and Present A/B Test Results\n",
        "\n",
        "X company recently introduced a new bidding type, “average bidding”, as an alternative to its exisiting bidding\n",
        "type, called “maximum bidding”. One of our clients, X.com, has decided to test this new feature\n",
        "and wants to conduct an A/B test to understand if average bidding brings more conversions than maximum\n",
        "bidding.\n",
        "\n",
        "In this A/B test, X.com randomly splits its audience into two equally sized groups, e.g. the test\n",
        "and the control group. A X company ad campaign with “maximum bidding” is served to “control group” and\n",
        "another campaign with “average bidding” is served to the “test group”.\n",
        "\n",
        "The A/B test has run for 1 month and X.com now expects you to analyze and present the results\n",
        "of this A/B test.\n",
        "\n",
        "\n",
        "\n",
        "##### You should answer the following questions in this notebook\n",
        "\n",
        "1. How would you define the hypothesis of this A/B test?\n",
        "2. Can we conclude statistically significant results?\n",
        "3. Which statistical test did you use, and why?\n",
        "4. Based on your answer to Question 2, what would be your recommendation to client?\n",
        "\n",
        "\n",
        "##### Hints:\n",
        "\n",
        "1. The customer journey for this campaign is:\n",
        "    1. User sees an ad (Impression)\n",
        "    2. User clicks on the website link on the ad (Website Click)\n",
        "    3. User makes a search on the website (Search)\n",
        "    4. User views details of a product (View Content)\n",
        "    5. User adds the product to the cart (Add to Cart)\n",
        "    6. User purchases the product (Purchase)\n",
        "2. Use visualizations to compare test and control group metrics, such as Website Click Through Rate, Cost per Action, and Conversion Rates in addition to Purchase numbers.\n",
        "3. If you see trends, anomalies or other patterns, discuss these in your notebool.\n",
        "4. You can make assumptions if needed.\n"
      ]
    },
    {
      "cell_type": "markdown",
      "metadata": {
        "id": "1nq1PmtlDKz5"
      },
      "source": [
        "## 1. Import libraries"
      ]
    },
    {
      "cell_type": "code",
      "execution_count": null,
      "metadata": {
        "id": "ZsKzhELSDKz5",
        "trusted": true
      },
      "outputs": [],
      "source": [
        "import pandas as pd\n",
        "import numpy as np\n",
        "import seaborn as sns\n",
        "import matplotlib.pyplot as plt\n",
        "from scipy import stats\n",
        "from scipy.stats import skewtest\n",
        "from scipy.stats import median_test\n",
        "from scipy.stats import shapiro\n",
        "import pylab\n",
        "from sklearn.neighbors import LocalOutlierFactor\n",
        "from scipy.stats import levene\n",
        "from statsmodels.stats.proportion import proportions_ztest\n",
        "from sklearn.impute import KNNImputer\n",
        "\n",
        "pd.set_option(\"display.max_columns\",None);\n",
        "pd.set_option(\"display.max_rows\",None);"
      ]
    },
    {
      "cell_type": "markdown",
      "metadata": {
        "id": "AMaVKs7CDKz6"
      },
      "source": [
        "## 2. Functions"
      ]
    },
    {
      "cell_type": "code",
      "execution_count": null,
      "metadata": {
        "id": "bwPNKkN3DKz7",
        "trusted": true
      },
      "outputs": [],
      "source": [
        "def read_data() :\n",
        "    \"\"\"\n",
        "      Reads and loads control and test group data from an Excel file.\n",
        "    - **Control group** (Maximum Bidding): Existing campaign data.\n",
        "    - **Test group** (Average Bidding): Data from the new bidding strategy.\n",
        "    The function removes rows with NaN values that originated from notes in the Excel file for the control group.\n",
        "    \"\"\"\n",
        "    #Maximum Bidding(Existing)\n",
        "    control = pd.read_excel(\"../input/ab-test-dataset/AB_Case_Study.xlsx\", sheet_name=\"Control Group\")\n",
        "    #Average Bidding(New)\n",
        "    test = pd.read_excel(\"../input/ab-test-dataset/AB_Case_Study.xlsx\", sheet_name=\"Test Group\")\n",
        "\n",
        "    #In the control dataframe, the rows containing NaN values from the 'note' column (imported from Excel) were removed\n",
        "    control.drop(control.index[[30,31]], inplace = True)\n",
        "\n",
        "    return control, test\n",
        "\n",
        "def get_catvar(df) :\n",
        "    \"\"\"\n",
        "    Identifies and extracts categorical variables from a DataFrame.\n",
        "    - Returns the original DataFrame, a DataFrame of only categorical variables, and the names of the categorical columns.\n",
        "    \"\"\"\n",
        "    cat_col = [col for col in df.columns if ( (df[col].dtype == 'object') | (df[col].dtype == 'bool'))]\n",
        "    kat_df = pd.DataFrame(df[cat_col], index = df[cat_col].index)\n",
        "    return df, kat_df, cat_col\n",
        "\n",
        "def get_numvar(cat_col,df):\n",
        "    \"\"\"\n",
        "    Identifies and extracts numerical variables from a DataFrame, excluding those specified as categorical.\n",
        "    - Returns the original DataFrame, a DataFrame of only numerical variables, and the names of the numerical columns.\n",
        "    \"\"\"\n",
        "    num_col = [c for c in df.columns if c not in cat_col]\n",
        "    num_df = pd.DataFrame(df[num_col], index = df[num_col].index)\n",
        "    return df, num_df, num_col\n",
        "\n",
        "def fill_NaNValue(num_control) :\n",
        "    \"\"\"\n",
        "    Implements K-Nearest Neighbors Imputation to fill in missing values in numerical columns of the control group.\n",
        "    - Returns a DataFrame with missing values filled.\n",
        "    \"\"\"\n",
        "    cols = num_control.columns\n",
        "    imputer = KNNImputer(n_neighbors=8)\n",
        "    num_control = imputer.fit_transform(num_control)\n",
        "    num_control=pd.DataFrame(num_control,columns=cols)\n",
        "    return num_control\n",
        "\n",
        "def convert_datatype(control):\n",
        "    \"\"\"\n",
        "      Converts specified columns in the control group DataFrame to integer data types.\n",
        "    - This is important for ensuring data consistency and correctness in calculations.\n",
        "    \"\"\"\n",
        "    control = control.astype({'# of Impressions' : 'int64',\n",
        "                        'Reach': 'int64',\n",
        "                        '# of Website Clicks' : 'int64',\n",
        "                        '# of Searches': 'int64',\n",
        "                        '# of View Content': 'int64',\n",
        "                        '# of Add to Cart': 'int64',\n",
        "                        '# of Purchase' : 'int64'})\n",
        "    return control\n",
        "\n",
        "def outliers(control, test):\n",
        "    \"\"\"\n",
        "    Detects and handles outliers in the test group data using Local Outlier Factor (LOF).\n",
        "    - Prints scores of the detected outliers and modifies extreme outlier values based on a specified threshold.\n",
        "    \"\"\"\n",
        "    clf= LocalOutlierFactor(n_neighbors = 20, contamination = 0.1)\n",
        "    clf.fit_predict(test.iloc[:,2:])[0:10]\n",
        "\n",
        "    test_scores=clf.negative_outlier_factor_\n",
        "    print(\"Test Score: \" , np.sort(test_scores)[0:20])\n",
        "    sns.boxplot(test_scores);\n",
        "\n",
        "    threshold=np.sort(test_scores)[4]\n",
        "    print(\"Threshold score: \", threshold)\n",
        "\n",
        "    test.loc[test_scores < -1.50].index\n",
        "    test.loc[test_scores == threshold]\n",
        "\n",
        "    test.iloc[0,2:]=[2742.245945,79574,57168,3086,1263,1098,226,277]\n",
        "    sns.boxplot(x=\"variable\", y=\"value\", data=pd.melt(test.iloc[:,3:5]));\n",
        "    sns.boxplot(x=\"variable\", y=\"value\", data=pd.melt(test.iloc[:,5:6]));\n",
        "    sns.boxplot(x=\"variable\", y=\"value\", data=pd.melt(test.iloc[:,6:]));\n",
        "\n",
        "\n",
        "def feature_engineering(control, test):\n",
        "    \"\"\"\n",
        "    Creates new features for both control and test groups to aid in analysis:\n",
        "    - Website Click Through Rate: The percentage of clicks per number of impressions.\n",
        "    - Number of Action: Sum of various engagement metrics like impressions, clicks, etc.\n",
        "    - Cost per Action: The spend divided by the number of actions.\n",
        "    - Conversion Rate: The number of actions divided by the number of clicks, expressed as a percentage.\n",
        "    \"\"\"\n",
        "    control[\"Website Click Through Rate\"] = control[\"# of Website Clicks\"] / control[\"# of Impressions\"] * 100\n",
        "    test[\"Website Click Through Rate\"] = test[\"# of Website Clicks\"] / test[\"# of Impressions\"] * 100\n",
        "\n",
        "    control[\"Number of Action\"] = control[\"# of Impressions\"] + control[\"# of Website Clicks\"] + control[\"# of Searches\"] + control[\"# of View Content\"] + control[\"# of Add to Cart\"] + control[\"# of Purchase\"]\n",
        "    test[\"Number of Action\"] = test[\"# of Impressions\"] + test[\"# of Website Clicks\"] + test[\"# of Searches\"] + test[\"# of View Content\"] + test[\"# of Add to Cart\"] + test[\"# of Purchase\"]\n",
        "\n",
        "    control[\"Cost per Action\"] = control[\"Spend [USD]\"] / control[\"Number of Action\"]\n",
        "    test[\"Cost per Action\"] = test[\"Spend [USD]\"] / test[\"Number of Action\"]\n",
        "\n",
        "    control[\"Conversion Rate\"] = control[\"Number of Action\"] / control[\"# of Website Clicks\"] * 100\n",
        "    test[\"Conversion Rate\"] = test[\"Number of Action\"] / test[\"# of Website Clicks\"] * 100\n",
        "\n",
        "    return control, test\n",
        "\n",
        "def data_prepare_for_visualization(control,test):\n",
        "    \"\"\"\n",
        "    Prepares control and test group data for visualization by extracting specific metrics and labeling them for group comparison.\n",
        "    - Returns a consolidated DataFrame of both groups for visualization purposes.\n",
        "    \"\"\"\n",
        "    control_nop = pd.DataFrame(control[\"# of Purchase\"])\n",
        "    test_nop = pd.DataFrame(test[\"# of Purchase\"])\n",
        "\n",
        "    control_wctr= pd.DataFrame(control[\"Website Click Through Rate\"])\n",
        "    test_wctr= pd.DataFrame(test[\"Website Click Through Rate\"])\n",
        "\n",
        "    control_cpa= pd.DataFrame(control[\"Cost per Action\"])\n",
        "    test_cpa= pd.DataFrame(test[\"Cost per Action\"])\n",
        "\n",
        "    control_cr= pd.DataFrame(control[\"Conversion Rate\"])\n",
        "    test_cr= pd.DataFrame(test[\"Conversion Rate\"])\n",
        "\n",
        "    Group_A = pd.concat([control_nop, control_wctr, control_cpa, control_cr], axis = 1)\n",
        "    Group_A[\"Group\"] = \"A (MaximumBidding)\"\n",
        "\n",
        "    Group_B = pd.concat([test_nop, test_wctr, test_cpa, test_cr], axis = 1)\n",
        "    Group_B[\"Group\"] = \"B (AverageBidding)\"\n",
        "\n",
        "    #Tum veri\n",
        "    AB = pd.concat([Group_A, Group_B])\n",
        "    AB\n",
        "    return AB, control_nop, test_nop\n",
        "\n",
        "def data_prepare_for_hypothesis_testing(control_nop, test_nop):\n",
        "    \"\"\"\n",
        "    Prepares control and test group data for hypothesis testing by combining \"# of Purchase\" data into a single DataFrame.\n",
        "    - The resulting DataFrame is structured for direct comparison between groups.\n",
        "    \"\"\"\n",
        "    controlB = pd.concat([control_nop, test_nop], axis = 1)\n",
        "    controlB.columns = [\"A\",\"B\"]\n",
        "    return controlB\n",
        "\n",
        "def num_boxplot(fig, axarr, dimension, cols, hue):\n",
        "    \"\"\"\n",
        "    A helper function for plotting boxplots of numerical data, categorized by the experiment group.\n",
        "    - It iterates over specified dimensions and columns to generate boxplots for visual analysis.\n",
        "    \"\"\"\n",
        "    for i in dimension :\n",
        "        for j in dimension :\n",
        "            for c in cols :\n",
        "                sns.boxplot(y=c, x = hue, hue = hue, data = AB, ax=axarr[i][j])\n",
        "                cols.remove(c)\n",
        "                break\n",
        "\n",
        "def show_boxplot(nrows, ncols, boyut, cols, figsize):\n",
        "    \"\"\"\n",
        "    Generates boxplots for the specified columns and groups, utilizing `num_boxplot`.\n",
        "    - Allows specification of the number of rows and columns in the figure, and figure size.\n",
        "    \"\"\"\n",
        "    fig, axarr = plt.subplots(nrows, ncols, figsize=figsize)\n",
        "    num_boxplot(fig, axarr, boyut, cols, \"Group\")\n",
        "\n",
        "\n",
        "def checkReject(p_value, alpha = 0.05):\n",
        "    \"\"\"\n",
        "    Checks whether the p-value from hypothesis testing is significant enough to reject the null hypothesis, given an alpha level (default 0.05).\n",
        "    - Prints the outcome of the hypothesis test in the context of rejecting or not rejecting the null hypothesis.\n",
        "    \"\"\"\n",
        "    if p_value < alpha :\n",
        "        print(f'{p_value} < alpha(0.05) so >>> H0 REJECTED')\n",
        "\n",
        "    elif p_value > alpha :\n",
        "        print(f'{p_value} > alpha(0.05) so >>> H0 CAN\\'T BE REJECTED')"
      ]
    },
    {
      "cell_type": "markdown",
      "metadata": {
        "id": "eTVHnvKUDKz8"
      },
      "source": [
        "## 3. Data Preparation"
      ]
    },
    {
      "cell_type": "code",
      "execution_count": null,
      "metadata": {
        "id": "gi6ROl-bpgDK"
      },
      "outputs": [],
      "source": [
        "# TODO : Import the dataset available here : https://www.kaggle.com/code/dillonmyrick/a-b-test-hypothesis-testing-for-e-commerce/input\n"
      ]
    },
    {
      "cell_type": "code",
      "execution_count": null,
      "metadata": {
        "id": "FKB1Gtm5DKz8",
        "trusted": true
      },
      "outputs": [],
      "source": [
        "control, test = read_data()"
      ]
    },
    {
      "cell_type": "code",
      "execution_count": null,
      "metadata": {
        "id": "A7ip7bmEDKz9",
        "trusted": true
      },
      "outputs": [],
      "source": [
        "#TODO : print what is control"
      ]
    },
    {
      "cell_type": "code",
      "execution_count": null,
      "metadata": {
        "id": "i5g2eQGeDKz9",
        "trusted": true
      },
      "outputs": [],
      "source": [
        "#TODO : print what is test"
      ]
    },
    {
      "cell_type": "code",
      "execution_count": null,
      "metadata": {
        "id": "VSQKSys2DKz-",
        "trusted": true
      },
      "outputs": [],
      "source": [
        "#TODO : check for null values in control"
      ]
    },
    {
      "cell_type": "code",
      "execution_count": null,
      "metadata": {
        "id": "XUBSKm7dDKz_",
        "trusted": true
      },
      "outputs": [],
      "source": [
        "#TODO : segment the control DataFrame into two separate DataFrames based on data type: one for categorical variables (kat_control) and one for numerical variables (num_control).\n",
        "#TODO :produces lists of column names for both categories for further use or reference."
      ]
    },
    {
      "cell_type": "code",
      "execution_count": null,
      "metadata": {
        "id": "0JmqqTWJDKz_",
        "trusted": true
      },
      "outputs": [],
      "source": [
        "# TODO : Fill the control dataframe values NaN value with KNNImputer."
      ]
    },
    {
      "cell_type": "code",
      "execution_count": null,
      "metadata": {
        "id": "fvBuwD66DK0B",
        "trusted": true
      },
      "outputs": [],
      "source": [
        "# TODO : Combine categorical and numerical variables with the concept."
      ]
    },
    {
      "cell_type": "code",
      "execution_count": null,
      "metadata": {
        "id": "upfhU8BZDK0C",
        "trusted": true
      },
      "outputs": [],
      "source": [
        "# Let's do a data type conversion.\n",
        "\n",
        "control = convert_datatype(control)\n",
        "\n",
        "print(control.shape)\n",
        "print(test.shape)"
      ]
    },
    {
      "cell_type": "code",
      "execution_count": null,
      "metadata": {
        "id": "FsNo0ySmDK0C",
        "trusted": true
      },
      "outputs": [],
      "source": [
        "# Check your dataframes\n",
        "\n",
        "print(control.info())\n",
        "print(test.info())"
      ]
    },
    {
      "cell_type": "markdown",
      "metadata": {
        "id": "3fgAFAElDK0C"
      },
      "source": [
        "## 4. Preparing Data for Hypothesis Testing (A/B Test)\n",
        "\n"
      ]
    },
    {
      "cell_type": "code",
      "execution_count": null,
      "metadata": {
        "id": "dGIMTMSVDK0C",
        "trusted": true
      },
      "outputs": [],
      "source": [
        "#TODO : Apply the feature engineering on control and test, what does the function do exactly ?\n",
        "\n",
        "#TODO : Prepare and generate features for visualization with the help of a function"
      ]
    },
    {
      "cell_type": "markdown",
      "metadata": {
        "id": "zWhSa2gMDK0D"
      },
      "source": [
        "Let's look at the numbers A and B."
      ]
    },
    {
      "cell_type": "code",
      "execution_count": null,
      "metadata": {
        "id": "kqButFScDK0D",
        "trusted": true
      },
      "outputs": [],
      "source": [
        "AB[\"Group\"].value_counts()"
      ]
    },
    {
      "cell_type": "markdown",
      "metadata": {
        "id": "LcQoKNZfDK0D"
      },
      "source": [
        "### 4.1. Website Click Through Rate (CTR)\n",
        "Review :\n",
        "- It is a rate that shows how often the users who saw the ad CLICK the ad.\n",
        "- Number of Ad Clicks / Number of Ad Displays\n",
        "- Example: 5 clicks, CTR at 100 impressions = 5%\n",
        "\n",
        "- ##### Use visualizations to compare test and control group metrics, such as Website Click Through Rate, Cost per Action, and Conversion Rates in addition to Purchase numbers."
      ]
    },
    {
      "cell_type": "code",
      "execution_count": null,
      "metadata": {
        "id": "sWYF0FWdDK0D",
        "trusted": true
      },
      "outputs": [],
      "source": [
        "cols = [\"Website Click Through Rate\",\"Cost per Action\",\"Conversion Rate\",\"# of Purchase\"]\n",
        "show_boxplot(2,2,[0,1],cols,(18,9))"
      ]
    },
    {
      "cell_type": "code",
      "execution_count": null,
      "metadata": {
        "id": "J2o5A1f1DK0D",
        "trusted": true
      },
      "outputs": [],
      "source": [
        "#TODO : create your dataframe for AB test and print the first 3 rows of it.\n"
      ]
    },
    {
      "cell_type": "markdown",
      "metadata": {
        "id": "yoYPauAlDK0E"
      },
      "source": [
        "## 5. Two Independent Sample T-Test\n",
        "### 5.1. Assumption Check\n",
        "#### 5.1.1. Normality Assumption (shapiro test)\n",
        "\n",
        " * **H0**: Normal distribution assumption is provided.\n",
        " * **H1**: ... not provided."
      ]
    },
    {
      "cell_type": "code",
      "execution_count": null,
      "metadata": {
        "id": "4xMzj7PtDK0E",
        "trusted": true
      },
      "outputs": [],
      "source": [
        "#TODO : Aply the normality assumption of the dataframe for A\n"
      ]
    },
    {
      "cell_type": "code",
      "execution_count": null,
      "metadata": {
        "id": "xGiKQEHrDK0E",
        "trusted": true
      },
      "outputs": [],
      "source": [
        "#TODO : compute p_value for normality on group A from the df_AB dataframe and round it to three decimal places.\n",
        "#TODO : pass it to a function checkReject to determine if the null hypothesis of normality should be rejected."
      ]
    },
    {
      "cell_type": "markdown",
      "metadata": {
        "id": "87fl16JsiHQE"
      },
      "source": [
        "Does the HO hypothesis get rejected ? why ?"
      ]
    },
    {
      "cell_type": "code",
      "execution_count": null,
      "metadata": {
        "id": "JTIwYUqvDK0E",
        "trusted": true
      },
      "outputs": [],
      "source": [
        "#TODO : Aply the normality assumption of the dataframe for B\n"
      ]
    },
    {
      "cell_type": "code",
      "execution_count": null,
      "metadata": {
        "id": "ZA0hl-TSDK0F",
        "trusted": true
      },
      "outputs": [],
      "source": [
        "#TODO : compute p_value for normality on group B from the df_AB dataframe and round it to three decimal places.\n",
        "#TODO : pass it to a function checkReject to determine if the null hypothesis of normality should be rejected."
      ]
    },
    {
      "cell_type": "markdown",
      "metadata": {
        "id": "vsUYfCduDK0F"
      },
      "source": [
        "Does the HO hypothesis get rejected ? why ?"
      ]
    },
    {
      "cell_type": "markdown",
      "metadata": {
        "id": "oCfcl_20DK0F"
      },
      "source": [
        "### 5.1.2. Variance Homogeneity Assumption\n",
        " * **H0** : Variances are homogeneous.\n",
        " * **H1** : Variances are not homogeneous.\n",
        "\n",
        "We want to assess if A and B have equal variances, which is a common assumption for various statistical tests :"
      ]
    },
    {
      "cell_type": "code",
      "execution_count": null,
      "metadata": {
        "id": "s6bpC7E_DK0F",
        "trusted": true
      },
      "outputs": [],
      "source": [
        "#TODO : Performs the Levene test for equality of variances on two groups, A and B, from the df_AB dataframe"
      ]
    },
    {
      "cell_type": "code",
      "execution_count": null,
      "metadata": {
        "id": "Ev9jAkruDK0F",
        "trusted": true
      },
      "outputs": [],
      "source": [
        "#TODO : compute the p_value of the df_AB dataframe and round it to three decimal places.\n",
        "#TODO : pass it to a function checkReject to determine if the null hypothesis of normality should be rejected."
      ]
    },
    {
      "cell_type": "markdown",
      "metadata": {
        "id": "jvKow9iTDK0F"
      },
      "source": [
        "\n",
        "Conclude about the variances, are they homogeneous ?"
      ]
    },
    {
      "cell_type": "markdown",
      "metadata": {
        "id": "fs4VQn0sDK0G"
      },
      "source": [
        "### 5.1.3. Nonparametric Independent Two-Sample T-Test\n",
        "\n",
        "- Since the normality of the distribution of the data set in which Average Bidding (Test Group) was measured was rejected, the NonParametric Independent Two-Sample T Test was applied for the Hypothesis Test.\n",
        "\n",
        "**Hypothesis:**\n",
        "\n",
        " * **H0** : When it comes to Maximum Bidding and Average Bidding, there is no statistically significant difference between the purchasing amounts of the two groups. ($\\mu_1 = \\mu_2$)\n",
        "\n",
        " * **H1** : ... there is a difference ($\\mu_1 \\neq \\mu_2$)"
      ]
    },
    {
      "cell_type": "code",
      "execution_count": null,
      "metadata": {
        "id": "b0SwcIuwDK0G",
        "trusted": true
      },
      "outputs": [],
      "source": [
        "# Average Biddingin (Test Group)\n",
        "stats.mannwhitneyu(df_AB[\"A\"], df_AB[\"B\"])"
      ]
    },
    {
      "cell_type": "code",
      "execution_count": null,
      "metadata": {
        "id": "t_QXVREQDK0G",
        "trusted": true
      },
      "outputs": [],
      "source": [
        "#TODO : compute the p_value of the df_AB dataframe and round it to three decimal places.\n",
        "#TODO : pass it to a function checkReject to determine if the null hypothesis of normality should be rejected."
      ]
    },
    {
      "cell_type": "markdown",
      "metadata": {
        "id": "FlZXI66ODK0G"
      },
      "source": [
        "Should the H0 hypothesis be rejected ? Why ? What can you conclude ?"
      ]
    },
    {
      "cell_type": "markdown",
      "metadata": {
        "id": "G5x0g1X1DK0G"
      },
      "source": [
        "## 6. Conclusion and Evaluation\n",
        "\n",
        "\n",
        "##### You should answer the following questions :\n",
        "\n",
        "\n",
        "**1. How would you define the hypothesis of this A/B test ?**\n",
        "\n",
        "\n",
        "   \n",
        "**2. Can we conclude statistically significant results?**\n",
        "\n",
        "  \n",
        "\n",
        "\n",
        "**3. Which statistical test did you use, and why?**\n",
        "   \n",
        "    \n",
        "**4. Based on your answer to Question 2, what would be your recommendation to client?**\n",
        "\n",
        "   "
      ]
    }
  ],
  "metadata": {
    "colab": {
      "provenance": []
    },
    "kaggle": {
      "accelerator": "none",
      "dataSources": [
        {
          "datasetId": 971923,
          "sourceId": 1643659,
          "sourceType": "datasetVersion"
        }
      ],
      "dockerImageVersionId": 30028,
      "isGpuEnabled": false,
      "isInternetEnabled": false,
      "language": "python",
      "sourceType": "notebook"
    },
    "kernelspec": {
      "display_name": "Python 3",
      "language": "python",
      "name": "python3"
    },
    "language_info": {
      "codemirror_mode": {
        "name": "ipython",
        "version": 3
      },
      "file_extension": ".py",
      "mimetype": "text/x-python",
      "name": "python",
      "nbconvert_exporter": "python",
      "pygments_lexer": "ipython3",
      "version": "3.6.4"
    }
  },
  "nbformat": 4,
  "nbformat_minor": 0
}
