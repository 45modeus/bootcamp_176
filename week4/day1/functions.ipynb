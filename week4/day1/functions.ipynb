{
 "cells": [
  {
   "cell_type": "code",
   "execution_count": 9,
   "id": "13219423",
   "metadata": {},
   "outputs": [],
   "source": [
    "#function definition\n",
    "def greet(): \n",
    "    print('hello')\n",
    "    print('world')"
   ]
  },
  {
   "cell_type": "code",
   "execution_count": null,
   "id": "862c4714",
   "metadata": {},
   "outputs": [
    {
     "name": "stdout",
     "output_type": "stream",
     "text": [
      "hello\n",
      "world\n"
     ]
    }
   ],
   "source": [
    "greet() #function call"
   ]
  },
  {
   "cell_type": "code",
   "execution_count": 12,
   "id": "c2d374e5",
   "metadata": {},
   "outputs": [
    {
     "name": "stdout",
     "output_type": "stream",
     "text": [
      "program starts\n",
      "hello\n",
      "world\n",
      "2\n",
      "program ends\n",
      "hello\n",
      "world\n"
     ]
    }
   ],
   "source": [
    "print('program starts')\n",
    "x=1\n",
    "y=2\n",
    "z=x+1\n",
    "\n",
    "greet()\n",
    "\n",
    "print(z)\n",
    "print('program ends')\n",
    "greet()"
   ]
  },
  {
   "cell_type": "code",
   "execution_count": 13,
   "id": "aa7e599d",
   "metadata": {},
   "outputs": [
    {
     "name": "stdout",
     "output_type": "stream",
     "text": [
      "hello\n",
      "world\n",
      "hello\n",
      "world\n",
      "hello\n",
      "world\n",
      "hello\n",
      "world\n",
      "hello\n",
      "world\n",
      "hello\n",
      "world\n",
      "hello\n",
      "world\n",
      "hello\n",
      "world\n",
      "hello\n",
      "world\n",
      "hello\n",
      "world\n"
     ]
    }
   ],
   "source": [
    "for i in range (10):\n",
    "    greet()"
   ]
  },
  {
   "cell_type": "code",
   "execution_count": null,
   "id": "89d331dd",
   "metadata": {},
   "outputs": [
    {
     "name": "stdout",
     "output_type": "stream",
     "text": [
      "main program starts\n",
      "test function\n",
      "test2 function\n",
      "test function\n",
      "main program starts\n"
     ]
    }
   ],
   "source": [
    "#function definitions\n",
    "def test():\n",
    "    print('test function')\n",
    "    \n",
    "def test2():\n",
    "    print('test2 function')\n",
    "\n",
    "#main program\n",
    "\n",
    "if __name__== '__main__': #check if the script is being run directly\n",
    "    print('main program starts')\n",
    "    test()\n",
    "    test2()\n",
    "    test()\n",
    "    print('main program starts')"
   ]
  },
  {
   "cell_type": "code",
   "execution_count": null,
   "id": "242ed81d",
   "metadata": {},
   "outputs": [
    {
     "name": "stdout",
     "output_type": "stream",
     "text": [
      "hi\n",
      "3\n"
     ]
    }
   ],
   "source": [
    "#function definitions\n",
    "def sayHi(): #function definition\n",
    "    print('hi')\n",
    "\n",
    "\n",
    "#main program\n",
    "a=1\n",
    "b=2\n",
    "c=a+b\n",
    "sayHi() #function call\n",
    "print(c)"
   ]
  }
 ],
 "metadata": {
  "kernelspec": {
   "display_name": "Python 3",
   "language": "python",
   "name": "python3"
  },
  "language_info": {
   "codemirror_mode": {
    "name": "ipython",
    "version": 3
   },
   "file_extension": ".py",
   "mimetype": "text/x-python",
   "name": "python",
   "nbconvert_exporter": "python",
   "pygments_lexer": "ipython3",
   "version": "3.10.2"
  }
 },
 "nbformat": 4,
 "nbformat_minor": 5
}
