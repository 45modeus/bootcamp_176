{
 "cells": [
  {
   "cell_type": "code",
   "execution_count": 1,
   "id": "13219423",
   "metadata": {},
   "outputs": [],
   "source": [
    "#function definition\n",
    "def greet(): \n",
    "    print('hello')\n",
    "    print('world')"
   ]
  },
  {
   "cell_type": "code",
   "execution_count": 2,
   "id": "862c4714",
   "metadata": {},
   "outputs": [
    {
     "name": "stdout",
     "output_type": "stream",
     "text": [
      "hello\n",
      "world\n"
     ]
    }
   ],
   "source": [
    "greet() #function call"
   ]
  },
  {
   "cell_type": "code",
   "execution_count": 3,
   "id": "c2d374e5",
   "metadata": {},
   "outputs": [
    {
     "name": "stdout",
     "output_type": "stream",
     "text": [
      "program starts\n",
      "hello\n",
      "world\n",
      "2\n",
      "program ends\n",
      "hello\n",
      "world\n"
     ]
    }
   ],
   "source": [
    "print('program starts')\n",
    "x=1\n",
    "y=2\n",
    "z=x+1\n",
    "\n",
    "greet()\n",
    "\n",
    "print(z)\n",
    "print('program ends')\n",
    "greet()"
   ]
  },
  {
   "cell_type": "code",
   "execution_count": 4,
   "id": "aa7e599d",
   "metadata": {},
   "outputs": [
    {
     "name": "stdout",
     "output_type": "stream",
     "text": [
      "hello\n",
      "world\n",
      "hello\n",
      "world\n",
      "hello\n",
      "world\n",
      "hello\n",
      "world\n",
      "hello\n",
      "world\n",
      "hello\n",
      "world\n",
      "hello\n",
      "world\n",
      "hello\n",
      "world\n",
      "hello\n",
      "world\n",
      "hello\n",
      "world\n"
     ]
    }
   ],
   "source": [
    "for i in range (10):\n",
    "    greet()"
   ]
  },
  {
   "cell_type": "code",
   "execution_count": 5,
   "id": "89d331dd",
   "metadata": {},
   "outputs": [
    {
     "name": "stdout",
     "output_type": "stream",
     "text": [
      "main program starts\n",
      "test function\n",
      "test2 function\n",
      "test function\n",
      "main program starts\n"
     ]
    }
   ],
   "source": [
    "#function definitions\n",
    "def test():\n",
    "    print('test function')\n",
    "    \n",
    "def test2():\n",
    "    print('test2 function')\n",
    "\n",
    "#main program\n",
    "\n",
    "if __name__== '__main__': #check if the script is being run directly\n",
    "    print('main program starts')\n",
    "    test()\n",
    "    test2()\n",
    "    test()\n",
    "    print('main program starts')"
   ]
  },
  {
   "cell_type": "code",
   "execution_count": 6,
   "id": "242ed81d",
   "metadata": {},
   "outputs": [
    {
     "name": "stdout",
     "output_type": "stream",
     "text": [
      "hi\n",
      "3\n"
     ]
    }
   ],
   "source": [
    "#function definitions\n",
    "def sayHi(): #function definition\n",
    "    print('hi')\n",
    "\n",
    "\n",
    "#main program\n",
    "a=1\n",
    "b=2\n",
    "c=a+b\n",
    "sayHi() #function call\n",
    "print(c)"
   ]
  },
  {
   "cell_type": "code",
   "execution_count": 9,
   "id": "4088025d",
   "metadata": {},
   "outputs": [
    {
     "name": "stdout",
     "output_type": "stream",
     "text": [
      "Program starts\n",
      "1\n",
      "10\n",
      "Program ends\n"
     ]
    }
   ],
   "source": [
    "def test():\n",
    "    ax=1 #local variable\n",
    "    print(ax)\n",
    "    print(dx)\n",
    "\n",
    "\n",
    "#main program\n",
    "dx=10 #global variable\n",
    "print('Program starts')\n",
    "test()\n",
    "# print('Value of x is ', ax)\n",
    "print('Program ends')\n"
   ]
  },
  {
   "cell_type": "code",
   "execution_count": null,
   "id": "a297dee0",
   "metadata": {},
   "outputs": [
    {
     "name": "stdout",
     "output_type": "stream",
     "text": [
      "15.0\n"
     ]
    }
   ],
   "source": [
    "def average(num1,num2): #num1 and num2 are parameters\n",
    "    sum=num1+num2\n",
    "    avg=sum/2\n",
    "    print(avg)\n",
    "\n",
    "#main program\n",
    "average(10,20) #10 and 20 arguments"
   ]
  },
  {
   "cell_type": "code",
   "execution_count": 11,
   "id": "4b046606",
   "metadata": {},
   "outputs": [
    {
     "name": "stdout",
     "output_type": "stream",
     "text": [
      "25.0\n"
     ]
    }
   ],
   "source": [
    "def average4(num1,num2,num3, num4):\n",
    "    sum=num1+num2+num3+num4\n",
    "    avg=sum/4\n",
    "    print(avg)\n",
    "\n",
    "average4(10,20,30,40) "
   ]
  },
  {
   "cell_type": "code",
   "execution_count": null,
   "id": "dab43dcc",
   "metadata": {},
   "outputs": [
    {
     "name": "stdout",
     "output_type": "stream",
     "text": [
      "Average is  15.0\n"
     ]
    }
   ],
   "source": [
    "def average(num1,num2): \n",
    "    sum=num1+num2\n",
    "    avg=sum/2\n",
    "    return avg #return value\n",
    "\n",
    "#main program\n",
    "result=average(10,20) \n",
    "print('Average is ', result)"
   ]
  },
  {
   "cell_type": "code",
   "execution_count": 14,
   "id": "940d05dd",
   "metadata": {},
   "outputs": [
    {
     "name": "stdout",
     "output_type": "stream",
     "text": [
      "40.0\n"
     ]
    }
   ],
   "source": [
    "print(average(30,50))"
   ]
  },
  {
   "cell_type": "code",
   "execution_count": 16,
   "id": "c7f7f49b",
   "metadata": {},
   "outputs": [
    {
     "name": "stdout",
     "output_type": "stream",
     "text": [
      "Name: John Doe\n",
      "Address: 123 Main St\n",
      "Age: 0\n",
      "Nationality: Mauritian\n",
      "\n",
      "Name: Jane Doe\n",
      "Address: Ebene park\n",
      "Age: 0\n",
      "Nationality: Mauritian\n",
      "\n",
      "Name: Jack Sparrow\n",
      "Address: Port Louis\n",
      "Age: 0\n",
      "Nationality: Mauritian\n",
      "\n",
      "Name: Harry Potter\n",
      "Address: Curepipe\n",
      "Age: 0\n",
      "Nationality: Mauritian\n",
      "\n",
      "Name: Hermione Granger\n",
      "Address: Rose Hill\n",
      "Age: 20\n",
      "Nationality: Mauritian-British\n",
      "\n"
     ]
    }
   ],
   "source": [
    "def register(name, address, age, nationality):\n",
    "    print('Name:', name)\n",
    "    print('Address:', address)\n",
    "    print('Age:', age)\n",
    "    print('Nationality:',nationality)\n",
    "    print('')\n",
    "\n",
    "\n",
    "#main program\n",
    "register('John Doe', '123 Main St', 0, 'Mauritian')\n",
    "register('Jane Doe', 'Ebene park', 0, 'Mauritian')\n",
    "register('Jack Sparrow', 'Port Louis', 0, 'Mauritian')\n",
    "register('Harry Potter', 'Curepipe', 0, 'Mauritian')\n",
    "register('Hermione Granger', 'Rose Hill', 20, 'Mauritian-British')"
   ]
  },
  {
   "cell_type": "code",
   "execution_count": 17,
   "id": "6505e4e2",
   "metadata": {},
   "outputs": [
    {
     "ename": "TypeError",
     "evalue": "test() missing 2 required positional arguments: 'c' and 'd'",
     "output_type": "error",
     "traceback": [
      "\u001b[0;31m---------------------------------------------------------------------------\u001b[0m",
      "\u001b[0;31mTypeError\u001b[0m                                 Traceback (most recent call last)",
      "Cell \u001b[0;32mIn[17], line 7\u001b[0m\n\u001b[1;32m      4\u001b[0m     \u001b[38;5;28mprint\u001b[39m(c)\n\u001b[1;32m      5\u001b[0m     \u001b[38;5;28mprint\u001b[39m(d)\n\u001b[0;32m----> 7\u001b[0m \u001b[43mtest\u001b[49m\u001b[43m(\u001b[49m\u001b[43ma\u001b[49m\u001b[43m,\u001b[49m\u001b[43mb\u001b[49m\u001b[43m)\u001b[49m\n",
      "\u001b[0;31mTypeError\u001b[0m: test() missing 2 required positional arguments: 'c' and 'd'"
     ]
    }
   ],
   "source": [
    "def test(a,b,c,d):\n",
    "    print(a)\n",
    "    print(b)\n",
    "    print(c)\n",
    "    print(d)\n",
    "\n",
    "test(a,b)"
   ]
  },
  {
   "cell_type": "code",
   "execution_count": 19,
   "id": "2799a770",
   "metadata": {},
   "outputs": [
    {
     "name": "stdout",
     "output_type": "stream",
     "text": [
      "Name: John Doe\n",
      "Address: 123 Main St\n",
      "Age: 0\n",
      "Nationality: Mauritian\n",
      "\n",
      "Name: Jane Doe\n",
      "Address: Ebene park\n",
      "Age: 0\n",
      "Nationality: Mauritian\n",
      "\n",
      "Name: Jack Sparrow\n",
      "Address: Port Louis\n",
      "Age: 0\n",
      "Nationality: Mauritian\n",
      "\n",
      "Name: Harry Potter\n",
      "Address: Curepipe\n",
      "Age: 0\n",
      "Nationality: Mauritian\n",
      "\n",
      "Name: Hermione Granger\n",
      "Address: Rose Hill\n",
      "Age: 20\n",
      "Nationality: Mauritian-British\n",
      "\n"
     ]
    }
   ],
   "source": [
    "def register(name, address, age=0, nationality=\"Mauritian\"): #default parameters\n",
    "    print('Name:', name)\n",
    "    print('Address:', address)\n",
    "    print('Age:', age)\n",
    "    print('Nationality:',nationality)\n",
    "    print('')\n",
    "\n",
    "\n",
    "#main program\n",
    "register('John Doe', '123 Main St')\n",
    "register('Jane Doe', 'Ebene park')\n",
    "register('Jack Sparrow', 'Port Louis')\n",
    "register('Harry Potter', 'Curepipe')\n",
    "register('Hermione Granger', 'Rose Hill', 20, 'Mauritian-British')"
   ]
  },
  {
   "cell_type": "code",
   "execution_count": null,
   "id": "1f08aaed",
   "metadata": {},
   "outputs": [],
   "source": [
    "# def register(name,address, age=0, nationality=\"Mauritian\"): #default parameters\n",
    "\n",
    "\n",
    "# register('John Doe', '123 Main St','test')"
   ]
  },
  {
   "cell_type": "code",
   "execution_count": 23,
   "id": "a75938c0",
   "metadata": {},
   "outputs": [
    {
     "name": "stdout",
     "output_type": "stream",
     "text": [
      "15.0\n",
      "30.0\n"
     ]
    }
   ],
   "source": [
    "def average(x,y):\n",
    "    sum=x+y\n",
    "    avg=sum/2\n",
    "    print(avg)\n",
    "\n",
    "average(10,20)\n",
    "\n",
    "a=20\n",
    "b=40\n",
    "\n",
    "average(a,b)"
   ]
  },
  {
   "cell_type": "code",
   "execution_count": null,
   "id": "2f6a50cc",
   "metadata": {},
   "outputs": [
    {
     "name": "stdout",
     "output_type": "stream",
     "text": [
      "Name: John Doe\n",
      "Address: 123 Main St\n",
      "Age: 20\n",
      "Nationality: Franco-Mauritien\n",
      "\n",
      "Name: John Doe\n",
      "Address: 123 Main St\n",
      "Age: 20\n",
      "Nationality: Mauritian\n",
      "\n"
     ]
    }
   ],
   "source": [
    "def register(name, address, age=0, nationality=\"Mauritian\"): \n",
    "    print('Name:', name)\n",
    "    print('Address:', address)\n",
    "    print('Age:', age)\n",
    "    print('Nationality:',nationality)\n",
    "    print('')\n",
    "\n",
    "\n",
    "register('John Doe', '123 Main St', 20, 'Franco-Mauritien')\n",
    "\n",
    "\n",
    "register(nationality='Mauritian', address='123 Main St', age=20, name='John Doe') #keyword arguments"
   ]
  },
  {
   "cell_type": "code",
   "execution_count": 25,
   "id": "e5740922",
   "metadata": {},
   "outputs": [
    {
     "name": "stdout",
     "output_type": "stream",
     "text": [
      "Sum: 30\n",
      "Average: 15.0\n"
     ]
    }
   ],
   "source": [
    "def average(num1,num2):\n",
    "    sum=num1+num2\n",
    "    avg=sum/2\n",
    "    return sum, avg #return 2 values\n",
    "\n",
    "\n",
    "#main program\n",
    "sum, avg=average(10,20) #unpacking\n",
    "print('Sum:', sum)\n",
    "print('Average:', avg)\n"
   ]
  },
  {
   "cell_type": "code",
   "execution_count": null,
   "id": "51cd32a4",
   "metadata": {},
   "outputs": [],
   "source": []
  }
 ],
 "metadata": {
  "kernelspec": {
   "display_name": "Python 3",
   "language": "python",
   "name": "python3"
  },
  "language_info": {
   "codemirror_mode": {
    "name": "ipython",
    "version": 3
   },
   "file_extension": ".py",
   "mimetype": "text/x-python",
   "name": "python",
   "nbconvert_exporter": "python",
   "pygments_lexer": "ipython3",
   "version": "3.10.2"
  }
 },
 "nbformat": 4,
 "nbformat_minor": 5
}
