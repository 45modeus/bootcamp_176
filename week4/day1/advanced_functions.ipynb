{
 "cells": [
  {
   "cell_type": "code",
   "execution_count": 6,
   "id": "1980b2b7",
   "metadata": {},
   "outputs": [
    {
     "name": "stdout",
     "output_type": "stream",
     "text": [
      "Initial value of x 1\n",
      "Value of a inside function 2\n",
      "Value of x outside function 1\n"
     ]
    }
   ],
   "source": [
    "def test(a):\n",
    "    a=2\n",
    "    print('Value of a inside function', a)\n",
    "\n",
    "\n",
    "#main program\n",
    "\n",
    "x=1\n",
    "print('Initial value of x',x)\n",
    "test(x)\n",
    "print('Value of x outside function', x)\n",
    "\n"
   ]
  },
  {
   "cell_type": "code",
   "execution_count": null,
   "id": "a816c9ba",
   "metadata": {},
   "outputs": [
    {
     "name": "stdout",
     "output_type": "stream",
     "text": [
      "Initial value of marks [1, 2, 3, 4]\n",
      "Value of data inside function [10, 2, 3, 4]\n",
      "Value of marks outside function [10, 2, 3, 4]\n"
     ]
    }
   ],
   "source": [
    "def test(data):\n",
    "    data[0]=10\n",
    "    data[1]=20\n",
    "    data[2]=30\n",
    "    data[3]=40\n",
    "\n",
    "    print('Value of data inside function', data)\n",
    "\n",
    "\n",
    "#main program\n",
    "marks=[1,2,3,4]\n",
    "\n",
    "print('Initial value of marks', marks)\n",
    "test(marks)\n",
    "\n",
    "print('Value of marks outside function', marks)\n",
    "\n"
   ]
  },
  {
   "cell_type": "code",
   "execution_count": null,
   "id": "c6a2771d",
   "metadata": {},
   "outputs": [
    {
     "name": "stdout",
     "output_type": "stream",
     "text": [
      "Initia l value of prices_usd [10, 20, 30, 40]\n",
      "Value of data inside function [500, 1000, 1500, 2000]\n",
      "Value of prices_usd outside function [500, 1000, 1500, 2000]\n"
     ]
    }
   ],
   "source": [
    "def convert(data):\n",
    "    data[0]=data[0]*50\n",
    "    data[1]=data[1]*50\n",
    "    data[2]=data[2]*50\n",
    "    data[3]=data[3]*50\n",
    "\n",
    "\n",
    "    print('Value of data inside function', data)\n",
    "\n",
    "\n",
    "#main program\n",
    "prices_usd=[10,20,30,40]\n",
    "print('Initial value of prices_usd', prices_usd)\n",
    "convert(prices_usd)\n",
    "\n",
    "print('Value of prices_usd outside function', prices_usd)\n"
   ]
  },
  {
   "cell_type": "code",
   "execution_count": 9,
   "id": "4718d7f4",
   "metadata": {},
   "outputs": [
    {
     "name": "stdout",
     "output_type": "stream",
     "text": [
      "10\n"
     ]
    }
   ],
   "source": [
    "a=10\n",
    "b=a\n",
    "\n",
    "b=999\n",
    "\n",
    "\n",
    "print(a)"
   ]
  },
  {
   "cell_type": "code",
   "execution_count": 10,
   "id": "5d9ecd42",
   "metadata": {},
   "outputs": [
    {
     "name": "stdout",
     "output_type": "stream",
     "text": [
      "[99, 2, 3, 4]\n"
     ]
    }
   ],
   "source": [
    "a=[1,2,3,4]\n",
    "\n",
    "b=a\n",
    "\n",
    "b[0]=99\n",
    "\n",
    "print(a)"
   ]
  },
  {
   "cell_type": "code",
   "execution_count": 13,
   "id": "600960e3",
   "metadata": {},
   "outputs": [
    {
     "name": "stdout",
     "output_type": "stream",
     "text": [
      "11\n"
     ]
    }
   ],
   "source": [
    "#lambda functions  -> anonymous functions\n",
    "\n",
    "inc = lambda x: x+1\n",
    "\n",
    "\n",
    "print(inc(10))\n",
    "\n",
    "\n"
   ]
  },
  {
   "cell_type": "code",
   "execution_count": 15,
   "id": "e3b1806f",
   "metadata": {},
   "outputs": [
    {
     "ename": "NameError",
     "evalue": "name 'add' is not defined",
     "output_type": "error",
     "traceback": [
      "\u001b[0;31m---------------------------------------------------------------------------\u001b[0m",
      "\u001b[0;31mNameError\u001b[0m                                 Traceback (most recent call last)",
      "Cell \u001b[0;32mIn[15], line 12\u001b[0m\n\u001b[1;32m      7\u001b[0m add(\u001b[38;5;241m10\u001b[39m,\u001b[38;5;241m20\u001b[39m)\n\u001b[1;32m     10\u001b[0m \u001b[38;5;28;01mdel\u001b[39;00m add\n\u001b[0;32m---> 12\u001b[0m \u001b[43madd\u001b[49m(\u001b[38;5;241m10\u001b[39m,\u001b[38;5;241m50\u001b[39m)\n",
      "\u001b[0;31mNameError\u001b[0m: name 'add' is not defined"
     ]
    }
   ],
   "source": [
    "add = lambda x,y: x+y\n",
    "\n",
    "\n",
    "# def add(x,y):\n",
    "#     return x+y\n",
    "\n",
    "add(10,20)\n",
    "\n",
    "\n",
    "del add\n",
    "\n",
    "add(10,50)"
   ]
  }
 ],
 "metadata": {
  "kernelspec": {
   "display_name": "Python 3",
   "language": "python",
   "name": "python3"
  },
  "language_info": {
   "codemirror_mode": {
    "name": "ipython",
    "version": 3
   },
   "file_extension": ".py",
   "mimetype": "text/x-python",
   "name": "python",
   "nbconvert_exporter": "python",
   "pygments_lexer": "ipython3",
   "version": "3.10.2"
  }
 },
 "nbformat": 4,
 "nbformat_minor": 5
}
