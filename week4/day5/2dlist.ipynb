{
 "cells": [
  {
   "cell_type": "code",
   "execution_count": 1,
   "id": "c8aef392",
   "metadata": {},
   "outputs": [
    {
     "name": "stdout",
     "output_type": "stream",
     "text": [
      "['Paul', 'John', 'George', 'Ringo']\n"
     ]
    }
   ],
   "source": [
    "names=['Paul', 'John', 'George', 'Ringo']\n",
    "\n",
    "print(names)"
   ]
  },
  {
   "cell_type": "code",
   "execution_count": null,
   "id": "157212ea",
   "metadata": {},
   "outputs": [
    {
     "data": {
      "text/plain": [
       "[[1, 2, 3], [4, 5, 6], [7, 8, 9]]"
      ]
     },
     "execution_count": 3,
     "metadata": {},
     "output_type": "execute_result"
    }
   ],
   "source": [
    "numbers=[[1,2,3],[4,5,6],[7,8,9]]\n",
    "numbers"
   ]
  },
  {
   "cell_type": "code",
   "execution_count": 4,
   "id": "130b92dd",
   "metadata": {},
   "outputs": [
    {
     "name": "stdout",
     "output_type": "stream",
     "text": [
      "[[1 2 3]\n",
      " [4 5 6]\n",
      " [7 8 9]]\n"
     ]
    }
   ],
   "source": [
    "import numpy as np\n",
    "\n",
    "nums=np.array(numbers)\n",
    "print(nums)"
   ]
  },
  {
   "cell_type": "code",
   "execution_count": 7,
   "id": "a39ca123",
   "metadata": {},
   "outputs": [
    {
     "name": "stdout",
     "output_type": "stream",
     "text": [
      "1 2 3 \n",
      "4 5 6 \n",
      "7 8 9 \n"
     ]
    }
   ],
   "source": [
    "numbers=[[1,2,3],[4,5,6],[7,8,9]]\n",
    "\n",
    "\n",
    "for row in numbers:\n",
    "    for num in row:\n",
    "        print(num, end=' ')\n",
    "    print()"
   ]
  },
  {
   "cell_type": "code",
   "execution_count": 8,
   "id": "6834f79b",
   "metadata": {},
   "outputs": [
    {
     "name": "stdout",
     "output_type": "stream",
     "text": [
      "[[-1, -2], [[0, 1], [1, 2]], [4, 5, 6], [7, 8, 9]]\n"
     ]
    }
   ],
   "source": [
    "test=[[-1,-2],[[0,1],[1,2]],[4,5,6],[7,8,9]]\n",
    "print(test)"
   ]
  },
  {
   "cell_type": "code",
   "execution_count": null,
   "id": "9937a47f",
   "metadata": {},
   "outputs": [
    {
     "name": "stdout",
     "output_type": "stream",
     "text": [
      "[[30, 53, 63], [29, 6, 94], [34, 2, 43]]\n",
      "[[30 53 63]\n",
      " [29  6 94]\n",
      " [34  2 43]]\n"
     ]
    }
   ],
   "source": [
    "marks=[[30,53,63],[29,6,94],[34,2,43]]\n",
    "marks_np=np.array(marks)\n",
    "print(marks_np)"
   ]
  },
  {
   "cell_type": "code",
   "execution_count": 14,
   "id": "0e9861ad",
   "metadata": {},
   "outputs": [
    {
     "name": "stdout",
     "output_type": "stream",
     "text": [
      "[29, 6, 94]\n",
      "6\n",
      "43\n"
     ]
    }
   ],
   "source": [
    "print(marks[1])\n",
    "\n",
    "print(marks[1][1])\n",
    "\n",
    "print(marks[2][2])"
   ]
  },
  {
   "cell_type": "code",
   "execution_count": 16,
   "id": "9f178125",
   "metadata": {},
   "outputs": [
    {
     "name": "stdout",
     "output_type": "stream",
     "text": [
      "[0, 1, 2, 3, 4, 5, 6, 7, 8, 9, 10, 11, 12, 13, 14, 15, 16, 17, 18, 19, 20, 21, 22, 23, 24, 25, 26, 27, 28, 29, 30, 31, 32, 33, 34, 35, 36, 37, 38, 39, 40, 41, 42, 43, 44, 45, 46, 47, 48, 49, 50, 51, 52, 53, 54, 55, 56, 57, 58, 59, 60, 61, 62, 63, 64, 65, 66, 67, 68, 69, 70, 71, 72, 73, 74, 75, 76, 77, 78, 79, 80, 81, 82, 83, 84, 85, 86, 87, 88, 89, 90, 91, 92, 93, 94, 95, 96, 97, 98, 99]\n"
     ]
    }
   ],
   "source": [
    "nums=[]\n",
    "\n",
    "for i in range(100):\n",
    "    nums.append(i)\n",
    "\n",
    "print(nums)"
   ]
  },
  {
   "cell_type": "code",
   "execution_count": 41,
   "id": "7a1bd149",
   "metadata": {},
   "outputs": [
    {
     "name": "stdout",
     "output_type": "stream",
     "text": [
      "X\n",
      "['O']\n",
      "Player 1: X player 2: O\n"
     ]
    }
   ],
   "source": [
    "import random\n",
    "choices= ['X', 'O']\n",
    "choice=player1_choice=random.choice(choices)\n",
    "\n",
    "print(choice)\n",
    "choices.remove(player1_choice)\n",
    "\n",
    "print(choices)\n",
    "player2_choice=random.choice(choices)\n",
    "\n",
    "print(f'Player 1: {player1_choice} player 2: {player2_choice}')\n"
   ]
  },
  {
   "cell_type": "code",
   "execution_count": 42,
   "id": "5db5160c",
   "metadata": {},
   "outputs": [
    {
     "name": "stdout",
     "output_type": "stream",
     "text": [
      "[[30, 53, 63], [29, 6, 10], [34, 2, 43]]\n"
     ]
    }
   ],
   "source": [
    "marks=[[30,53,63],[29,6,94],[34,2,43]]\n",
    "\n",
    "marks[1][2]=10\n",
    "\n",
    "print(marks)"
   ]
  }
 ],
 "metadata": {
  "kernelspec": {
   "display_name": "Python 3",
   "language": "python",
   "name": "python3"
  },
  "language_info": {
   "codemirror_mode": {
    "name": "ipython",
    "version": 3
   },
   "file_extension": ".py",
   "mimetype": "text/x-python",
   "name": "python",
   "nbconvert_exporter": "python",
   "pygments_lexer": "ipython3",
   "version": "3.10.2"
  }
 },
 "nbformat": 4,
 "nbformat_minor": 5
}
