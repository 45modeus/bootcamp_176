{
 "cells": [
  {
   "cell_type": "code",
   "execution_count": 3,
   "id": "482cd91f",
   "metadata": {},
   "outputs": [],
   "source": [
    "#syntax errors\n",
    "#logical error"
   ]
  },
  {
   "cell_type": "code",
   "execution_count": 4,
   "id": "256d5982",
   "metadata": {},
   "outputs": [
    {
     "ename": "SyntaxError",
     "evalue": "invalid syntax (2797038351.py, line 3)",
     "output_type": "error",
     "traceback": [
      "\u001b[0;36m  Cell \u001b[0;32mIn[4], line 3\u001b[0;36m\u001b[0m\n\u001b[0;31m    if (x==1);\u001b[0m\n\u001b[0m             ^\u001b[0m\n\u001b[0;31mSyntaxError\u001b[0m\u001b[0;31m:\u001b[0m invalid syntax\n"
     ]
    }
   ],
   "source": [
    "x=1\n",
    "\n",
    "if (x==1);\n",
    "    print(\"x is 1\")\n",
    "else:\n",
    "    print(\"x is not 1\")\n"
   ]
  },
  {
   "cell_type": "code",
   "execution_count": null,
   "id": "44f76584",
   "metadata": {},
   "outputs": [
    {
     "ename": "ZeroDivisionError",
     "evalue": "division by zero",
     "output_type": "error",
     "traceback": [
      "\u001b[0;31m---------------------------------------------------------------------------\u001b[0m",
      "\u001b[0;31mZeroDivisionError\u001b[0m                         Traceback (most recent call last)",
      "Cell \u001b[0;32mIn[2], line 4\u001b[0m\n\u001b[1;32m      1\u001b[0m a\u001b[38;5;241m=\u001b[39m\u001b[38;5;241m10\u001b[39m\n\u001b[1;32m      2\u001b[0m b\u001b[38;5;241m=\u001b[39m\u001b[38;5;241m0\u001b[39m\n\u001b[0;32m----> 4\u001b[0m c\u001b[38;5;241m=\u001b[39m\u001b[43ma\u001b[49m\u001b[38;5;241;43m/\u001b[39;49m\u001b[43mb\u001b[49m\n\u001b[1;32m      5\u001b[0m \u001b[38;5;28mprint\u001b[39m(c)\n",
      "\u001b[0;31mZeroDivisionError\u001b[0m: division by zero"
     ]
    }
   ],
   "source": [
    "a=10\n",
    "b=0\n",
    "\n",
    "\n",
    "\n",
    "\n",
    "c=a/b\n",
    "print(c)"
   ]
  },
  {
   "cell_type": "code",
   "execution_count": null,
   "id": "e6832b70",
   "metadata": {},
   "outputs": [
    {
     "ename": "FileNotFoundError",
     "evalue": "[Errno 2] No such file or directory: 'tefst.txt'",
     "output_type": "error",
     "traceback": [
      "\u001b[0;31m---------------------------------------------------------------------------\u001b[0m",
      "\u001b[0;31mFileNotFoundError\u001b[0m                         Traceback (most recent call last)",
      "Cell \u001b[0;32mIn[4], line 1\u001b[0m\n\u001b[0;32m----> 1\u001b[0m file\u001b[38;5;241m=\u001b[39m \u001b[38;5;28;43mopen\u001b[39;49m\u001b[43m(\u001b[49m\u001b[38;5;124;43m\"\u001b[39;49m\u001b[38;5;124;43mtefst.txt\u001b[39;49m\u001b[38;5;124;43m\"\u001b[39;49m\u001b[43m,\u001b[49m\u001b[38;5;124;43m\"\u001b[39;49m\u001b[38;5;124;43mr\u001b[39;49m\u001b[38;5;124;43m\"\u001b[39;49m\u001b[43m)\u001b[49m\n\u001b[1;32m      2\u001b[0m \u001b[38;5;28mprint\u001b[39m(file\u001b[38;5;241m.\u001b[39mread())\n",
      "File \u001b[0;32m/Library/Frameworks/Python.framework/Versions/3.10/lib/python3.10/site-packages/IPython/core/interactiveshell.py:324\u001b[0m, in \u001b[0;36m_modified_open\u001b[0;34m(file, *args, **kwargs)\u001b[0m\n\u001b[1;32m    317\u001b[0m \u001b[38;5;28;01mif\u001b[39;00m file \u001b[38;5;129;01min\u001b[39;00m {\u001b[38;5;241m0\u001b[39m, \u001b[38;5;241m1\u001b[39m, \u001b[38;5;241m2\u001b[39m}:\n\u001b[1;32m    318\u001b[0m     \u001b[38;5;28;01mraise\u001b[39;00m \u001b[38;5;167;01mValueError\u001b[39;00m(\n\u001b[1;32m    319\u001b[0m         \u001b[38;5;124mf\u001b[39m\u001b[38;5;124m\"\u001b[39m\u001b[38;5;124mIPython won\u001b[39m\u001b[38;5;124m'\u001b[39m\u001b[38;5;124mt let you open fd=\u001b[39m\u001b[38;5;132;01m{\u001b[39;00mfile\u001b[38;5;132;01m}\u001b[39;00m\u001b[38;5;124m by default \u001b[39m\u001b[38;5;124m\"\u001b[39m\n\u001b[1;32m    320\u001b[0m         \u001b[38;5;124m\"\u001b[39m\u001b[38;5;124mas it is likely to crash IPython. If you know what you are doing, \u001b[39m\u001b[38;5;124m\"\u001b[39m\n\u001b[1;32m    321\u001b[0m         \u001b[38;5;124m\"\u001b[39m\u001b[38;5;124myou can use builtins\u001b[39m\u001b[38;5;124m'\u001b[39m\u001b[38;5;124m open.\u001b[39m\u001b[38;5;124m\"\u001b[39m\n\u001b[1;32m    322\u001b[0m     )\n\u001b[0;32m--> 324\u001b[0m \u001b[38;5;28;01mreturn\u001b[39;00m \u001b[43mio_open\u001b[49m\u001b[43m(\u001b[49m\u001b[43mfile\u001b[49m\u001b[43m,\u001b[49m\u001b[43m \u001b[49m\u001b[38;5;241;43m*\u001b[39;49m\u001b[43margs\u001b[49m\u001b[43m,\u001b[49m\u001b[43m \u001b[49m\u001b[38;5;241;43m*\u001b[39;49m\u001b[38;5;241;43m*\u001b[39;49m\u001b[43mkwargs\u001b[49m\u001b[43m)\u001b[49m\n",
      "\u001b[0;31mFileNotFoundError\u001b[0m: [Errno 2] No such file or directory: 'tefst.txt'"
     ]
    }
   ],
   "source": [
    "file= open(\"tefst.txt\",\"r\")\n",
    "print(file.read())"
   ]
  },
  {
   "cell_type": "code",
   "execution_count": null,
   "id": "726a059d",
   "metadata": {},
   "outputs": [
    {
     "name": "stdout",
     "output_type": "stream",
     "text": [
      "Program startrs\n",
      "Prtogramm runnng\n"
     ]
    },
    {
     "ename": "ZeroDivisionError",
     "evalue": "division by zero",
     "output_type": "error",
     "traceback": [
      "\u001b[0;31m---------------------------------------------------------------------------\u001b[0m",
      "\u001b[0;31mZeroDivisionError\u001b[0m                         Traceback (most recent call last)",
      "Cell \u001b[0;32mIn[5], line 5\u001b[0m\n\u001b[1;32m      3\u001b[0m y\u001b[38;5;241m=\u001b[39m\u001b[38;5;241m0\u001b[39m\n\u001b[1;32m      4\u001b[0m \u001b[38;5;28mprint\u001b[39m(\u001b[38;5;124m'\u001b[39m\u001b[38;5;124mPrtogramm runnng\u001b[39m\u001b[38;5;124m'\u001b[39m)\n\u001b[0;32m----> 5\u001b[0m result\u001b[38;5;241m=\u001b[39m\u001b[43mx\u001b[49m\u001b[38;5;241;43m/\u001b[39;49m\u001b[43my\u001b[49m\n\u001b[1;32m      6\u001b[0m \u001b[38;5;28mprint\u001b[39m(\u001b[38;5;124m'\u001b[39m\u001b[38;5;124mResult is:\u001b[39m\u001b[38;5;124m'\u001b[39m,result)\n\u001b[1;32m      8\u001b[0m \u001b[38;5;28mprint\u001b[39m(\u001b[38;5;124m'\u001b[39m\u001b[38;5;124mProgram ends\u001b[39m\u001b[38;5;124m'\u001b[39m)\n",
      "\u001b[0;31mZeroDivisionError\u001b[0m: division by zero"
     ]
    }
   ],
   "source": [
    "print('Program startrs')\n",
    "x=10\n",
    "y=0\n",
    "print('Prtogramm runnng')\n",
    "result=x/y\n",
    "print('Result is:',result)\n",
    "\n",
    "print('Program ends')"
   ]
  },
  {
   "cell_type": "code",
   "execution_count": null,
   "id": "27906c37",
   "metadata": {},
   "outputs": [],
   "source": [
    "try:\n",
    "    pass\n",
    "except:\n",
    "    print('Error')"
   ]
  },
  {
   "cell_type": "code",
   "execution_count": 7,
   "id": "4f941cd5",
   "metadata": {},
   "outputs": [
    {
     "name": "stdout",
     "output_type": "stream",
     "text": [
      "Program starts\n",
      "Prtogram runnning\n",
      "Error\n",
      "Result is: 2.0\n",
      "Program ends\n"
     ]
    }
   ],
   "source": [
    "print('Program starts')\n",
    "x=10\n",
    "y=0\n",
    "print('Prtogram runnning')\n",
    "\n",
    "try:\n",
    "    result=x/y\n",
    "   \n",
    "except:\n",
    "    print('Error')\n",
    "\n",
    "print('Result is:',result)\n",
    "\n",
    "print('Program ends')"
   ]
  },
  {
   "cell_type": "code",
   "execution_count": 9,
   "id": "ab6c0ce1",
   "metadata": {},
   "outputs": [
    {
     "name": "stdout",
     "output_type": "stream",
     "text": [
      "Program starts\n",
      "Result is: 10.0\n",
      "Program ends\n"
     ]
    }
   ],
   "source": [
    "#no error\n",
    "print('Program starts')\n",
    "try:\n",
    "    result=10/1\n",
    "    print('Result is:',result)\n",
    "except:\n",
    "    print('Error')\n",
    "\n",
    "print('Program ends')"
   ]
  },
  {
   "cell_type": "code",
   "execution_count": null,
   "id": "45aecf44",
   "metadata": {},
   "outputs": [
    {
     "name": "stdout",
     "output_type": "stream",
     "text": [
      "Program starts\n",
      "Error\n",
      "Program ends\n"
     ]
    }
   ],
   "source": [
    "#error\n",
    "print('Program starts')\n",
    "try:\n",
    "    result=10/0\n",
    "    print('Result is:',result)\n",
    "except:\n",
    "    print('Error')\n",
    "\n",
    "print('Program ends')\n"
   ]
  },
  {
   "cell_type": "code",
   "execution_count": 14,
   "id": "eddbdd45",
   "metadata": {},
   "outputs": [
    {
     "name": "stdout",
     "output_type": "stream",
     "text": [
      "Program starts\n",
      "Error:  division by zero\n",
      "Program ends\n"
     ]
    }
   ],
   "source": [
    "#no error\n",
    "print('Program starts')\n",
    "try:\n",
    "    result=10/0\n",
    "    print('Result is:',result)\n",
    "except Exception as e:\n",
    "    print('Error: ', e)\n",
    "\n",
    "print('Program ends')"
   ]
  },
  {
   "cell_type": "code",
   "execution_count": null,
   "id": "3a0502f9",
   "metadata": {},
   "outputs": [
    {
     "name": "stdout",
     "output_type": "stream",
     "text": [
      "Program starts\n",
      "Result is: 2.0\n",
      "Error:  This is a custom exception\n",
      "Program ends\n"
     ]
    }
   ],
   "source": [
    "#raise a custom exception\n",
    "print('Program starts')\n",
    "try:\n",
    "    result=10/5\n",
    "    print('Result is:',result)\n",
    "    raise Exception('This is a custom exception')\n",
    "except Exception as e:\n",
    "    print('Error: ', e)\n",
    "\n",
    "print('Program ends')"
   ]
  },
  {
   "cell_type": "code",
   "execution_count": null,
   "id": "bfd098b3",
   "metadata": {},
   "outputs": [
    {
     "name": "stdout",
     "output_type": "stream",
     "text": [
      "Program starts\n",
      "Error:  division by zero\n",
      "Program ends\n"
     ]
    }
   ],
   "source": [
    "print('Program starts')\n",
    "try:\n",
    "    result=10/0\n",
    "    print('Result is:',result)\n",
    "except Exception as e:\n",
    "    print('Error: ', e)\n",
    "\n",
    "else:\n",
    "\n",
    "print('Program ends')"
   ]
  },
  {
   "cell_type": "code",
   "execution_count": 17,
   "id": "0c7e6d18",
   "metadata": {},
   "outputs": [
    {
     "name": "stdout",
     "output_type": "stream",
     "text": [
      "0\n",
      "1\n",
      "2\n",
      "3\n",
      "4\n",
      "5\n",
      "6\n",
      "7\n",
      "8\n",
      "9\n",
      "10\n",
      "11\n",
      "12\n",
      "13\n",
      "14\n",
      "15\n",
      "16\n",
      "17\n",
      "18\n",
      "19\n",
      "20\n",
      "21\n",
      "22\n",
      "23\n",
      "24\n",
      "25\n",
      "26\n",
      "27\n",
      "28\n",
      "29\n",
      "30\n",
      "31\n",
      "32\n",
      "33\n",
      "34\n",
      "35\n",
      "36\n",
      "37\n",
      "38\n",
      "39\n",
      "40\n",
      "41\n",
      "42\n",
      "43\n",
      "44\n",
      "45\n",
      "46\n",
      "47\n",
      "48\n",
      "49\n",
      "50\n",
      "Error:  This is a custom exception\n"
     ]
    }
   ],
   "source": [
    "try:\n",
    "    for i in range(100):\n",
    "        print(i)\n",
    "        \n",
    "        if i==50:\n",
    "            raise Exception('This is a custom exception')\n",
    "        \n",
    "except Exception as e:\n",
    "    print('Error: ', e)"
   ]
  },
  {
   "cell_type": "code",
   "execution_count": 19,
   "id": "2366603e",
   "metadata": {},
   "outputs": [
    {
     "name": "stdout",
     "output_type": "stream",
     "text": [
      "0\n",
      "1\n",
      "2\n",
      "3\n",
      "4\n",
      "5\n",
      "6\n",
      "7\n",
      "8\n",
      "9\n",
      "10\n",
      "11\n",
      "12\n",
      "13\n",
      "14\n",
      "15\n",
      "16\n",
      "17\n",
      "18\n",
      "19\n",
      "20\n",
      "21\n",
      "22\n",
      "23\n",
      "24\n",
      "25\n",
      "26\n",
      "27\n",
      "28\n",
      "29\n",
      "30\n",
      "31\n",
      "32\n",
      "33\n",
      "34\n",
      "35\n",
      "36\n",
      "37\n",
      "38\n",
      "39\n",
      "40\n",
      "41\n",
      "42\n",
      "43\n",
      "44\n",
      "45\n",
      "46\n",
      "47\n",
      "48\n",
      "49\n",
      "Error:  This is a custom exception\n",
      "51\n",
      "52\n",
      "53\n",
      "54\n",
      "55\n",
      "56\n",
      "57\n",
      "58\n",
      "59\n",
      "60\n",
      "61\n",
      "62\n",
      "63\n",
      "64\n",
      "65\n",
      "66\n",
      "67\n",
      "68\n",
      "69\n",
      "70\n",
      "71\n",
      "72\n",
      "73\n",
      "74\n",
      "75\n",
      "76\n",
      "77\n",
      "78\n",
      "79\n",
      "80\n",
      "81\n",
      "82\n",
      "83\n",
      "84\n",
      "85\n",
      "86\n",
      "87\n",
      "88\n",
      "89\n",
      "90\n",
      "91\n",
      "92\n",
      "93\n",
      "94\n",
      "95\n",
      "96\n",
      "97\n",
      "98\n",
      "99\n"
     ]
    }
   ],
   "source": [
    "for i in range(100):\n",
    "    try:\n",
    "       \n",
    "        if i==50:\n",
    "            raise Exception('This is a custom exception')\n",
    "        \n",
    "        print(i)\n",
    "    except Exception as e:\n",
    "        print('Error: ', e)"
   ]
  },
  {
   "cell_type": "code",
   "execution_count": 25,
   "id": "da9adb69",
   "metadata": {},
   "outputs": [
    {
     "name": "stdout",
     "output_type": "stream",
     "text": [
      "Program starts\n",
      "Result is: 2.0\n",
      "No error occured\n",
      "Program ends\n"
     ]
    }
   ],
   "source": [
    "#else statement is triggered only if no error occurs\n",
    "print('Program starts')\n",
    "try:\n",
    "   x=10/5\n",
    "   print('Result is:',x)\n",
    "except:\n",
    "    print('Error')\n",
    "else:\n",
    "    print('No error occured')\n",
    "\n",
    "print('Program ends')"
   ]
  },
  {
   "cell_type": "code",
   "execution_count": null,
   "id": "676478a1",
   "metadata": {},
   "outputs": [
    {
     "name": "stdout",
     "output_type": "stream",
     "text": [
      "Program starts\n",
      "Error\n",
      "This block always executes\n"
     ]
    },
    {
     "ename": "ZeroDivisionError",
     "evalue": "division by zero",
     "output_type": "error",
     "traceback": [
      "\u001b[0;31m---------------------------------------------------------------------------\u001b[0m",
      "\u001b[0;31mZeroDivisionError\u001b[0m                         Traceback (most recent call last)",
      "Cell \u001b[0;32mIn[38], line 4\u001b[0m\n\u001b[1;32m      3\u001b[0m \u001b[38;5;28;01mtry\u001b[39;00m:\n\u001b[0;32m----> 4\u001b[0m    x\u001b[38;5;241m=\u001b[39m\u001b[38;5;241;43m10\u001b[39;49m\u001b[38;5;241;43m/\u001b[39;49m\u001b[38;5;241;43m0\u001b[39;49m\n\u001b[1;32m      5\u001b[0m    \u001b[38;5;28mprint\u001b[39m(\u001b[38;5;124m'\u001b[39m\u001b[38;5;124mResult is:\u001b[39m\u001b[38;5;124m'\u001b[39m,x)\n",
      "\u001b[0;31mZeroDivisionError\u001b[0m: division by zero",
      "\nDuring handling of the above exception, another exception occurred:\n",
      "\u001b[0;31mZeroDivisionError\u001b[0m                         Traceback (most recent call last)",
      "Cell \u001b[0;32mIn[38], line 9\u001b[0m\n\u001b[1;32m      7\u001b[0m \u001b[38;5;28;01mexcept\u001b[39;00m:\n\u001b[1;32m      8\u001b[0m     \u001b[38;5;28mprint\u001b[39m(\u001b[38;5;124m'\u001b[39m\u001b[38;5;124mError\u001b[39m\u001b[38;5;124m'\u001b[39m)\n\u001b[0;32m----> 9\u001b[0m     x\u001b[38;5;241m=\u001b[39m\u001b[38;5;241;43m10\u001b[39;49m\u001b[38;5;241;43m/\u001b[39;49m\u001b[38;5;241;43m0\u001b[39;49m\n\u001b[1;32m     10\u001b[0m \u001b[38;5;28;01melse\u001b[39;00m:\n\u001b[1;32m     11\u001b[0m     \u001b[38;5;28mprint\u001b[39m(\u001b[38;5;124m'\u001b[39m\u001b[38;5;124mNo error occured\u001b[39m\u001b[38;5;124m'\u001b[39m)\n",
      "\u001b[0;31mZeroDivisionError\u001b[0m: division by zero"
     ]
    }
   ],
   "source": [
    "#finally block is always executed regardless of error or no error\n",
    "print('Program starts')\n",
    "try:\n",
    "   x=10/0\n",
    "   print('Result is:',x)\n",
    "\n",
    "except:\n",
    "    print('Error')\n",
    "else: #optional\n",
    "    print('No error occured')\n",
    "finally: #optional\n",
    "    print('This block always executes')\n",
    "\n",
    "\n",
    "print('Program ends')"
   ]
  },
  {
   "cell_type": "code",
   "execution_count": null,
   "id": "4df81854",
   "metadata": {},
   "outputs": [
    {
     "name": "stdout",
     "output_type": "stream",
     "text": [
      "General Error: \n"
     ]
    }
   ],
   "source": [
    "try:\n",
    "    x=x/0\n",
    "except ZeroDivisionError:\n",
    "    print('Error: Division by zero')\n",
    "\n",
    "except Exception as e:\n",
    "    print('General Error: ')\n",
    "\n",
    "else:\n",
    "    print('No error occured')"
   ]
  },
  {
   "cell_type": "code",
   "execution_count": 45,
   "id": "8e66f94b",
   "metadata": {},
   "outputs": [
    {
     "name": "stdout",
     "output_type": "stream",
     "text": [
      "Assertion Error: c is not equal to 3\n",
      "This block always executes\n"
     ]
    }
   ],
   "source": [
    "a=10\n",
    "b=5\n",
    "\n",
    "\n",
    "c=a/b\n",
    "\n",
    "try:\n",
    "    assert c==3\n",
    "\n",
    "except AssertionError:\n",
    "    print('Assertion Error: c is not equal to 3')\n",
    "finally:\n",
    "    print('This block always executes')\n"
   ]
  },
  {
   "cell_type": "code",
   "execution_count": 49,
   "id": "091203de",
   "metadata": {},
   "outputs": [
    {
     "name": "stdout",
     "output_type": "stream",
     "text": [
      "All test cases passed\n"
     ]
    },
    {
     "data": {
      "text/plain": [
       "True"
      ]
     },
     "execution_count": 49,
     "metadata": {},
     "output_type": "execute_result"
    }
   ],
   "source": [
    "#Testing\n",
    "\n",
    "def avg(num1,num2):\n",
    "    sum=num1+num2\n",
    "    avg=sum/2\n",
    "    return avg\n",
    "\n",
    "def test_avg():\n",
    "    success=True\n",
    "    try:\n",
    "        assert avg(10,20)==15\n",
    "        assert avg(20,30)==25\n",
    "        assert avg(-30,60)==15\n",
    "        assert avg(0,0)==0\n",
    "        assert avg(0,-1)==-0.5\n",
    "    except:\n",
    "        success=False\n",
    "\n",
    "    if success==True:\n",
    "        print('All test cases passed')\n",
    "        return True\n",
    "    else:\n",
    "        print('Test cases failed')\n",
    "        return False\n",
    "\n",
    "\n",
    "test_avg()"
   ]
  }
 ],
 "metadata": {
  "kernelspec": {
   "display_name": "Python 3",
   "language": "python",
   "name": "python3"
  },
  "language_info": {
   "codemirror_mode": {
    "name": "ipython",
    "version": 3
   },
   "file_extension": ".py",
   "mimetype": "text/x-python",
   "name": "python",
   "nbconvert_exporter": "python",
   "pygments_lexer": "ipython3",
   "version": "3.10.2"
  }
 },
 "nbformat": 4,
 "nbformat_minor": 5
}
