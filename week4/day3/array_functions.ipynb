{
 "cells": [
  {
   "cell_type": "code",
   "execution_count": 7,
   "id": "c0e9de8d",
   "metadata": {},
   "outputs": [
    {
     "name": "stdout",
     "output_type": "stream",
     "text": [
      "[True, False, True, False, True, False, True, False, True, False]\n",
      "[1, 3, 5, 7, 9]\n"
     ]
    }
   ],
   "source": [
    "#filter\n",
    "\n",
    "numbers=[1, 2, 3, 4, 5, 6, 7, 8, 9, 10]\n",
    "\n",
    "def is_odd(num):\n",
    "    if num %2 ==1: \n",
    "        return True\n",
    "    return False\n",
    "\n",
    "odd_numbers = filter(is_odd, numbers)\n",
    "\n",
    "\n",
    "print(list(map(is_odd, numbers)))\n",
    "print(list(odd_numbers))"
   ]
  },
  {
   "cell_type": "code",
   "execution_count": 10,
   "id": "63dd4276",
   "metadata": {},
   "outputs": [
    {
     "name": "stdout",
     "output_type": "stream",
     "text": [
      "Original [0, 1, 2, 3, 4]\n",
      "[1, 2, 3, 4, 5]\n"
     ]
    }
   ],
   "source": [
    "numbers=[0,1,2,3,4]\n",
    "\n",
    "def increment(num):\n",
    "    return num + 1\n",
    "\n",
    "incremented_numbers = map(increment, numbers)\n",
    "\n",
    "print('Original', numbers)\n",
    "print(list(incremented_numbers))"
   ]
  },
  {
   "cell_type": "code",
   "execution_count": null,
   "id": "9651c675",
   "metadata": {},
   "outputs": [
    {
     "name": "stdout",
     "output_type": "stream",
     "text": [
      "Original words: ['hello', 'world', 'python']\n",
      "Uppercase words: ['HELLO', 'WORLD', 'PYTHON']\n"
     ]
    }
   ],
   "source": [
    "def uppercase(word):\n",
    "    return word.upper()\n",
    "\n",
    "words = ['hello', 'world', 'python']\n",
    "uppercase_words = map(uppercase, words)\n",
    "print('Original words:', words)\n",
    "print('Uppercase words:', list(uppercase_words))"
   ]
  },
  {
   "cell_type": "code",
   "execution_count": null,
   "id": "73487b31",
   "metadata": {},
   "outputs": [
    {
     "name": "stdout",
     "output_type": "stream",
     "text": [
      "Sum of numbers: 15\n"
     ]
    }
   ],
   "source": [
    "from functools import reduce\n",
    "\n",
    "def sum(a, b):\n",
    "    return a + b\n",
    "\n",
    "numbers1 = [1, 2, 3, 4, 5]\n",
    "\n",
    "total= reduce(sum, numbers1)\n",
    "print('Sum of numbers:', total)"
   ]
  }
 ],
 "metadata": {
  "kernelspec": {
   "display_name": "Python 3",
   "language": "python",
   "name": "python3"
  },
  "language_info": {
   "codemirror_mode": {
    "name": "ipython",
    "version": 3
   },
   "file_extension": ".py",
   "mimetype": "text/x-python",
   "name": "python",
   "nbconvert_exporter": "python",
   "pygments_lexer": "ipython3",
   "version": "3.10.2"
  }
 },
 "nbformat": 4,
 "nbformat_minor": 5
}
