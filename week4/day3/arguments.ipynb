{
 "cells": [
  {
   "cell_type": "code",
   "execution_count": 3,
   "id": "d122c168",
   "metadata": {},
   "outputs": [
    {
     "data": {
      "text/plain": [
       "6.0"
      ]
     },
     "execution_count": 3,
     "metadata": {},
     "output_type": "execute_result"
    }
   ],
   "source": [
    "def avg(num1,num2):\n",
    "    sum=num1 + num2\n",
    "    average = sum / 2\n",
    "    return average\n",
    "\n",
    "avg(10,2)\n"
   ]
  },
  {
   "cell_type": "code",
   "execution_count": 4,
   "id": "1326dcd4",
   "metadata": {},
   "outputs": [
    {
     "data": {
      "text/plain": [
       "5.0"
      ]
     },
     "execution_count": 4,
     "metadata": {},
     "output_type": "execute_result"
    }
   ],
   "source": [
    "def avg(num1,num2,num3):\n",
    "    sum=num1 + num2 + num3\n",
    "    average = sum / 3\n",
    "    return average\n",
    "\n",
    "avg(10,2,3)\n"
   ]
  },
  {
   "cell_type": "code",
   "execution_count": 5,
   "id": "7a8f4ad0",
   "metadata": {},
   "outputs": [
    {
     "data": {
      "text/plain": [
       "4.25"
      ]
     },
     "execution_count": 5,
     "metadata": {},
     "output_type": "execute_result"
    }
   ],
   "source": [
    "def avg(num1,num2,num3,num4):\n",
    "    sum=num1 + num2 + num3 + num4\n",
    "    average = sum / 4\n",
    "    return average\n",
    "\n",
    "avg(10,2,3,2)\n"
   ]
  },
  {
   "cell_type": "code",
   "execution_count": 16,
   "id": "6b386d02",
   "metadata": {},
   "outputs": [
    {
     "name": "stdout",
     "output_type": "stream",
     "text": [
      "(10, 2, 3, 2, 5, 6, 7, 8)\n",
      "(10, 10)\n",
      "(10, 20, 30, 40, 50, 60, 70, 80, 90)\n",
      "5.375\n",
      "10.0\n",
      "50.0\n",
      "100.0\n"
     ]
    }
   ],
   "source": [
    "def avg(*nums):\n",
    "    print(nums)\n",
    "    sum = 0\n",
    "    for num in nums:\n",
    "        sum= sum+num\n",
    "    average = sum / len(nums)\n",
    "    return average\n",
    "\n",
    "result=avg(10,2,3,2,5,6,7,8)\n",
    "result2=avg(10,10)\n",
    "result3= avg(10,20,30,40,50,60,70,80,90)\n",
    "\n",
    "\n",
    "print(result)\n",
    "print(result2)\n",
    "print(result3)\n",
    "print(result4)"
   ]
  },
  {
   "cell_type": "code",
   "execution_count": null,
   "id": "c85e766c",
   "metadata": {},
   "outputs": [],
   "source": [
    "def record(english, math, science):\n",
    "    print(\"English:\", english)\n",
    "    print(\"Math:\", math)\n",
    "    print(\"Science:\", science)\n",
    "\n",
    "record(60,30,50)\n",
    "record(english=100, math=90, science=79)\n"
   ]
  },
  {
   "cell_type": "code",
   "execution_count": 13,
   "id": "9052da87",
   "metadata": {},
   "outputs": [
    {
     "name": "stdout",
     "output_type": "stream",
     "text": [
      "name : John\n",
      "age : 25\n",
      "city : New York\n",
      "---------------------\n",
      "name : Alice\n",
      "age : 30\n",
      "city : Los Angeles\n",
      "occupation : Engineer\n",
      "---------------------\n",
      "name : Bob\n",
      "age : 22\n",
      "city : Chicago\n",
      "occupation : Designer\n",
      "hobby : Photography\n",
      "---------------------\n",
      "name : Charlie\n",
      "age : 28\n",
      "city : San Francisco\n",
      "occupation : Teacher\n",
      "hobby : Reading\n",
      "favorite_color : Blue\n",
      "---------------------\n"
     ]
    }
   ],
   "source": [
    "def record(**details):\n",
    "    for key,value in details.items():\n",
    "        print(key, \":\", value)\n",
    "    print(\"---------------------\")\n",
    "\n",
    "record(name=\"John\", age=25, city=\"New York\")\n",
    "record(name=\"Alice\", age=30, city=\"Los Angeles\", occupation=\"Engineer\")\n",
    "record(name=\"Bob\", age=22, city=\"Chicago\", occupation=\"Designer\", hobby=\"Photography\")\n",
    "record(name=\"Charlie\", age=28, city=\"San Francisco\", occupation=\"Teacher\", hobby=\"Reading\", favorite_color=\"Blue\")\n",
    "    \n"
   ]
  },
  {
   "cell_type": "code",
   "execution_count": 15,
   "id": "479f8f55",
   "metadata": {},
   "outputs": [
    {
     "name": "stdout",
     "output_type": "stream",
     "text": [
      "{'math': 100, 'english': 90, 'science': 79}\n",
      "math : 100\n",
      "english : 90\n",
      "science : 79\n",
      "---------------------\n",
      "{'english': 100, 'math': 90, 'science': 79, 'history': 80, 'geography': 70, 'art': 85}\n",
      "english : 100\n",
      "math : 90\n",
      "science : 79\n",
      "history : 80\n",
      "geography : 70\n",
      "art : 85\n",
      "---------------------\n"
     ]
    }
   ],
   "source": [
    "def record(**details):\n",
    "    print(details)\n",
    "    for key,value in details.items():\n",
    "        print(key, \":\", value)\n",
    "    print(\"---------------------\")\n",
    "\n",
    "record(math=100, english=90, science=79)\n",
    "record(english=100, math=90, science=79,history=80, geography=70, art=85)\n"
   ]
  },
  {
   "cell_type": "code",
   "execution_count": null,
   "id": "156725e4",
   "metadata": {},
   "outputs": [],
   "source": []
  }
 ],
 "metadata": {
  "kernelspec": {
   "display_name": "Python 3",
   "language": "python",
   "name": "python3"
  },
  "language_info": {
   "codemirror_mode": {
    "name": "ipython",
    "version": 3
   },
   "file_extension": ".py",
   "mimetype": "text/x-python",
   "name": "python",
   "nbconvert_exporter": "python",
   "pygments_lexer": "ipython3",
   "version": "3.10.2"
  }
 },
 "nbformat": 4,
 "nbformat_minor": 5
}
