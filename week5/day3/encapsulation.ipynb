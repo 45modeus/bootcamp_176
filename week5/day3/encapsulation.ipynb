{
 "cells": [
  {
   "cell_type": "code",
   "execution_count": null,
   "id": "fed108ae",
   "metadata": {},
   "outputs": [],
   "source": [
    "#types of attributes and methods\n",
    "#- public - accessible from anywhere (self, super(), instance, class)\n",
    "#- protected - accessible from within the class and its subclasses (self, super())\n",
    "#- private - accessible only from within the class (self) "
   ]
  },
  {
   "cell_type": "code",
   "execution_count": 2,
   "id": "3e703a66",
   "metadata": {},
   "outputs": [],
   "source": [
    "class BankAccount:\n",
    "    def __init__(self, name, address, balance):\n",
    "        self.name = name\n",
    "        self.address = address\n",
    "        self.balance = balance\n",
    "\n",
    "    def get_balance(self):\n",
    "        return self.balance \n",
    "    \n",
    "    def deposit(self, amount):\n",
    "        if amount > 0:\n",
    "            self.balance += amount\n",
    "            return True\n",
    "        return False\n",
    "    \n",
    "    def withdraw(self, amount):\n",
    "        if 0 < amount <= self.balance:\n",
    "            self.balance -= amount\n",
    "            return True\n",
    "        return False\n",
    "    \n",
    "    def info(self):\n",
    "        return f\"Account holder: {self.name}, Address: {self.address}, Balance: {self.balance}\""
   ]
  },
  {
   "cell_type": "code",
   "execution_count": null,
   "id": "8807aef1",
   "metadata": {},
   "outputs": [
    {
     "name": "stdout",
     "output_type": "stream",
     "text": [
      "Account holder: John Doe, Address: 123 Elm St, Balance: 1000.0\n",
      "Account holder: John Doe, Address: 123 Elm St, Balance: 1500.0\n",
      "Account holder: John Doe, Address: 123 Elm St, Balance: 9999999999999999999999\n"
     ]
    }
   ],
   "source": [
    "#main program\n",
    "\n",
    "x1= BankAccount(\"John Doe\", \"123 Elm St\", 1000.0)\n",
    "print(x1.info())\n",
    "x1.deposit(500)\n",
    "print(x1.info())\n",
    "\n",
    "\n",
    "\n",
    "x1.balance=9999999999999999999999\n",
    "print(x1.info())\n"
   ]
  },
  {
   "cell_type": "code",
   "execution_count": null,
   "id": "0ddaf48c",
   "metadata": {},
   "outputs": [],
   "source": [
    "class BankAccount:\n",
    "    def __init__(self, name, address, balance):\n",
    "        self.name = name\n",
    "        self.address = address\n",
    "        self.__balance = balance # private attribute\n",
    "\n",
    "    def get_balance(self):\n",
    "        return self.__balance \n",
    "    \n",
    "    def deposit(self, amount):\n",
    "        if amount > 0:\n",
    "            self.__balance += amount\n",
    "            return True\n",
    "        return False\n",
    "    \n",
    "    def withdraw(self, amount):\n",
    "        if 0 < amount <= self.__balance:\n",
    "            self.__balance -= amount\n",
    "            return True\n",
    "        return False\n",
    "    \n",
    "    def info(self):\n",
    "        return f\"Account holder: {self.name}, Address: {self.address}, Balance: {self.__balance}\""
   ]
  },
  {
   "cell_type": "code",
   "execution_count": 25,
   "id": "df846d01",
   "metadata": {},
   "outputs": [
    {
     "name": "stdout",
     "output_type": "stream",
     "text": [
      "Account holder: John Doe, Address: 123 Elm St, Balance: 1000.0\n",
      "Account holder: John Doe, Address: 123 Elm St, Balance: 1500.0\n",
      "Account holder: John Doe, Address: 123 Elm St, Balance: 1500.0\n"
     ]
    }
   ],
   "source": [
    "#main program\n",
    "\n",
    "x1= BankAccount(\"John Doe\", \"123 Elm St\", 1000.0)\n",
    "print(x1.info())\n",
    "x1.deposit(500)\n",
    "print(x1.info())\n",
    "\n",
    "\n",
    "\n",
    "x1.__balance=9999999999999999999999\n",
    "print(x1.info())"
   ]
  }
 ],
 "metadata": {
  "kernelspec": {
   "display_name": "Python 3",
   "language": "python",
   "name": "python3"
  },
  "language_info": {
   "codemirror_mode": {
    "name": "ipython",
    "version": 3
   },
   "file_extension": ".py",
   "mimetype": "text/x-python",
   "name": "python",
   "nbconvert_exporter": "python",
   "pygments_lexer": "ipython3",
   "version": "3.10.2"
  }
 },
 "nbformat": 4,
 "nbformat_minor": 5
}
