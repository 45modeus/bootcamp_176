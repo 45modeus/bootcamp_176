{
 "cells": [
  {
   "cell_type": "code",
   "execution_count": null,
   "id": "9426c94e",
   "metadata": {},
   "outputs": [
    {
     "name": "stdout",
     "output_type": "stream",
     "text": [
      "{'c': ['cat', 'cougar'], 'd': ['dog'], 'f': ['fish'], 'b': ['bird', 'baboon', 'bear'], 'h': ['hamster'], 'r': ['rabbit']}\n"
     ]
    }
   ],
   "source": [
    "animals=[\"cat\", \"dog\", \"fish\", \"bird\",\"hamster\", \"rabbit\",\"baboon\",\"bear\", \"cougar\"]\n",
    "\n",
    "sorted_animals={}\n",
    "\n",
    "# sorted_animals={\"c\":['cat','cougar']}\n",
    "\n",
    "for animal in animals:\n",
    "    first_letter=animal[0].strip().lower()\n",
    "    if first_letter not in sorted_animals:\n",
    "        sorted_animals[first_letter]=[]\n",
    "        sorted_animals[first_letter].append(animal)\n",
    "    else:\n",
    "        sorted_animals[first_letter].append(animal)\n",
    "\n",
    "\n",
    "print(sorted_animals)"
   ]
  }
 ],
 "metadata": {
  "kernelspec": {
   "display_name": "Python 3",
   "language": "python",
   "name": "python3"
  },
  "language_info": {
   "codemirror_mode": {
    "name": "ipython",
    "version": 3
   },
   "file_extension": ".py",
   "mimetype": "text/x-python",
   "name": "python",
   "nbconvert_exporter": "python",
   "pygments_lexer": "ipython3",
   "version": "3.10.2"
  }
 },
 "nbformat": 4,
 "nbformat_minor": 5
}
