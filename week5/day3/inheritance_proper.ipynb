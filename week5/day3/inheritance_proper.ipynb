{
 "cells": [
  {
   "cell_type": "code",
   "execution_count": 1,
   "id": "f381e5a3",
   "metadata": {},
   "outputs": [],
   "source": [
    "class User: #parent class\n",
    "    def __init__(self, NIC, name, age, address, phone):\n",
    "        self.NIC = NIC\n",
    "        self.name = name\n",
    "        self.age = age\n",
    "        self.address = address\n",
    "        self.phone = phone\n",
    "\n",
    "    def test(self):\n",
    "        print(\"Test method called\")"
   ]
  },
  {
   "cell_type": "code",
   "execution_count": null,
   "id": "91966b7c",
   "metadata": {},
   "outputs": [],
   "source": [
    "class Student(User): # child class Inherits from User\n",
    "    def __init__(self, NIC, name, age, address, phone, student_id):\n",
    "        User.__init__(self, NIC, name, age, address, phone)\n",
    "        self.student_id = student_id\n",
    "        self.registered_course = None\n",
    "\n",
    "    def register(self, course):\n",
    "        self.registered_course = course\n",
    "        \n",
    "    def info(self):\n",
    "        print(\"Student Information:\", self.NIC, self.name, self.age, self.address, self.phone, self.student_id, self.registered_course)"
   ]
  },
  {
   "cell_type": "code",
   "execution_count": 3,
   "id": "8ec1f2a1",
   "metadata": {},
   "outputs": [],
   "source": [
    "class Lecturer(User): # Inherits from User\n",
    "    def __init__(self, NIC, name, age, address, phone, salary, office_number):\n",
    "        User.__init__(self, NIC, name, age, address, phone)\n",
    "        self.salary = salary\n",
    "        self.office_number = office_number\n",
    "\n",
    "    def get_new_office(self, office_number):\n",
    "        self.office_number = office_number\n",
    "\n",
    "    def info(self):\n",
    "        print(\"Lecturer Information:\", self.NIC, self.name, self.age, self.address, self.phone, self.salary, self.office_number)\n",
    "\n",
    "    "
   ]
  },
  {
   "cell_type": "code",
   "execution_count": 4,
   "id": "98252458",
   "metadata": {},
   "outputs": [
    {
     "name": "stdout",
     "output_type": "stream",
     "text": [
      "Student Information: 123456789V Tom 20 Colombo 0771234567 S001 Python Programming\n",
      "Test method called\n",
      "------------\n",
      "Lecturer Information: 987654321V Jane 35 Kandy 0777654321 50000 Room 102\n",
      "Test method called\n"
     ]
    }
   ],
   "source": [
    "tom= Student(\"123456789V\", \"Tom\", 20, \"Colombo\", \"0771234567\", \"S001\")\n",
    "tom.register(\"Python Programming\")\n",
    "tom.info()\n",
    "tom.test()\n",
    "\n",
    "print('------------')\n",
    "jane = Lecturer(\"987654321V\", \"Jane\", 35, \"Kandy\", \"0777654321\", 50000, \"Room 101\")\n",
    "jane.get_new_office(\"Room 102\")\n",
    "jane.info()\n",
    "jane.test()"
   ]
  },
  {
   "cell_type": "code",
   "execution_count": 11,
   "id": "fe52a3e5",
   "metadata": {},
   "outputs": [
    {
     "name": "stdout",
     "output_type": "stream",
     "text": [
      "This animal is a: dog\n",
      "WOUAF\n",
      "This animal is a: cat\n",
      "MIAOU\n"
     ]
    }
   ],
   "source": [
    "class Animal():\n",
    "    def __init__(self, type, number_legs, sound):\n",
    "        self.type = type\n",
    "        self.number_legs = number_legs\n",
    "        self.sound = sound\n",
    "\n",
    "    def make_sound(self):\n",
    "        print(f\"I am an animal, and I love saying {self.sound}\")\n",
    "\n",
    "class Dog(Animal):\n",
    "    def make_sound(self):\n",
    "        print(f\"WOUAF\")\n",
    "\n",
    "class Cat(Animal):\n",
    "    def make_sound(self):\n",
    "        print(f\"MIAOU\")\n",
    "\n",
    "rex= Dog(\"dog\", 4, \"wouaf\")\n",
    "print('This animal is a:', rex.type)\n",
    "rex.make_sound()\n",
    "\n",
    "pinpim= Cat(\"cat\", 4, \"meow\")\n",
    "print('This animal is a:', pinpim.type)\n",
    "pinpim.make_sound()"
   ]
  },
  {
   "cell_type": "code",
   "execution_count": 12,
   "id": "363c3653",
   "metadata": {},
   "outputs": [
    {
     "name": "stdout",
     "output_type": "stream",
     "text": [
      "This animal is a: dog\n",
      "wouaf\n",
      "This animal is a: cat\n",
      "meow\n"
     ]
    }
   ],
   "source": [
    "class Animal():\n",
    "    def __init__(self, type, number_legs, sound):\n",
    "        self.type = type\n",
    "        self.number_legs = number_legs\n",
    "        self.sound = sound\n",
    "\n",
    "class Dog(Animal):\n",
    "    pass\n",
    "\n",
    "class Cat(Animal):\n",
    "    pass\n",
    "\n",
    "#interface\n",
    "def make_sound(animal):\n",
    "    print(animal.sound)\n",
    "\n",
    "\n",
    "rex= Dog(\"dog\", 4, \"wouaf\")\n",
    "print('This animal is a:', rex.type)\n",
    "make_sound(rex)\n",
    "\n",
    "pinpim= Cat(\"cat\", 4, \"meow\")\n",
    "print('This animal is a:', pinpim.type)\n",
    "make_sound(pinpim)"
   ]
  }
 ],
 "metadata": {
  "kernelspec": {
   "display_name": "Python 3",
   "language": "python",
   "name": "python3"
  },
  "language_info": {
   "codemirror_mode": {
    "name": "ipython",
    "version": 3
   },
   "file_extension": ".py",
   "mimetype": "text/x-python",
   "name": "python",
   "nbconvert_exporter": "python",
   "pygments_lexer": "ipython3",
   "version": "3.10.2"
  }
 },
 "nbformat": 4,
 "nbformat_minor": 5
}
