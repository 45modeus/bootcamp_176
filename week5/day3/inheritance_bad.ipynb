{
 "cells": [
  {
   "cell_type": "code",
   "execution_count": 7,
   "id": "756e22b4",
   "metadata": {},
   "outputs": [],
   "source": [
    "class Student:\n",
    "    def __init__(self, NIC, name, age, address, phone, student_id):\n",
    "        self.NIC = NIC\n",
    "        self.name = name\n",
    "        self.age = age\n",
    "        self.address = address\n",
    "        self.phone = phone\n",
    "        self.student_id = student_id\n",
    "        self.registered_course = None\n",
    "\n",
    "    def register(self, course):\n",
    "        self.registered_course = course\n",
    "\n",
    "    def test(self):\n",
    "        print(\"Test method called\")\n",
    "        \n",
    "    def info(self):\n",
    "        print(\"Student Information:\", self.NIC, self.name, self.age, self.address, self.phone, self.student_id, self.registered_course)"
   ]
  },
  {
   "cell_type": "code",
   "execution_count": 8,
   "id": "6de2fb97",
   "metadata": {},
   "outputs": [],
   "source": [
    "class Lecturer: \n",
    "    def __init__(self, NIC, name, age, address, phone, salary, office_number):\n",
    "        self.NIC = NIC\n",
    "        self.name = name\n",
    "        self.age = age\n",
    "        self.address = address\n",
    "        self.phone = phone\n",
    "        self.salary = salary\n",
    "        self.office_number = office_number\n",
    "\n",
    "    def get_new_office(self, office_number):\n",
    "        self.office_number = office_number\n",
    "\n",
    "    def test(self):\n",
    "        print(\"Test method called\")\n",
    "\n",
    "    def info(self):\n",
    "        print(\"Lecturer Information:\", self.NIC, self.name, self.age, self.address, self.phone, self.salary, self.office_number)"
   ]
  },
  {
   "cell_type": "code",
   "execution_count": 11,
   "id": "12607c69",
   "metadata": {},
   "outputs": [
    {
     "name": "stdout",
     "output_type": "stream",
     "text": [
      "Student Information: 123456789V Tom 20 Colombo 0771234567 S001 Python Programming\n",
      "Test method called\n",
      "------------\n",
      "Lecturer Information: 987654321V Jane 35 Kandy 0777654321 50000 Room 102\n",
      "Test method called\n"
     ]
    }
   ],
   "source": [
    "tom= Student(\"123456789V\", \"Tom\", 20, \"Colombo\", \"0771234567\", \"S001\")\n",
    "tom.register(\"Python Programming\")\n",
    "tom.info()\n",
    "tom.test()\n",
    "\n",
    "print('------------')\n",
    "jane = Lecturer(\"987654321V\", \"Jane\", 35, \"Kandy\", \"0777654321\", 50000, \"Room 101\")\n",
    "jane.get_new_office(\"Room 102\")\n",
    "jane.info()\n",
    "jane.test()"
   ]
  },
  {
   "cell_type": "markdown",
   "id": "9bbe6ea1",
   "metadata": {},
   "source": []
  },
  {
   "cell_type": "markdown",
   "id": "cd55a04f",
   "metadata": {},
   "source": [
    "# Above is a bad example\n",
    "\n",
    "\n",
    "# Below is a good example"
   ]
  },
  {
   "cell_type": "code",
   "execution_count": null,
   "id": "8eedc163",
   "metadata": {},
   "outputs": [],
   "source": []
  }
 ],
 "metadata": {
  "kernelspec": {
   "display_name": "Python 3",
   "language": "python",
   "name": "python3"
  },
  "language_info": {
   "codemirror_mode": {
    "name": "ipython",
    "version": 3
   },
   "file_extension": ".py",
   "mimetype": "text/x-python",
   "name": "python",
   "nbconvert_exporter": "python",
   "pygments_lexer": "ipython3",
   "version": "3.10.2"
  }
 },
 "nbformat": 4,
 "nbformat_minor": 5
}
