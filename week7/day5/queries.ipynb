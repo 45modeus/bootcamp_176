{
 "cells": [
  {
   "cell_type": "code",
   "execution_count": null,
   "id": "8c2c2d86",
   "metadata": {},
   "outputs": [],
   "source": [
    "-- alter table products\n",
    "-- add constraint positive_price CHECK (price>=0);\n",
    "\n",
    "\n",
    "-- select *\n",
    "-- from products;\n",
    "\n",
    "\n",
    "insert into products\n",
    "values('11','Test',200,'Test',-1,'test',true,null);\n"
   ]
  },
  {
   "cell_type": "code",
   "execution_count": null,
   "id": "86130472",
   "metadata": {},
   "outputs": [],
   "source": [
    "  -- Alter table books\n",
    "  -- update constraint set books_sid_fkey to FOREIGN KEY (sid) REFERENCES shelf(sid) ON UPDATE cascade;\n",
    "  \n",
    "-- ALter table books\n",
    "-- drop constraint books_sid_fkey;\n",
    "\n",
    "\n",
    "Alter table books\n",
    "Add constraint books_sid_fkey FOREIGN KEY (sid) REFERENCES shelf(sid) ON UPDATE cascade;\n",
    "  "
   ]
  },
  {
   "cell_type": "code",
   "execution_count": null,
   "id": "984be6d6",
   "metadata": {},
   "outputs": [],
   "source": [
    "select\n",
    "from table1\n",
    "join table2\n",
    "on table1.id = table2.id\n",
    "join table3\n",
    "on table2.id = table3.id;\n",
    "\n",
    "\n"
   ]
  }
 ],
 "metadata": {
  "language_info": {
   "name": "python"
  }
 },
 "nbformat": 4,
 "nbformat_minor": 5
}
