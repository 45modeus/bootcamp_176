{
 "cells": [
  {
   "cell_type": "code",
   "execution_count": null,
   "id": "4d322aa3",
   "metadata": {},
   "outputs": [],
   "source": [
    "select name, quantity, price as price_usd\n",
    "from products\n",
    "Order by price ASC;\n"
   ]
  },
  {
   "cell_type": "code",
   "execution_count": null,
   "id": "57242a9e",
   "metadata": {},
   "outputs": [],
   "source": [
    "select name, quantity, price as price_usd, price * 50 as price_mur , price * quantity *50 as inventory_cost_mur\n",
    "from products\n",
    "Order by price ASC;"
   ]
  },
  {
   "cell_type": "code",
   "execution_count": null,
   "id": "5dc3be88",
   "metadata": {},
   "outputs": [],
   "source": [
    "-- select avg (price)\n",
    "-- from products\n",
    "\n",
    "-- select avg (price) as avg_price_usd, avg (price *50) as avg_price_mur, sum(price) as total_price, sum(quantity) as total_inventory\n",
    "-- from products\n",
    "\n",
    "\n",
    "-- select count(distinct category)\n",
    "-- from products\n",
    "\n",
    "-- select distinct category from products;\n",
    "\n",
    "select max(price), min(price)\n",
    "from products"
   ]
  },
  {
   "cell_type": "code",
   "execution_count": null,
   "id": "3b71e332",
   "metadata": {},
   "outputs": [],
   "source": [
    "Create table shelf(\n",
    "  sid varchar(10) Primary key,\n",
    "  genre text,\n",
    "  location text\n",
    ");\n",
    "\n",
    "Create table books(\n",
    "  id varchar(10) Primary key,\n",
    "  title text unique,\n",
    "  author text,\n",
    "  sid varchar(10) references shelf(sid)\n",
    ");\n",
    "\n",
    "\n",
    "\n",
    "\n",
    "-- staff(\n",
    "--   sid primary key\n",
    "--   name,\n",
    "--   dob,\n",
    "--   salary,\n",
    "--   did\n",
    "-- )\n",
    "\n",
    "-- dept(\n",
    "--   did primayr key,\n",
    "--   name,\n",
    "--   category,\n",
    "--   manager\n",
    "-- )"
   ]
  },
  {
   "cell_type": "code",
   "execution_count": null,
   "id": "1967ea03",
   "metadata": {},
   "outputs": [],
   "source": [
    "-- select * from books;\n",
    "\n",
    "-- select * from shelf;\n",
    "\n",
    "-- select *\n",
    "-- from books as b, shelf as s\n",
    "-- where b.sid=s.sid;\n",
    "\n",
    "\n",
    "-- select *\n",
    "-- from books\n",
    "-- Inner join shelf\n",
    "-- on books.sid = shelf.sid\n",
    "\n",
    "-- select *\n",
    "-- from books as b\n",
    "-- Inner join shelf as s\n",
    "-- on b.sid = s.sid\n",
    "\n",
    "\n",
    "-- select b.id, b.title, b.author, s.genre, s.location\n",
    "-- from books as b\n",
    "-- Inner join shelf as s\n",
    "-- on b.sid = s.sid\n",
    "\n",
    "select b.id, b.title, b.author, s.genre, s.location\n",
    "from books as b\n",
    "Full join shelf as s\n",
    "on b.sid = s.sid\n"
   ]
  }
 ],
 "metadata": {
  "language_info": {
   "name": "python"
  }
 },
 "nbformat": 4,
 "nbformat_minor": 5
}
