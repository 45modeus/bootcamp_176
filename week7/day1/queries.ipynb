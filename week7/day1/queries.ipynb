{
 "cells": [
  {
   "cell_type": "code",
   "execution_count": null,
   "id": "c47a2556",
   "metadata": {},
   "outputs": [],
   "source": [
    "CREATE TABLE products (\n",
    "  id varchar(15) PRIMARY KEY,\n",
    "  name varchar(255) NOT null,\n",
    "  quantity int,\n",
    "  category varchar(50),\n",
    "  price float,\n",
    "  description varchar(255),\n",
    "  sales Boolean DEFAULT false,\n",
    "  expiry_date date\n",
    ")\n"
   ]
  },
  {
   "cell_type": "code",
   "execution_count": null,
   "id": "73bc8bfb",
   "metadata": {},
   "outputs": [],
   "source": [
    "CREATE TABLE users(\n",
    "  id varchar(15) primary key,\n",
    "  name varchar(255), \n",
    "  email varchar(255) unique,\n",
    "  address varchar(255)\n",
    ")"
   ]
  },
  {
   "cell_type": "code",
   "execution_count": null,
   "id": "34947064",
   "metadata": {},
   "outputs": [],
   "source": [
    "CREATE TABLE users(\n",
    "  id varchar(15) primary key,\n",
    "  name varchar(255), \n",
    "  email varchar(255) unique,\n",
    "  address varchar(255)\n",
    ")\n"
   ]
  },
  {
   "cell_type": "code",
   "execution_count": null,
   "id": "f64d62a2",
   "metadata": {},
   "outputs": [],
   "source": [
    "INSERT INTO users\n",
    "Values('2','Eric Kam', 'eric@gmail.com', 'FLorida, USA'),\n",
    "('3','Paul Walker','paul@gmail.com','UK'),\n",
    "('4','Rota Uto','utpo@gmail.com','Japan'),\n",
    "('5','Sora','sora@gmail.com','China');"
   ]
  },
  {
   "cell_type": "code",
   "execution_count": null,
   "id": "6218cbd1",
   "metadata": {},
   "outputs": [],
   "source": [
    "Insert into products (id,name, quantity,category, price, description, expiry_date, sales)\n",
    "Values('1', 'Gaming Mouse GX100', 120, 'Gaming Accessories', 59.99, 'High-precision RGB gaming mouse',NULL, False),\n",
    "('2', 'Mechanical Keyboard MK200', 80, 'Gaming Accessories', 89.50, 'RGB backlit mechanical keyboard with blue switches', '2027-06-30', True),\n",
    "('3', 'PC Gaming Tower Alpha', 40, 'Gaming PCs', 1299.00, 'Prebuilt gaming PC with RTX 4060 and Ryzen 5', NULL, False),\n",
    "('4', 'Car HUD Speed Display', 60, 'Car Electronics', 45.00, 'Heads-up display for vehicle speed and alerts', '2027-09-15', True),\n",
    "('5', 'Digital Car Dashboard V2', 25, 'Car Electronics', 199.99, 'Touchscreen digital dashboard with GPS and diagnostics', '2028-01-01', False),\n",
    "('6', 'Gaming Monitor 27\" 165Hz', 35, 'Gaming Accessories', 249.99, '27-inch full HD curved monitor with 165Hz refresh rate', NULL, True),\n",
    "('7', 'LED RGB Light Strip', 200, 'Gaming Accessories', 14.99, 'Customisable RGB lighting for desktops and rooms', '2026-05-01', True),\n",
    "('8', 'Smart Head Unit Android', 18, 'Car Electronics', 329.00, 'Car infotainment system with Android Auto and CarPlay', '2028-12-31', False),\n",
    "('9', 'Wireless Gaming Headset', 70, 'Gaming Accessories', 119.99, 'Surround sound wireless headset with mic', '2027-03-01', False),\n",
    "('10', 'Gaming Chair Pro Comfort', 22, 'Gaming Accessories', 199.00, 'Ergonomic gaming chair with lumbar support', NULL, False);"
   ]
  },
  {
   "cell_type": "code",
   "execution_count": null,
   "id": "95d7f76b",
   "metadata": {},
   "outputs": [],
   "source": [
    "-- Select *\n",
    "-- from users;\n",
    "\n",
    "-- Select *\n",
    "-- from products;\n",
    "\n",
    "\n",
    "--selecting specific columns from table\n",
    "-- select name, description, category\n",
    "-- from products;\n",
    "\n",
    "-- arrange selected data\n",
    "-- select name, description, category, price\n",
    "-- from products\n",
    "-- order by price ASC;  -- DESC\n",
    "\n",
    "-- select *\n",
    "-- from products\n",
    "-- where category = 'Car Electronics';\n",
    "\n",
    "-- select name, category,price\n",
    "-- from products\n",
    "-- where category= 'Car Electronics' and price <=200\n",
    "-- order by price DESC;\n",
    "\n"
   ]
  },
  {
   "cell_type": "code",
   "execution_count": null,
   "id": "868632ff",
   "metadata": {},
   "outputs": [],
   "source": [
    "-- select * from users;\n",
    "\n",
    "\n",
    "-- select * \n",
    "-- from users\n",
    "-- where address like '%USA%';\n",
    "\n",
    "-- select * \n",
    "-- from users\n",
    "-- where email in ('tom@gmail.com','sora@gmail.com');"
   ]
  },
  {
   "cell_type": "code",
   "execution_count": null,
   "id": "2570981b",
   "metadata": {},
   "outputs": [],
   "source": [
    "-- Select *\n",
    "-- from products\n",
    "-- where expiry_date is not null;\n",
    "\n",
    "\n",
    "-- select id, name, price\n",
    "-- from products\n",
    "-- order by price DESC\n",
    "-- Limit 5;\n",
    "\n",
    "select id, name, price\n",
    "from products\n",
    "order by price DESC\n",
    "Limit 5\n",
    "Offset 2;"
   ]
  },
  {
   "cell_type": "code",
   "execution_count": null,
   "id": "962db778",
   "metadata": {},
   "outputs": [],
   "source": [
    "-- Select * \n",
    "-- from products\n",
    "-- where category='Gaming Accessories';\n",
    "\n",
    "-- Update products\n",
    "-- SET sales=true\n",
    "-- where category='Gaming Accessories';\n",
    "\n",
    "\n",
    "\n",
    "-- Select * from products;\n",
    "\n",
    "-- select * from users\n",
    "\n",
    "\n",
    "-- Update users\n",
    "-- set email='tom2@gmail.com'\n",
    "-- where id='1';\n",
    "\n",
    "\n",
    "\n",
    "update users\n",
    "set name='Sory', email='sory@gmail.com'\n",
    "where id='5'\n",
    "RETURNING name,email;"
   ]
  },
  {
   "cell_type": "code",
   "execution_count": null,
   "id": "87f4f1da",
   "metadata": {},
   "outputs": [],
   "source": [
    "select * from users;\n",
    "\n",
    "\n",
    "-- -- Delete from users\n",
    "-- -- where id='2';\n",
    "\n",
    "\n",
    "\n",
    "-- ALTER TABLE users2 RENAME TO users;\n",
    "\n",
    "-- Alter table users\n",
    "-- rename column full_name to name;"
   ]
  }
 ],
 "metadata": {
  "language_info": {
   "name": "python"
  }
 },
 "nbformat": 4,
 "nbformat_minor": 5
}
