{
 "cells": [
  {
   "cell_type": "code",
   "execution_count": 32,
   "id": "c7c05cd2",
   "metadata": {},
   "outputs": [
    {
     "name": "stdout",
     "output_type": "stream",
     "text": [
      "Database connected successfully\n"
     ]
    }
   ],
   "source": [
    "import psycopg2\n",
    "\n",
    "DB_NAME = \"di2025\"\n",
    "DB_USER = \"di2025_owner\"\n",
    "DB_PASS = \"npg_9epN0OdmQvbS\"\n",
    "DB_HOST = \"ep-wispy-sky-a1dm32r0-pooler.ap-southeast-1.aws.neon.tech\"\n",
    "DB_PORT = \"5432\"\n",
    "\n",
    "try:\n",
    "    conn = psycopg2.connect(database=DB_NAME,\n",
    "                            user=DB_USER,\n",
    "                            password=DB_PASS,\n",
    "                            host=DB_HOST,\n",
    "                            port=DB_PORT)\n",
    "    print(\"Database connected successfully\")\n",
    "except:\n",
    "    print(\"Error\")"
   ]
  },
  {
   "cell_type": "code",
   "execution_count": null,
   "id": "8ae8cdad",
   "metadata": {},
   "outputs": [
    {
     "name": "stdout",
     "output_type": "stream",
     "text": [
      "[('B009', 'The Republic', 'NR', 'Philosophy', 'Aisle 5'), ('B008', 'Meditations', 'NR', 'Philosophy', 'Aisle 5')]\n"
     ]
    }
   ],
   "source": [
    "query=\"select * from all_books_by_author('NR')\"\n",
    "try:\n",
    "    cur = conn.cursor()\n",
    "    cur.execute(query)\n",
    "    rows = cur.fetchall()\n",
    "\n",
    "    print(rows)\n",
    "    # for row in rows:\n",
    "    #     print(row)\n",
    "    cur.close()\n",
    "    # conn.close()\n",
    "\n",
    "except:\n",
    "    print(\"Error executing query\")"
   ]
  },
  {
   "cell_type": "code",
   "execution_count": 15,
   "id": "b94b0937",
   "metadata": {},
   "outputs": [
    {
     "name": "stdout",
     "output_type": "stream",
     "text": [
      "('B009', 'The Republic', 'NR', 'Philosophy', 'Aisle 5')\n"
     ]
    }
   ],
   "source": [
    "query=\"select * from books_by_author('NR');\"\n",
    "try:\n",
    "    cur = conn.cursor()\n",
    "    cur.execute(query)\n",
    "    result = cur.fetchone()\n",
    "\n",
    "    print(result)\n",
    "\n",
    "    cur.close()\n",
    "    # conn.close()\n",
    "\n",
    "except:\n",
    "    print(\"Error executing query\")"
   ]
  },
  {
   "cell_type": "code",
   "execution_count": 31,
   "id": "1d18c721",
   "metadata": {},
   "outputs": [
    {
     "name": "stdout",
     "output_type": "stream",
     "text": [
      "Error executing query\n"
     ]
    }
   ],
   "source": [
    "query=\"select * from books\"\n",
    "try:\n",
    "    cur = conn.cursor()\n",
    "    cur.execute(query)\n",
    "    result = cur.fetchall()\n",
    "    for row in result:\n",
    "        print(row)\n",
    "\n",
    "    # print(result)\n",
    "\n",
    "    cur.close()\n",
    "    # conn.close()\n",
    "\n",
    "except:\n",
    "    print(\"Error executing query\")"
   ]
  },
  {
   "cell_type": "code",
   "execution_count": 33,
   "id": "23fecc0c",
   "metadata": {},
   "outputs": [
    {
     "name": "stdout",
     "output_type": "stream",
     "text": [
      "('B002S001Aisle 1',)\n"
     ]
    }
   ],
   "source": [
    "query=\"Select gen_code('Neuromancer');\"\n",
    "try:\n",
    "    cur = conn.cursor()\n",
    "    cur.execute(query)\n",
    "    result = cur.fetchone()\n",
    "\n",
    "    print(result)\n",
    "\n",
    "    cur.close()\n",
    "    # conn.close()\n",
    "\n",
    "except Exception as e:\n",
    "    print(\"Error executing query\")\n",
    "    print(e)"
   ]
  }
 ],
 "metadata": {
  "kernelspec": {
   "display_name": "Python 3",
   "language": "python",
   "name": "python3"
  },
  "language_info": {
   "codemirror_mode": {
    "name": "ipython",
    "version": 3
   },
   "file_extension": ".py",
   "mimetype": "text/x-python",
   "name": "python",
   "nbconvert_exporter": "python",
   "pygments_lexer": "ipython3",
   "version": "3.13.4"
  }
 },
 "nbformat": 4,
 "nbformat_minor": 5
}
