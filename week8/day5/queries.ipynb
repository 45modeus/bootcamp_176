{
 "cells": [
  {
   "cell_type": "code",
   "execution_count": null,
   "id": "707750c8",
   "metadata": {},
   "outputs": [],
   "source": [
    "-- select author\n",
    "-- from books\n",
    "-- where title='Neuromancer';\n",
    "\n",
    "-- Create or replace function lookup_author(keyword_title text)\n",
    "-- Returns varchar(100) as $$\n",
    "-- begin\n",
    "-- Return(\n",
    "--   select author\n",
    "--   from books\n",
    "--   where title=keyword_title\n",
    "-- );\n",
    "-- end;\n",
    "-- $$ Language plpgsql;\n",
    "\n",
    "-- select *\n",
    "-- from lookup_author('Neuromancer');\n",
    "\n",
    "select lookup_author('Neuromancer');"
   ]
  },
  {
   "cell_type": "code",
   "execution_count": null,
   "id": "23c5b963",
   "metadata": {},
   "outputs": [],
   "source": [
    "    \"B004S002Aisle 3\""
   ]
  },
  {
   "cell_type": "code",
   "execution_count": null,
   "id": "587b04a4",
   "metadata": {},
   "outputs": [],
   "source": [
    "-- create or replace function gen_code(book_name text) \n",
    "-- Returns text AS $code$\n",
    "\n",
    "-- declare\n",
    "--   bookid text;\n",
    "--   shelfid text;\n",
    "--   aisle text;\n",
    "--   code text;\n",
    "  \n",
    "-- begin\n",
    "--   bookid := (Select id from books where title=book_name);\n",
    "--   shelfid := (Select sid from books where id=bookid);\n",
    "--   aisle := (Select location from shelf where sid=shelfid);\n",
    "--   code := CONCAT(bookid,shelfid,aisle);\n",
    "--   Return code;\n",
    "--   End;\n",
    "-- $code$ language plpgsql;\n",
    "\n",
    "\n",
    "-- select gen_code('The Republic');"
   ]
  },
  {
   "cell_type": "code",
   "execution_count": null,
   "id": "623af69c",
   "metadata": {},
   "outputs": [],
   "source": [
    "id varchar(100),\n",
    "title varchar(255),\n",
    "author varchar(255), \n",
    "genre varchar(255),\n",
    "location varchar(255)"
   ]
  },
  {
   "cell_type": "code",
   "execution_count": null,
   "id": "3219d5ff",
   "metadata": {},
   "outputs": [],
   "source": [
    "-- create or replace function all_books_by_author(author_name text) \n",
    "-- Returns table(\n",
    "--   id varchar(10),\n",
    "--   title text,\n",
    "--   author text, \n",
    "--   genre text,\n",
    "--   location text\n",
    "-- ) as $$\n",
    "-- begin\n",
    "--   Return QUERY\n",
    "--   select b.id, b.title, b.author,s.genre, s.location\n",
    "--   from books as b\n",
    "--   join shelf as s\n",
    "--   on b.sid= s.sid\n",
    "--   where b.author= author_name;\n",
    "\n",
    "-- End;\n",
    "-- $$ language plpgsql;\n",
    "\n",
    "\n",
    "-- Drop function all_books_by_author;\n",
    "select * from all_books_by_author('NR');\n",
    "\n",
    "-- SELECT pg_typeof('id') FROM books;"
   ]
  }
 ],
 "metadata": {
  "language_info": {
   "name": "python"
  }
 },
 "nbformat": 4,
 "nbformat_minor": 5
}
