{
 "cells": [
  {
   "cell_type": "code",
   "execution_count": 1,
   "id": "f0646c2c",
   "metadata": {},
   "outputs": [
    {
     "name": "stdout",
     "output_type": "stream",
     "text": [
      "Hello world\n",
      "Hello world\n",
      "Hello world\n",
      "Hello world\n",
      "Hello world\n",
      "Hello world\n",
      "Hello world\n",
      "Hello world\n",
      "Hello world\n",
      "Hello world\n",
      "Hello world\n",
      "Hello world\n",
      "Hello world\n"
     ]
    }
   ],
   "source": [
    "print('Hello world')\n",
    "print('Hello world')\n",
    "print('Hello world')\n",
    "print('Hello world')\n",
    "print('Hello world')\n",
    "print('Hello world')\n",
    "print('Hello world')\n",
    "print('Hello world')\n",
    "print('Hello world')\n",
    "print('Hello world')\n",
    "print('Hello world')\n",
    "print('Hello world')\n",
    "print('Hello world')\n"
   ]
  },
  {
   "cell_type": "code",
   "execution_count": 2,
   "id": "d26a8e2e",
   "metadata": {},
   "outputs": [
    {
     "name": "stdout",
     "output_type": "stream",
     "text": [
      "Hello world\n",
      "Hello world\n",
      "Hello world\n",
      "Hello world\n",
      "Hello world\n"
     ]
    }
   ],
   "source": [
    "for i in range (0,5):\n",
    "    print('Hello world')"
   ]
  },
  {
   "cell_type": "code",
   "execution_count": 3,
   "id": "45d0dd78",
   "metadata": {},
   "outputs": [
    {
     "name": "stdout",
     "output_type": "stream",
     "text": [
      "0\n",
      "1\n",
      "2\n",
      "3\n",
      "4\n",
      "Loop over\n",
      "4\n"
     ]
    }
   ],
   "source": [
    "for i in range (5): \n",
    "    print(i)\n",
    "else:\n",
    "    print('Loop over')\n",
    "    print(i)"
   ]
  },
  {
   "cell_type": "code",
   "execution_count": 4,
   "id": "48fba373",
   "metadata": {},
   "outputs": [
    {
     "name": "stdout",
     "output_type": "stream",
     "text": [
      "5\n",
      "6\n",
      "7\n"
     ]
    }
   ],
   "source": [
    "for num in range(5,8):\n",
    "    print(num)"
   ]
  },
  {
   "cell_type": "code",
   "execution_count": 5,
   "id": "32388f85",
   "metadata": {},
   "outputs": [
    {
     "name": "stdout",
     "output_type": "stream",
     "text": [
      "1\n",
      "3\n",
      "5\n",
      "7\n",
      "9\n"
     ]
    }
   ],
   "source": [
    "for i in range(1,10,2):\n",
    "    print(i)"
   ]
  },
  {
   "cell_type": "code",
   "execution_count": 6,
   "id": "cc7ec34d",
   "metadata": {},
   "outputs": [
    {
     "name": "stdout",
     "output_type": "stream",
     "text": [
      "10\n",
      "8\n",
      "6\n",
      "4\n",
      "2\n"
     ]
    }
   ],
   "source": [
    "for i in range(10,0,-2):\n",
    "    print(i)"
   ]
  },
  {
   "cell_type": "code",
   "execution_count": 7,
   "id": "53f327e9",
   "metadata": {},
   "outputs": [
    {
     "name": "stdout",
     "output_type": "stream",
     "text": [
      "2\n",
      "4\n",
      "6\n",
      "8\n",
      "10\n"
     ]
    }
   ],
   "source": [
    "for i in range(2,11,2):\n",
    "    print(i)"
   ]
  },
  {
   "cell_type": "code",
   "execution_count": 8,
   "id": "8802f883",
   "metadata": {},
   "outputs": [
    {
     "ename": "ValueError",
     "evalue": "invalid literal for int() with base 10: ''",
     "output_type": "error",
     "traceback": [
      "\u001b[0;31m---------------------------------------------------------------------------\u001b[0m",
      "\u001b[0;31mValueError\u001b[0m                                Traceback (most recent call last)",
      "Cell \u001b[0;32mIn[8], line 4\u001b[0m\n\u001b[1;32m      2\u001b[0m total\u001b[38;5;241m=\u001b[39m\u001b[38;5;241m0\u001b[39m\n\u001b[1;32m      3\u001b[0m \u001b[38;5;28;01mfor\u001b[39;00m i \u001b[38;5;129;01min\u001b[39;00m \u001b[38;5;28mrange\u001b[39m(\u001b[38;5;241m0\u001b[39m,\u001b[38;5;241m5\u001b[39m):\n\u001b[0;32m----> 4\u001b[0m     mark\u001b[38;5;241m=\u001b[39m\u001b[38;5;28;43mint\u001b[39;49m\u001b[43m(\u001b[49m\u001b[38;5;28;43minput\u001b[39;49m\u001b[43m(\u001b[49m\u001b[38;5;124;43m'\u001b[39;49m\u001b[38;5;124;43mEnter the marks: \u001b[39;49m\u001b[38;5;124;43m'\u001b[39;49m\u001b[43m)\u001b[49m\u001b[43m)\u001b[49m\n\u001b[1;32m      5\u001b[0m     \u001b[38;5;66;03m# mark=int(mark)\u001b[39;00m\n\u001b[1;32m      6\u001b[0m     total\u001b[38;5;241m=\u001b[39mtotal\u001b[38;5;241m+\u001b[39mmark\n",
      "\u001b[0;31mValueError\u001b[0m: invalid literal for int() with base 10: ''"
     ]
    }
   ],
   "source": [
    "#calculate the average of 25 marks\n",
    "total=0\n",
    "for i in range(0,5):\n",
    "    mark=int(input('Enter the marks: '))\n",
    "    # mark=int(mark)\n",
    "    total=total+mark\n",
    "\n",
    "average=total/5\n",
    "print('The average of 25 marks is:',average)\n",
    "\n",
    "\n"
   ]
  },
  {
   "cell_type": "code",
   "execution_count": null,
   "id": "47e4c385",
   "metadata": {},
   "outputs": [],
   "source": [
    "i=0\n",
    "\n",
    "while i<5:\n",
    "    print(i)\n",
    "    i=i+1\n"
   ]
  },
  {
   "cell_type": "code",
   "execution_count": null,
   "id": "c4971d82",
   "metadata": {},
   "outputs": [],
   "source": [
    "total=0\n",
    "\n",
    "while total<1400:\n",
    "    price=int(input('Enter the price of the item: '))\n",
    "    total=total+price\n",
    "\n",
    "print('The total price is:',total)"
   ]
  },
  {
   "cell_type": "code",
   "execution_count": null,
   "id": "9498b211",
   "metadata": {},
   "outputs": [],
   "source": [
    "i=0\n",
    "while True:\n",
    "    print(i)\n",
    "    i=i+1"
   ]
  },
  {
   "cell_type": "code",
   "execution_count": 9,
   "id": "b8945e12",
   "metadata": {},
   "outputs": [
    {
     "name": "stdout",
     "output_type": "stream",
     "text": [
      "The total price is: 58634\n"
     ]
    }
   ],
   "source": [
    "total=0\n",
    "programContinues=True #flag\n",
    "\n",
    "while programContinues==True:\n",
    "\n",
    "    price=int(input('Enter the price of the item: '))\n",
    "    total=total+price\n",
    "\n",
    "    answer=input('Do you want to continue adding stuff to cart? (yes/no): ')\n",
    "    if answer.lower()=='no':\n",
    "        programContinues=False\n",
    "    \n",
    "        \n",
    "    \n",
    "print('The total price is:',total)      "
   ]
  },
  {
   "cell_type": "code",
   "execution_count": null,
   "id": "872ded31",
   "metadata": {},
   "outputs": [
    {
     "name": "stdout",
     "output_type": "stream",
     "text": [
      "The total price is: 3000\n"
     ]
    }
   ],
   "source": [
    "total=0\n",
    "\n",
    "while True:\n",
    "    price=int(input('Enter the price of the item: '))\n",
    "    total=total+price\n",
    "\n",
    "    answer=input('Do you want to continue adding stuff to cart? (yes/no): ')\n",
    "    if answer.lower()=='no':\n",
    "        break\n",
    "   \n",
    "    \n",
    "print('The total price is:',total)     "
   ]
  },
  {
   "cell_type": "code",
   "execution_count": null,
   "id": "c0a388a6",
   "metadata": {},
   "outputs": [
    {
     "name": "stdout",
     "output_type": "stream",
     "text": [
      "0\n",
      "1\n",
      "2\n",
      "3\n",
      "4\n",
      "6\n",
      "7\n",
      "8\n",
      "9\n"
     ]
    }
   ],
   "source": [
    "for i in range(0,10):\n",
    "    if i!=5:   \n",
    "        print(i)"
   ]
  },
  {
   "cell_type": "code",
   "execution_count": 15,
   "id": "be165af9",
   "metadata": {},
   "outputs": [
    {
     "name": "stdout",
     "output_type": "stream",
     "text": [
      "0\n",
      "1\n",
      "2\n",
      "3\n",
      "4\n",
      "6\n",
      "7\n",
      "8\n",
      "9\n"
     ]
    }
   ],
   "source": [
    "for i in range(0,10):\n",
    "    if i==5:   \n",
    "        continue\n",
    "    \n",
    "    print(i)"
   ]
  },
  {
   "cell_type": "code",
   "execution_count": 2,
   "id": "f96eacd5",
   "metadata": {},
   "outputs": [
    {
     "name": "stdout",
     "output_type": "stream",
     "text": [
      "The name is found: True\n"
     ]
    }
   ],
   "source": [
    "name=\"Nirmal\"\n",
    "found=False\n",
    "\n",
    "while found==False:\n",
    "    user_input=input('Enter the name: ')\n",
    "    if user_input==name:\n",
    "        found=True\n",
    "\n",
    "print('The name is found:',found)\n",
    "    "
   ]
  },
  {
   "cell_type": "code",
   "execution_count": 4,
   "id": "091b0a2a",
   "metadata": {},
   "outputs": [
    {
     "name": "stdout",
     "output_type": "stream",
     "text": [
      "The name is found: Nirmal\n"
     ]
    }
   ],
   "source": [
    "name=\"Nirmal\"\n",
    "\n",
    "while True:\n",
    "    user_input=input('Enter the name: ')\n",
    "    if user_input==name:\n",
    "        found=name\n",
    "        break\n",
    "\n",
    "print('The name is found:',found)"
   ]
  }
 ],
 "metadata": {
  "kernelspec": {
   "display_name": "Python 3",
   "language": "python",
   "name": "python3"
  },
  "language_info": {
   "codemirror_mode": {
    "name": "ipython",
    "version": 3
   },
   "file_extension": ".py",
   "mimetype": "text/x-python",
   "name": "python",
   "nbconvert_exporter": "python",
   "pygments_lexer": "ipython3",
   "version": "3.10.2"
  }
 },
 "nbformat": 4,
 "nbformat_minor": 5
}
