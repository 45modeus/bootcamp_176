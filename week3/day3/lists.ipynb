{
 "cells": [
  {
   "cell_type": "code",
   "execution_count": 9,
   "id": "39b4b9da",
   "metadata": {},
   "outputs": [],
   "source": [
    "i=5"
   ]
  },
  {
   "cell_type": "code",
   "execution_count": 45,
   "id": "8945a9dc",
   "metadata": {},
   "outputs": [
    {
     "name": "stdout",
     "output_type": "stream",
     "text": [
      "['John', 'Doe', 30, True, False]\n"
     ]
    }
   ],
   "source": [
    "names=['Tom','Jerry','Mickey','Donald','Goofy']\n",
    "\n",
    "marks=[10,20,30,40,50]\n",
    "\n",
    "person=['John','Doe',30, True, False]\n",
    "\n",
    "print(person)"
   ]
  },
  {
   "cell_type": "code",
   "execution_count": 11,
   "id": "e0651322",
   "metadata": {},
   "outputs": [
    {
     "name": "stdout",
     "output_type": "stream",
     "text": [
      "[]\n",
      "['Tom']\n",
      "['Tom', 'Jerry', 'Mickey', 'Donald']\n"
     ]
    }
   ],
   "source": [
    "names=[] #define empty list called names\n",
    "\n",
    "print(names)\n",
    "#lists works with the principle of LIFO\n",
    "\n",
    "names.append('Tom') #add to the end\n",
    "\n",
    "print(names) #['Tom']\n",
    "\n",
    "names.append('Jerry') \n",
    "\n",
    "names.append('Mickey') \n",
    "\n",
    "names.append('Donald')\n",
    "\n",
    "print(names)\n"
   ]
  },
  {
   "cell_type": "code",
   "execution_count": 12,
   "id": "c056de35",
   "metadata": {},
   "outputs": [
    {
     "name": "stdout",
     "output_type": "stream",
     "text": [
      "['Tom', 'Jerry', 'Mickey']\n",
      "['Tom', 'Jerry']\n"
     ]
    }
   ],
   "source": [
    "names.pop() #remove last element\n",
    "print(names) \n",
    "\n",
    "names.pop()\n",
    "print(names) #"
   ]
  },
  {
   "cell_type": "code",
   "execution_count": 16,
   "id": "9177fc7b",
   "metadata": {},
   "outputs": [
    {
     "name": "stdout",
     "output_type": "stream",
     "text": [
      "['Tom', 'Jerry', 'Mickey', 'Donald', 'Goofy']\n",
      "Tom\n",
      "Donald\n",
      "Goofy\n"
     ]
    }
   ],
   "source": [
    "names=['Tom','Jerry','Mickey','Donald','Goofy']\n",
    "\n",
    "print(names)\n",
    "\n",
    "\n",
    "print(names[0])\n",
    "\n",
    "\n",
    "print(names[3])\n",
    "\n",
    "print(names[4])"
   ]
  },
  {
   "cell_type": "code",
   "execution_count": null,
   "id": "b6af8d51",
   "metadata": {},
   "outputs": [
    {
     "name": "stdout",
     "output_type": "stream",
     "text": [
      "Goofy\n",
      "Mickey\n"
     ]
    }
   ],
   "source": [
    "#circular indexing\n",
    "print(names[-1]) \n",
    "\n",
    "print(names[-3]) "
   ]
  },
  {
   "cell_type": "code",
   "execution_count": null,
   "id": "4ebdd832",
   "metadata": {},
   "outputs": [
    {
     "name": "stdout",
     "output_type": "stream",
     "text": [
      "[10, 20, 35, 40, 50]\n"
     ]
    }
   ],
   "source": [
    "marks=[10,20,30,40,50]\n",
    "\n",
    "marks[2]=35 #update an element within a list\n",
    "\n",
    "print(marks)\n"
   ]
  },
  {
   "cell_type": "code",
   "execution_count": null,
   "id": "6b38fd1e",
   "metadata": {},
   "outputs": [
    {
     "name": "stdout",
     "output_type": "stream",
     "text": [
      "[10, 20, 30, 50]\n"
     ]
    }
   ],
   "source": [
    "marks=[10,20,30,40,50]\n",
    "\n",
    "\n",
    "marks.pop(3) #remove element at index 3\n",
    " \n",
    "print(marks) "
   ]
  },
  {
   "cell_type": "code",
   "execution_count": null,
   "id": "8d8cddd8",
   "metadata": {},
   "outputs": [
    {
     "name": "stdout",
     "output_type": "stream",
     "text": [
      "[10, 20, 30, 50]\n"
     ]
    }
   ],
   "source": [
    "marks=[10,20,30,40,50]\n",
    "\n",
    "del marks[3] #remove element at index 3\n",
    " \n",
    "print(marks) "
   ]
  },
  {
   "cell_type": "code",
   "execution_count": null,
   "id": "07e34f28",
   "metadata": {},
   "outputs": [
    {
     "name": "stdout",
     "output_type": "stream",
     "text": [
      "['Tom', 'Jerry', 'Mickey']\n",
      "['Mickey', 'Donald', 'Goofy']\n"
     ]
    }
   ],
   "source": [
    "names=['Tom','Jerry','Mickey','Donald','Goofy']\n",
    "\n",
    "first_3_names=names[0:3]\n",
    "print(first_3_names) \n",
    "\n",
    "data=names[2:5]\n",
    "print(data)\n",
    "\n"
   ]
  },
  {
   "cell_type": "code",
   "execution_count": 28,
   "id": "9daf5a27",
   "metadata": {},
   "outputs": [
    {
     "name": "stdout",
     "output_type": "stream",
     "text": [
      "['Mickey', 'Donald', 'Goofy']\n"
     ]
    }
   ],
   "source": [
    "print(names[-3:])"
   ]
  },
  {
   "cell_type": "code",
   "execution_count": 29,
   "id": "c3f3806d",
   "metadata": {},
   "outputs": [
    {
     "name": "stdout",
     "output_type": "stream",
     "text": [
      "['Tom', 'Jerry', 'Mickey']\n"
     ]
    }
   ],
   "source": [
    "print(names[:-2])"
   ]
  },
  {
   "cell_type": "code",
   "execution_count": 38,
   "id": "f6791021",
   "metadata": {},
   "outputs": [
    {
     "name": "stdout",
     "output_type": "stream",
     "text": [
      "[1, 2, 3, 4]\n"
     ]
    }
   ],
   "source": [
    "print(list(range(1,5)))"
   ]
  },
  {
   "cell_type": "code",
   "execution_count": null,
   "id": "8d6e37ca",
   "metadata": {},
   "outputs": [
    {
     "name": "stdout",
     "output_type": "stream",
     "text": [
      "The name of student is  Tom\n",
      "The name of student is  Jerry\n",
      "The name of student is  Mickey\n",
      "The name of student is  Donald\n",
      "The name of student is  Goofy\n"
     ]
    }
   ],
   "source": [
    "names=['Tom','Jerry','Mickey','Donald','Goofy']\n",
    "\n",
    "for name in names: \n",
    "    print('The name of student is ',name)"
   ]
  },
  {
   "cell_type": "code",
   "execution_count": 32,
   "id": "51acd5dc",
   "metadata": {},
   "outputs": [
    {
     "name": "stdout",
     "output_type": "stream",
     "text": [
      "5\n"
     ]
    }
   ],
   "source": [
    "names=['Tom','Jerry','Mickey','Donald','Goofy']\n",
    "\n",
    "print(len(names))"
   ]
  },
  {
   "cell_type": "code",
   "execution_count": 33,
   "id": "8e16d29f",
   "metadata": {},
   "outputs": [
    {
     "name": "stdout",
     "output_type": "stream",
     "text": [
      "Tom\n",
      "Jerry\n",
      "Mickey\n",
      "Donald\n",
      "Goofy\n"
     ]
    }
   ],
   "source": [
    "names=['Tom','Jerry','Mickey','Donald','Goofy']\n",
    "\n",
    "for i in range(len(names)):\n",
    "    print(names[i])"
   ]
  },
  {
   "cell_type": "code",
   "execution_count": 44,
   "id": "828d49ed",
   "metadata": {},
   "outputs": [
    {
     "name": "stdout",
     "output_type": "stream",
     "text": [
      "[15.0, 25.0, 35.0, 45.0, 55.0]\n",
      "Tom scored 15.0 marks\n",
      "Jerry scored 25.0 marks\n",
      "Mickey scored 35.0 marks\n",
      "Donald scored 45.0 marks\n",
      "Goofy scored 55.0 marks\n"
     ]
    }
   ],
   "source": [
    "names=['Tom','Jerry','Mickey','Donald','Goofy']\n",
    "english_marks=[10,20,30,40,50]\n",
    "maths_marks=[15,25,35,45,55]\n",
    "science_marks=[20,30,40,50,60]\n",
    "\n",
    "\n",
    "average_marks=[]\n",
    "\n",
    "for i in range(len(names)):\n",
    "   average_marks.append((english_marks[i]+maths_marks[i]+science_marks[i])/3)\n",
    "\n",
    "print(average_marks) \n",
    "\n",
    "\n",
    "for i,name in enumerate(names):\n",
    "   #  print(i,name)\n",
    "   print(f'{name} scored {average_marks[i]} marks')"
   ]
  },
  {
   "cell_type": "code",
   "execution_count": 49,
   "id": "cfc3a143",
   "metadata": {},
   "outputs": [
    {
     "name": "stdout",
     "output_type": "stream",
     "text": [
      "[9, 4, 7, 2, 6]\n",
      "[2, 4, 6, 7, 9]\n"
     ]
    }
   ],
   "source": [
    "numbers=[9,4,7,2,6]\n",
    "print(numbers)\n",
    "numbers.sort() #sort the list in ascending order\n",
    "print(numbers)"
   ]
  },
  {
   "cell_type": "code",
   "execution_count": 48,
   "id": "511ca5f4",
   "metadata": {},
   "outputs": [
    {
     "name": "stdout",
     "output_type": "stream",
     "text": [
      "[2, 4, 6, 7, 9]\n"
     ]
    }
   ],
   "source": [
    "numbers=[9,4,7,2,6]\n",
    "\n",
    "sorted_nums=list(set(numbers))\n",
    "print(sorted_nums)"
   ]
  },
  {
   "cell_type": "code",
   "execution_count": 8,
   "id": "838a781d",
   "metadata": {},
   "outputs": [
    {
     "name": "stdout",
     "output_type": "stream",
     "text": [
      "5\n",
      "28\n",
      "9\n",
      "2\n",
      "[2, 4, 6, 7, 9]\n"
     ]
    }
   ],
   "source": [
    "#list functions\n",
    "\n",
    "numbers=[9,4,7,2,6]\n",
    "\n",
    "\n",
    "print(len(numbers)) #average\n",
    "print(sum(numbers)) #sum\n",
    "\n",
    "print(max(numbers)) #maximum\n",
    "print(min(numbers)) #minimum\n",
    "\n",
    "print(sorted(numbers)) #sort"
   ]
  },
  {
   "cell_type": "code",
   "execution_count": 9,
   "id": "92ffdffc",
   "metadata": {},
   "outputs": [
    {
     "name": "stdout",
     "output_type": "stream",
     "text": [
      "[2, 4, 6, 8, 10, 12, 14, 16, 18, 20]\n"
     ]
    }
   ],
   "source": [
    "print(list(range(2,21,2)))"
   ]
  },
  {
   "cell_type": "code",
   "execution_count": 11,
   "id": "6954daaa",
   "metadata": {},
   "outputs": [
    {
     "name": "stdout",
     "output_type": "stream",
     "text": [
      "0 Tom\n",
      "1 Jerry\n",
      "2 Mickey\n",
      "3 Donald\n",
      "4 Goofy\n"
     ]
    }
   ],
   "source": [
    "names=['Tom','Jerry','Mickey','Donald','Goofy']\n",
    "\n",
    "for i,name in enumerate(names):\n",
    "    print(i,name)\n"
   ]
  },
  {
   "cell_type": "code",
   "execution_count": 13,
   "id": "df0081c1",
   "metadata": {},
   "outputs": [
    {
     "name": "stdout",
     "output_type": "stream",
     "text": [
      "[('Tom', 10, 15), ('Jerry', 20, 25), ('Mickey', 30, 35), ('Donald', 40, 45), ('Goofy', 50, 55)]\n"
     ]
    }
   ],
   "source": [
    "students=['Tom','Jerry','Mickey','Donald','Goofy']\n",
    "english_marks=[10,20,30,40,50]\n",
    "french_marks=[15,25,35,45,55]\n",
    "\n",
    "\n",
    "print(list(zip(students,english_marks,french_marks)))"
   ]
  },
  {
   "cell_type": "code",
   "execution_count": 14,
   "id": "27633f12",
   "metadata": {},
   "outputs": [
    {
     "name": "stdout",
     "output_type": "stream",
     "text": [
      "['J', 'o', 'h', 'n']\n"
     ]
    }
   ],
   "source": [
    "name='John'\n",
    "print(list(name))"
   ]
  },
  {
   "cell_type": "code",
   "execution_count": 15,
   "id": "49614ead",
   "metadata": {},
   "outputs": [
    {
     "name": "stdout",
     "output_type": "stream",
     "text": [
      "J\n",
      "o\n",
      "h\n",
      "n\n"
     ]
    }
   ],
   "source": [
    "for char in name:\n",
    "    print(char)"
   ]
  },
  {
   "cell_type": "code",
   "execution_count": null,
   "id": "7a6af6b0",
   "metadata": {},
   "outputs": [
    {
     "name": "stdout",
     "output_type": "stream",
     "text": [
      "[1, 3, 5, 7, 9, 11, 13, 15, 17, 19]\n",
      "[2, 6, 10, 14, 18, 22, 26, 30, 34, 38]\n",
      "[1, 3, 5, 7, 9, 11, 13, 15, 17, 19]\n"
     ]
    }
   ],
   "source": [
    "odd_numbers=list(range(1,20,2))\n",
    "\n",
    "print(odd_numbers)\n",
    "\n",
    "\n",
    "odd_numbers =[i for i in range(1,20,2)]\n",
    "print(odd_numbers)\n",
    "\n",
    "\n",
    "odd_numbers =[i for i in range(1,20) if i%2!=0]\n",
    "print(odd_numbers)"
   ]
  },
  {
   "cell_type": "code",
   "execution_count": 7,
   "id": "81cce318",
   "metadata": {},
   "outputs": [
    {
     "data": {
      "text/plain": [
       "1"
      ]
     },
     "execution_count": 7,
     "metadata": {},
     "output_type": "execute_result"
    }
   ],
   "source": [
    "data=[1,1,1,1,1,2,2,2,2,3,3,4]\n",
    "\n",
    "data.count(4)"
   ]
  }
 ],
 "metadata": {
  "kernelspec": {
   "display_name": "Python 3",
   "language": "python",
   "name": "python3"
  },
  "language_info": {
   "codemirror_mode": {
    "name": "ipython",
    "version": 3
   },
   "file_extension": ".py",
   "mimetype": "text/x-python",
   "name": "python",
   "nbconvert_exporter": "python",
   "pygments_lexer": "ipython3",
   "version": "3.10.2"
  }
 },
 "nbformat": 4,
 "nbformat_minor": 5
}
