{
 "cells": [
  {
   "cell_type": "code",
   "execution_count": null,
   "id": "10f07203",
   "metadata": {},
   "outputs": [
    {
     "name": "stdout",
     "output_type": "stream",
     "text": [
      "{'name': 'John', 'age': 30, 'city': 'New York', 'is_student': False, 'courses': ['Math', 'Science', 'History'], 'married': False}\n"
     ]
    }
   ],
   "source": [
    "# person=['JOhn', 30, 'New York', False, ['Math', 'Science', 'History'], False]\n",
    "\n",
    "\n",
    "person={\n",
    "    \"name\": \"John\",\n",
    "    \"age\": 30,\n",
    "    \"city\": \"New York\",\n",
    "    \"is_student\": False,\n",
    "    \"courses\": [\"Math\", \"Science\", \"History\"],\n",
    "    \"married\": False,\n",
    "}\n",
    "\n",
    "print(person)"
   ]
  },
  {
   "cell_type": "code",
   "execution_count": 6,
   "id": "cc2b8d7d",
   "metadata": {},
   "outputs": [
    {
     "name": "stdout",
     "output_type": "stream",
     "text": [
      "30\n",
      "John\n",
      "['Math', 'Science', 'History']\n",
      "History\n",
      "False\n"
     ]
    }
   ],
   "source": [
    "print(person['age'])\n",
    "print(person['name'])\n",
    "print(person['courses'])\n",
    "\n",
    "print(person['courses'][2])\n",
    "\n",
    "print(person['is_student'])\n"
   ]
  },
  {
   "cell_type": "code",
   "execution_count": null,
   "id": "b273df72",
   "metadata": {},
   "outputs": [
    {
     "name": "stdout",
     "output_type": "stream",
     "text": [
      "{'code': 0}\n",
      "{'code': 0, 'errors': 100}\n"
     ]
    }
   ],
   "source": [
    "data={}\n",
    "\n",
    "data['code']=0  #add a new key-value pair to dictionary\n",
    "\n",
    "print(data)\n",
    "\n",
    "data['errors']=100\n",
    "\n",
    "print(data)\n"
   ]
  },
  {
   "cell_type": "code",
   "execution_count": 13,
   "id": "c20f9d95",
   "metadata": {},
   "outputs": [
    {
     "name": "stdout",
     "output_type": "stream",
     "text": [
      "{'name': 'John', 'age': 32, 'city': 'New York', 'is_student': False, 'courses': ['Math', 'Science', 'History'], 'married': False}\n",
      "{'name': 'John', 'age': 32, 'city': 'New York', 'is_student': False, 'courses': ['Math', 'Science', 'History']}\n"
     ]
    }
   ],
   "source": [
    "person={\n",
    "    \"name\": \"John\",\n",
    "    \"age\": 30,\n",
    "    \"city\": \"New York\",\n",
    "    \"is_student\": False,\n",
    "    \"courses\": [\"Math\", \"Science\", \"History\"],\n",
    "    \"married\": False,\n",
    "}\n",
    "\n",
    "\n",
    "person['age']=32 #update the value of an existing key\n",
    "print(person)\n",
    "\n",
    "\n",
    "del person['married'] #delete a key-value pair from the dictionary\n",
    "\n",
    "print(person)"
   ]
  },
  {
   "cell_type": "code",
   "execution_count": 15,
   "id": "a2eea6db",
   "metadata": {},
   "outputs": [
    {
     "name": "stdout",
     "output_type": "stream",
     "text": [
      "dict_keys(['name', 'age', 'city', 'is_student', 'courses', 'married'])\n",
      "dict_values(['John', 30, 'New York', False, ['Math', 'Science', 'History'], False])\n"
     ]
    }
   ],
   "source": [
    "person={\n",
    "    \"name\": \"John\",\n",
    "    \"age\": 30,\n",
    "    \"city\": \"New York\",\n",
    "    \"is_student\": False,\n",
    "    \"courses\": [\"Math\", \"Science\", \"History\"],\n",
    "    \"married\": False,\n",
    "}\n",
    "\n",
    "print(person.keys()) #get all keys of the dictionary\n",
    "\n",
    "print(person.values()) #get all values of the dictionary"
   ]
  },
  {
   "cell_type": "code",
   "execution_count": 17,
   "id": "a1d071e9",
   "metadata": {},
   "outputs": [
    {
     "name": "stdout",
     "output_type": "stream",
     "text": [
      "dict_items([('name', 'John'), ('age', 30), ('city', 'New York'), ('is_student', False), ('courses', ['Math', 'Science', 'History']), ('married', False)])\n",
      "name : John\n",
      "age : 30\n",
      "city : New York\n",
      "is_student : False\n",
      "courses : ['Math', 'Science', 'History']\n",
      "married : False\n"
     ]
    }
   ],
   "source": [
    "print(person.items()) #get all key-value pairs of the dictionary\n",
    "\n",
    "\n",
    "for key,value in person.items():\n",
    "    print(key, \":\", value) #iterate through the dictionary and print each key-value pair"
   ]
  },
  {
   "cell_type": "code",
   "execution_count": 18,
   "id": "9c2d69e3",
   "metadata": {},
   "outputs": [
    {
     "name": "stdout",
     "output_type": "stream",
     "text": [
      "name\n",
      "age\n",
      "city\n",
      "is_student\n",
      "courses\n",
      "married\n"
     ]
    }
   ],
   "source": [
    "for key in person.keys():\n",
    "    print(key) #iterate through the keys of the dictionary"
   ]
  },
  {
   "cell_type": "code",
   "execution_count": 19,
   "id": "c7c97d34",
   "metadata": {},
   "outputs": [
    {
     "name": "stdout",
     "output_type": "stream",
     "text": [
      "John\n",
      "30\n",
      "New York\n",
      "False\n",
      "['Math', 'Science', 'History']\n",
      "False\n"
     ]
    }
   ],
   "source": [
    "for value in person.values():\n",
    "    print(value) #iterate through the values of the dictionary"
   ]
  },
  {
   "cell_type": "code",
   "execution_count": 21,
   "id": "bef7bc82",
   "metadata": {},
   "outputs": [],
   "source": [
    "# Nested Dictionary\n",
    "students={\n",
    "    \"John\":{\n",
    "        \"age\": 30,\n",
    "        \"city\": \"New York\",\n",
    "        \"is_student\": False,\n",
    "        \"courses\": [\"Math\", \"Science\", \"History\"],\n",
    "        \"married\": False,\n",
    "    },\n",
    "    \"Jane\":{\n",
    "        \"age\": 25,\n",
    "        \"city\": \"Los Angeles\",\n",
    "        \"is_student\": True,\n",
    "        \"courses\": [\"Biology\", \"Chemistry\"],\n",
    "        \"married\": True,\n",
    "    },\n",
    "    \"Mike\":{\n",
    "        \"age\": 28,\n",
    "        \"city\": \"Chicago\",\n",
    "        \"is_student\": False,\n",
    "        \"courses\": [\"Physics\", \"Math\"],\n",
    "        \"married\": True,\n",
    "    }\n",
    "}"
   ]
  },
  {
   "cell_type": "code",
   "execution_count": null,
   "id": "b8a3558f",
   "metadata": {},
   "outputs": [
    {
     "name": "stdout",
     "output_type": "stream",
     "text": [
      "{'age': 25, 'city': 'Los Angeles', 'is_student': True, 'courses': ['Biology', 'Chemistry'], 'married': True}\n",
      "True\n"
     ]
    }
   ],
   "source": [
    "print(students['Jane'])\n",
    "print(students['Jane'][\"is_student\"])\n",
    "print(students['Jane'][\"courses\"][1])"
   ]
  },
  {
   "cell_type": "code",
   "execution_count": 30,
   "id": "2e6bb9fe",
   "metadata": {},
   "outputs": [
    {
     "name": "stdout",
     "output_type": "stream",
     "text": [
      "85 Math\n",
      "90 Science\n",
      "78 History\n",
      "88 English\n"
     ]
    }
   ],
   "source": [
    "results=[\n",
    "    {'score': 85, 'subject': 'Math'},\n",
    "    {'score': 90, 'subject': 'Science'},\n",
    "    {'score': 78, 'subject': 'History'},\n",
    "    {'score': 88, 'subject': 'English'},\n",
    "]\n",
    "\n",
    "for result in results:\n",
    "    # print(result)\n",
    "    print(result['score'], result['subject']) #iterate through the list of dictionaries and print each score and subject\n",
    "    "
   ]
  },
  {
   "cell_type": "code",
   "execution_count": 32,
   "id": "1fa1c498",
   "metadata": {},
   "outputs": [
    {
     "name": "stdout",
     "output_type": "stream",
     "text": [
      "{'name': 'Harry Potter', 'author': 'J.K. Rowling', 'published_year': 1998}\n",
      "1998\n"
     ]
    }
   ],
   "source": [
    "book={\n",
    "    'name': 'Harry Potter',\n",
    "    'author': 'J.K. Rowling',\n",
    "    'published_year': 1997,\n",
    "    'published_year': 1998,\n",
    "}\n",
    "\n",
    "print(book)\n",
    "print(book['published_year'])"
   ]
  },
  {
   "cell_type": "code",
   "execution_count": 33,
   "id": "c177fb47",
   "metadata": {},
   "outputs": [
    {
     "name": "stdout",
     "output_type": "stream",
     "text": [
      "TOm\n",
      "Jerry\n",
      "Spike\n",
      "Tyke\n"
     ]
    }
   ],
   "source": [
    "names=['TOm', 'Jerry', 'Spike', 'Tyke']\n",
    "\n",
    "for name in names:\n",
    "    print(name) #iterate through the list and print each name"
   ]
  },
  {
   "cell_type": "code",
   "execution_count": 36,
   "id": "a779d99b",
   "metadata": {},
   "outputs": [
    {
     "name": "stdout",
     "output_type": "stream",
     "text": [
      "name  :  Harry Potter\n",
      "author  :  J.K. Rowling\n",
      "published_year  :  1997\n"
     ]
    }
   ],
   "source": [
    "book={\n",
    "    'name': 'Harry Potter',\n",
    "    'author': 'J.K. Rowling',\n",
    "    'published_year': 1997,\n",
    "}\n",
    "\n",
    "for item in book:\n",
    "    print(item, \" : \", book[item]) #iterate through the dictionary and print each key-value pair\n",
    "    \n",
    "   "
   ]
  },
  {
   "cell_type": "code",
   "execution_count": null,
   "id": "ba19a0c1",
   "metadata": {},
   "outputs": [
    {
     "name": "stdout",
     "output_type": "stream",
     "text": [
      "{'name': 'HP2', 'author': 'J.K. Rowling', 'published_year': 1997}\n"
     ]
    }
   ],
   "source": [
    "book={\n",
    "    'name': 'Harry Potter',\n",
    "    'author': 'J.K. Rowling',\n",
    "    'published_year': 1997,\n",
    "}\n",
    "\n",
    "\n",
    "# book.update({'author': 'Test'})\n",
    "\n",
    "book['name']='HP2' #update the value of an existing key\n",
    "\n",
    "\n",
    "print(book)"
   ]
  },
  {
   "cell_type": "code",
   "execution_count": 42,
   "id": "576e3186",
   "metadata": {},
   "outputs": [
    {
     "name": "stdout",
     "output_type": "stream",
     "text": [
      "name  :  HP2\n",
      "author  :  J.K. Rowling\n",
      "published_year  :  1997\n"
     ]
    }
   ],
   "source": [
    "for item,value in book.items():\n",
    "    print(item, \" : \", value) #iterate through the dictionary and print each key-value pair"
   ]
  },
  {
   "cell_type": "code",
   "execution_count": 43,
   "id": "f073bfc0",
   "metadata": {},
   "outputs": [
    {
     "name": "stdout",
     "output_type": "stream",
     "text": [
      "dict_items([('name', 'Harry Potter'), ('author', 'J.K. Rowling'), ('published_year', 1997)])\n"
     ]
    }
   ],
   "source": [
    "book={\n",
    "    'name': 'Harry Potter',\n",
    "    'author': 'J.K. Rowling',\n",
    "    'published_year': 1997,\n",
    "}\n",
    "\n",
    "\n",
    "print(book.items())"
   ]
  },
  {
   "cell_type": "code",
   "execution_count": null,
   "id": "d5ee8389",
   "metadata": {},
   "outputs": [
    {
     "ename": "IndentationError",
     "evalue": "expected an indented block after 'if' statement on line 3 (2069522988.py, line 6)",
     "output_type": "error",
     "traceback": [
      "\u001b[0;36m  Cell \u001b[0;32mIn[44], line 6\u001b[0;36m\u001b[0m\n\u001b[0;31m    print('test')\u001b[0m\n\u001b[0m    ^\u001b[0m\n\u001b[0;31mIndentationError\u001b[0m\u001b[0;31m:\u001b[0m expected an indented block after 'if' statement on line 3\n"
     ]
    }
   ],
   "source": [
    "x=10\n",
    "\n",
    "if x>5:\n",
    "    pass #placeholder\n",
    "\n",
    "print('test')\n"
   ]
  },
  {
   "cell_type": "code",
   "execution_count": null,
   "id": "d31de568",
   "metadata": {},
   "outputs": [
    {
     "name": "stdout",
     "output_type": "stream",
     "text": [
      "{'John': 2005, 'Jane': 2000, 'Mike': 1995}\n"
     ]
    }
   ],
   "source": [
    "family={'John':20, 'Jane':25, 'Mike':30}\n",
    "\n",
    "dobs={name: 2025-age for name, age in family.items()}\n",
    "\n",
    "print(dobs)"
   ]
  },
  {
   "cell_type": "code",
   "execution_count": 49,
   "id": "1f870941",
   "metadata": {},
   "outputs": [
    {
     "name": "stdout",
     "output_type": "stream",
     "text": [
      "John 20\n",
      "Jane 25\n",
      "Mike 30\n"
     ]
    }
   ],
   "source": [
    "family={'John':20, 'Jane':25, 'Mike':30}\n",
    "for name, age in family.items():\n",
    "    print(name, age)"
   ]
  },
  {
   "cell_type": "code",
   "execution_count": null,
   "id": "8f70b815",
   "metadata": {},
   "outputs": [
    {
     "name": "stdout",
     "output_type": "stream",
     "text": [
      "{}\n"
     ]
    }
   ],
   "source": [
    "family={'John':20, 'Jane':25, 'Mike':30}\n",
    "\n",
    "family.clear() #clear the dictionary\n",
    "print(family) #print the empty dictionary"
   ]
  }
 ],
 "metadata": {
  "kernelspec": {
   "display_name": "Python 3",
   "language": "python",
   "name": "python3"
  },
  "language_info": {
   "codemirror_mode": {
    "name": "ipython",
    "version": 3
   },
   "file_extension": ".py",
   "mimetype": "text/x-python",
   "name": "python",
   "nbconvert_exporter": "python",
   "pygments_lexer": "ipython3",
   "version": "3.10.2"
  }
 },
 "nbformat": 4,
 "nbformat_minor": 5
}
