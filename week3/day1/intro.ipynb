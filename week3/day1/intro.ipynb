{
 "cells": [
  {
   "cell_type": "code",
   "execution_count": 3,
   "id": "9f441e57",
   "metadata": {},
   "outputs": [
    {
     "name": "stdout",
     "output_type": "stream",
     "text": [
      "hello world\n"
     ]
    }
   ],
   "source": [
    "print('hello world')"
   ]
  },
  {
   "cell_type": "code",
   "execution_count": 4,
   "id": "5eb25867",
   "metadata": {},
   "outputs": [
    {
     "name": "stdout",
     "output_type": "stream",
     "text": [
      "Tom\n"
     ]
    }
   ],
   "source": [
    "print(\"Tom\")"
   ]
  },
  {
   "cell_type": "code",
   "execution_count": 5,
   "id": "6af90f15",
   "metadata": {},
   "outputs": [],
   "source": [
    "#Comments\n",
    "#Variables\n",
    "#Data types\n",
    "#Operators \n",
    "#Conditions"
   ]
  },
  {
   "cell_type": "code",
   "execution_count": 14,
   "id": "e509931b",
   "metadata": {},
   "outputs": [
    {
     "name": "stdout",
     "output_type": "stream",
     "text": [
      "Test\n",
      "Test2\n"
     ]
    }
   ],
   "source": [
    "#this is a comment\n",
    "print('Test')  #test\n",
    "print('Test2')  #test2\n",
    "\n",
    "# print('Test3')"
   ]
  },
  {
   "cell_type": "code",
   "execution_count": null,
   "id": "f16ec194",
   "metadata": {},
   "outputs": [
    {
     "name": "stdout",
     "output_type": "stream",
     "text": [
      "10\n"
     ]
    }
   ],
   "source": [
    "#variables\n",
    "age=10\n",
    "\n",
    "print(age)\n",
    "\n",
    "name=\"Tom\"\n",
    "print(name)\n",
    "\n"
   ]
  },
  {
   "cell_type": "code",
   "execution_count": null,
   "id": "b513b82b",
   "metadata": {},
   "outputs": [
    {
     "name": "stdout",
     "output_type": "stream",
     "text": [
      "10\n",
      "twenty\n"
     ]
    }
   ],
   "source": [
    "#dynamic nature of python variables - different data types\n",
    "age=10\n",
    "print(age)\n",
    "\n",
    "\n",
    "age='twenty'\n",
    "print(age)"
   ]
  },
  {
   "cell_type": "code",
   "execution_count": 21,
   "id": "9e6af84a",
   "metadata": {},
   "outputs": [],
   "source": [
    "#variables - naming convention\n",
    "\n",
    "name='Tom' #valid\n",
    "name1='Tom' #valid\n",
    "# 1name='Tom' #invalid - cannot start with number\n",
    "# name 1='Tom' #invalid - cannot have space\n",
    "name_1='Tom' #valid\n",
    "na1me='Tom' #valid - but not recommended - hard to read\n",
    "# name£1='Tom' #invalid - cannot have special characters\n",
    "firstName= 'Tom' #valid\n",
    "\n",
    "Name='Tom' #valid but not recommended - Upperclase first letter reserved for class names\n",
    "\n",
    "PI=3.14 #valid - all uppercase reserved for constants\n"
   ]
  },
  {
   "cell_type": "code",
   "execution_count": null,
   "id": "32474602",
   "metadata": {},
   "outputs": [],
   "source": [
    "#Data types\n",
    "#Numbers - int, float\n",
    "#String - str\n",
    "#Boolean - bool\n",
    "#Null - null"
   ]
  },
  {
   "cell_type": "code",
   "execution_count": 26,
   "id": "35f4734c",
   "metadata": {},
   "outputs": [
    {
     "name": "stdout",
     "output_type": "stream",
     "text": [
      "0\n",
      "10003908789\n",
      "<class 'int'>\n"
     ]
    }
   ],
   "source": [
    "#integers - whole numbers\n",
    "total=0\n",
    "print(total)\n",
    "\n",
    "num=100\n",
    "\n",
    "num2=-10\n",
    "\n",
    "num3=10003908789\n",
    "print(num3)\n",
    "\n",
    "\n",
    "print(type(num3)) "
   ]
  },
  {
   "cell_type": "code",
   "execution_count": 24,
   "id": "a6c080bd",
   "metadata": {},
   "outputs": [
    {
     "name": "stdout",
     "output_type": "stream",
     "text": [
      "<class 'float'>\n"
     ]
    }
   ],
   "source": [
    "#float - decimal numbers\n",
    "\n",
    "total=100.50\n",
    "\n",
    "data=-10000.54789\n",
    "\n",
    "\n",
    "print(type(total))"
   ]
  },
  {
   "cell_type": "code",
   "execution_count": null,
   "id": "5612573b",
   "metadata": {},
   "outputs": [
    {
     "name": "stdout",
     "output_type": "stream",
     "text": [
      "John Doe\n",
      "<class 'str'>\n",
      "This is so,me data. test @gmail.com password: $7689%^&*()\n"
     ]
    }
   ],
   "source": [
    "#String\n",
    "char='c'\n",
    "data='Tom'\n",
    "x=\"this is a sentence\"\n",
    "name='John Doe'\n",
    "\n",
    "data2='This is so,me data. test @gmail.com password: $7689%^&*()'\n",
    "\n",
    "\n",
    "print(name)\n",
    "print(type(name))\n",
    "\n",
    "print(data2)\n"
   ]
  },
  {
   "cell_type": "code",
   "execution_count": 30,
   "id": "41765205",
   "metadata": {},
   "outputs": [
    {
     "name": "stdout",
     "output_type": "stream",
     "text": [
      "True\n",
      "<class 'bool'>\n",
      "False\n"
     ]
    }
   ],
   "source": [
    "#boolean\n",
    "\n",
    "married=True\n",
    "print(married)\n",
    "print(type(married))\n",
    "\n",
    "married=False\n",
    "print(married)"
   ]
  },
  {
   "cell_type": "code",
   "execution_count": 31,
   "id": "dac146de",
   "metadata": {},
   "outputs": [
    {
     "name": "stdout",
     "output_type": "stream",
     "text": [
      "15\n",
      "5\n",
      "50\n",
      "2.0\n",
      "0\n"
     ]
    }
   ],
   "source": [
    "num1=10\n",
    "num2=5\n",
    "\n",
    "\n",
    "#Operators\n",
    "#Arithmetic operators\n",
    "\n",
    "addition=num1+num2\n",
    "print(addition)\n",
    "\n",
    "subtraction=num1-num2\n",
    "print(subtraction)\n",
    "\n",
    "multiplication=num1*num2\n",
    "print(multiplication)\n",
    "\n",
    "division=num1/num2\n",
    "print(division)\n",
    "\n",
    "remainder=num1%num2\n",
    "print(remainder)"
   ]
  },
  {
   "cell_type": "code",
   "execution_count": null,
   "id": "9232c38f",
   "metadata": {},
   "outputs": [],
   "source": [
    "#order of operations\n",
    "#BODMAS\n",
    "\n",
    "result= 3 + (4*2-5)-3*2\n",
    "\n",
    "print(result)"
   ]
  },
  {
   "cell_type": "code",
   "execution_count": 33,
   "id": "900d9454",
   "metadata": {},
   "outputs": [
    {
     "name": "stdout",
     "output_type": "stream",
     "text": [
      "TomHanks\n",
      "Tom Hanks\n"
     ]
    }
   ],
   "source": [
    "firstName='Tom'\n",
    "lastName='Hanks'\n",
    "\n",
    "fullName=firstName+lastName\n",
    "\n",
    "print(fullName)\n",
    "\n",
    "fullName=firstName + ' ' + lastName\n",
    "print(fullName)"
   ]
  },
  {
   "cell_type": "code",
   "execution_count": null,
   "id": "c0d3f8c3",
   "metadata": {},
   "outputs": [
    {
     "name": "stdout",
     "output_type": "stream",
     "text": [
      "Name : Tom\n",
      "Age : 10\n",
      "Age:  10\n"
     ]
    }
   ],
   "source": [
    "name='Tom'\n",
    "age=10\n",
    "\n",
    "print('Name : ' + name)\n",
    "print('Age : ' + str(age)) #convert int to string \n",
    "# print('Age: ', age)"
   ]
  },
  {
   "cell_type": "code",
   "execution_count": 38,
   "id": "f244a9e9",
   "metadata": {},
   "outputs": [
    {
     "name": "stdout",
     "output_type": "stream",
     "text": [
      "Tom is 10 years old and lives in New York\n",
      "Tom is 10 years olf and lives in New York\n",
      "Tom is 10 years old and lives in New York\n"
     ]
    }
   ],
   "source": [
    "#string formatting\n",
    "name='Tom'\n",
    "age=10\n",
    "address='New York'\n",
    "\n",
    "print(name+' is '+ str(age) + ' years old and lives in ' + address)\n",
    "\n",
    "print('{} is {} years olf and lives in {}'.format(name, age, address))\n",
    "\n",
    "print(f'{name} is {age} years old and lives in {address}')"
   ]
  },
  {
   "cell_type": "code",
   "execution_count": 39,
   "id": "2b2afa55",
   "metadata": {},
   "outputs": [
    {
     "name": "stdout",
     "output_type": "stream",
     "text": [
      "HelloHelloHelloHello\n"
     ]
    }
   ],
   "source": [
    "x='Hello'\n",
    "\n",
    "print(x*4)"
   ]
  },
  {
   "cell_type": "code",
   "execution_count": null,
   "id": "914270d3",
   "metadata": {},
   "outputs": [],
   "source": [
    "#booleans operators\n",
    "#True - 1\n",
    "#False - 0\n",
    "\n",
    "#and *\n",
    "#or +\n",
    "\n",
    "#True and True\n",
    "#1 and 1\n",
    "#1 * 1\n",
    "#1\n",
    "#True\n",
    "\n",
    "\n",
    "#True and False\n",
    "#1 and 0\n",
    "#1 * 0\n",
    "#0\n",
    "#False\n",
    "\n",
    "#or\n",
    "#True or True\n",
    "#1 or 1\n",
    "#1 + 1\n",
    "#2\n",
    "#1\n",
    "#True\n",
    "\n",
    "#True or False\n",
    "#1 or 0\n",
    "#1 + 0\n",
    "#1\n",
    "#True\n",
    "\n",
    "#False or False\n",
    "#0 or 0\n",
    "#0 + 0\n",
    "#0\n",
    "#False\n",
    "\n",
    "\n",
    "#not\n",
    "#not True\n",
    "#False\n",
    "\n",
    "#not False\n",
    "#True\n",
    "\n",
    "\n",
    "\n",
    "# True and (True or False)\n",
    "# True and True\n",
    "# True"
   ]
  },
  {
   "cell_type": "code",
   "execution_count": 44,
   "id": "d375d06f",
   "metadata": {},
   "outputs": [],
   "source": [
    "#conditions\n",
    "\n",
    "married=False\n",
    "\n",
    "if married==True:\n",
    "    print('You are married')\n"
   ]
  },
  {
   "cell_type": "code",
   "execution_count": null,
   "id": "098dcfce",
   "metadata": {},
   "outputs": [],
   "source": [
    "married=False\n",
    "\n",
    "if married==True:\n",
    "    print('You are married')\n",
    "else:\n",
    "    print('You are not married')"
   ]
  },
  {
   "cell_type": "code",
   "execution_count": null,
   "id": "2b534e4d",
   "metadata": {},
   "outputs": [
    {
     "name": "stdout",
     "output_type": "stream",
     "text": [
      "It is hot\n",
      "Turning on AC\n"
     ]
    }
   ],
   "source": [
    "temp=25\n",
    "\n",
    "if temp>25:\n",
    "    print('It is hot')\n",
    "    print('Turning on AC')\n",
    "\n",
    "else:\n",
    "    print('It is cold')\n",
    "    print('Turning off AC')"
   ]
  },
  {
   "cell_type": "code",
   "execution_count": 49,
   "id": "1ad85b05",
   "metadata": {},
   "outputs": [
    {
     "name": "stdout",
     "output_type": "stream",
     "text": [
      "It is hot and humid\n",
      "Turning on AC\n"
     ]
    }
   ],
   "source": [
    "temp=30\n",
    "humidity=80\n",
    "\n",
    "if temp>25 and humidity>50:\n",
    "    print('It is hot and humid')\n",
    "    print('Turning on AC')\n",
    "\n",
    "else:\n",
    "    print('It is cold or not humid')\n",
    "    print('Turning off AC')"
   ]
  },
  {
   "cell_type": "code",
   "execution_count": 52,
   "id": "e20863ad",
   "metadata": {},
   "outputs": [
    {
     "name": "stdout",
     "output_type": "stream",
     "text": [
      "You are eligible for 10% discount\n"
     ]
    }
   ],
   "source": [
    "total=11000\n",
    "\n",
    "if total>=10000:\n",
    "    print('You are eligible for 10% discount')\n",
    "\n",
    "elif total>=5000:\n",
    "    print('You are eligible for 5% discount')\n",
    "\n",
    "elif total>=2000:\n",
    "    print('You are eligible for 2% discount')\n",
    "\n",
    "else:\n",
    "    print('You are not eligible for any discount')"
   ]
  },
  {
   "cell_type": "code",
   "execution_count": null,
   "id": "cb5ec57f",
   "metadata": {},
   "outputs": [
    {
     "name": "stdout",
     "output_type": "stream",
     "text": [
      "Program starts\n",
      "Login failed\n",
      "Program ends\n"
     ]
    }
   ],
   "source": [
    "email='test@test.com'\n",
    "pw='12345'\n",
    "\n",
    "\n",
    "print('Program starts')\n",
    "\n",
    "if email=='test@test.com' and pw=='12345':\n",
    "    print('Login successful')\n",
    "else:\n",
    "    print('Login failed')\n",
    "\n",
    "print('Program ends')"
   ]
  },
  {
   "cell_type": "code",
   "execution_count": null,
   "id": "a4a0108e",
   "metadata": {},
   "outputs": [],
   "source": [
    "#Nested if\n",
    "\n",
    "email='test@test.com'\n",
    "pw='12345'\n",
    "\n",
    "if email=='test@test.com':\n",
    "    if pw=='12345': #nested if condition (nested conditions means condition inside condition)\n",
    "        print('Login successful')\n",
    "    else:\n",
    "        print('Login failed - Password wrong')\n",
    "\n",
    "else:\n",
    "    print('Login failed - Email doesnt exist')\n",
    "\n",
    "\n",
    "print('Program ends')\n",
    "\n"
   ]
  },
  {
   "cell_type": "code",
   "execution_count": null,
   "id": "73e0fc96",
   "metadata": {},
   "outputs": [
    {
     "ename": "SyntaxError",
     "evalue": "invalid syntax (139992667.py, line 5)",
     "output_type": "error",
     "traceback": [
      "\u001b[0;36m  Cell \u001b[0;32mIn[55], line 5\u001b[0;36m\u001b[0m\n\u001b[0;31m    if data === 10:\u001b[0m\n\u001b[0m              ^\u001b[0m\n\u001b[0;31mSyntaxError\u001b[0m\u001b[0;31m:\u001b[0m invalid syntax\n"
     ]
    }
   ],
   "source": [
    "data=10\n",
    "data=float(data)\n",
    "\n",
    "\n",
    "# if data === 10:\n",
    "#     print('Data is 10')"
   ]
  },
  {
   "cell_type": "code",
   "execution_count": 56,
   "id": "e3e92ebe",
   "metadata": {},
   "outputs": [
    {
     "name": "stdout",
     "output_type": "stream",
     "text": [
      "Hello Tom\n"
     ]
    }
   ],
   "source": [
    "#inputs and outputs\n",
    "\n",
    "name=input('Enter your name: ')\n",
    "\n",
    "print('Hello ' + name)"
   ]
  },
  {
   "cell_type": "code",
   "execution_count": 71,
   "id": "d5f5450f",
   "metadata": {},
   "outputs": [
    {
     "name": "stdout",
     "output_type": "stream",
     "text": [
      "100.5\n"
     ]
    }
   ],
   "source": [
    "total=100.500000\n",
    "print(total)"
   ]
  },
  {
   "cell_type": "code",
   "execution_count": 73,
   "id": "7be9b65e",
   "metadata": {},
   "outputs": [
    {
     "name": "stdout",
     "output_type": "stream",
     "text": [
      "11\n"
     ]
    }
   ],
   "source": [
    "age=input('Enter your age: ')\n",
    "\n",
    "age=int(age)+1\n",
    "\n",
    "print(age)"
   ]
  }
 ],
 "metadata": {
  "kernelspec": {
   "display_name": "Python 3",
   "language": "python",
   "name": "python3"
  },
  "language_info": {
   "codemirror_mode": {
    "name": "ipython",
    "version": 3
   },
   "file_extension": ".py",
   "mimetype": "text/x-python",
   "name": "python",
   "nbconvert_exporter": "python",
   "pygments_lexer": "ipython3",
   "version": "3.10.2"
  }
 },
 "nbformat": 4,
 "nbformat_minor": 5
}
