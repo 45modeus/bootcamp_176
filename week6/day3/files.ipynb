{
 "cells": [
  {
   "cell_type": "code",
   "execution_count": null,
   "id": "55ea94a9",
   "metadata": {},
   "outputs": [],
   "source": [
    "#open and close a file\n",
    "#read a file\n",
    "#write to a file\n",
    "#append to a file"
   ]
  },
  {
   "cell_type": "code",
   "execution_count": null,
   "id": "e697b3fb",
   "metadata": {},
   "outputs": [
    {
     "name": "stdout",
     "output_type": "stream",
     "text": [
      "milk\n",
      "sugar\n",
      "rice\n",
      "potatoes\n",
      "ketchup\n",
      "burger\n"
     ]
    }
   ],
   "source": [
    "#opening a file\n",
    "file = open('groceries.txt','r')\n",
    "\n",
    "#read the file\n",
    "content=file.read()\n",
    "print(content)\n",
    "\n",
    "#close the file\n",
    "file.close()\n",
    "\n"
   ]
  },
  {
   "cell_type": "code",
   "execution_count": 4,
   "id": "06d544be",
   "metadata": {},
   "outputs": [
    {
     "name": "stdout",
     "output_type": "stream",
     "text": [
      "milk\n",
      "sugar\n",
      "rice\n",
      "potatoes\n",
      "ketchup\n",
      "burger\n",
      "<_io.TextIOWrapper name='groceries.txt' mode='r' encoding='utf-8'>\n"
     ]
    }
   ],
   "source": [
    "#another way to open and close a file\n",
    "with open('groceries.txt','r') as file:\n",
    "    content = file.read()\n",
    "    print(content)\n",
    "\n",
    "print(file)\n",
    "\n",
    "\n"
   ]
  },
  {
   "cell_type": "code",
   "execution_count": 5,
   "id": "1b9fcbc0",
   "metadata": {},
   "outputs": [
    {
     "name": "stdout",
     "output_type": "stream",
     "text": [
      "0 : milk\n",
      "\n",
      "1 : sugar\n",
      "\n",
      "2 : rice\n",
      "\n",
      "3 : potatoes\n",
      "\n",
      "4 : ketchup\n",
      "\n",
      "5 : burger\n"
     ]
    }
   ],
   "source": [
    "with open('groceries.txt','r') as file:\n",
    "    for i,line in enumerate(file):\n",
    "        print(i,\":\",line)\n"
   ]
  },
  {
   "cell_type": "code",
   "execution_count": null,
   "id": "adc7d28b",
   "metadata": {},
   "outputs": [
    {
     "name": "stdout",
     "output_type": "stream",
     "text": [
      "sugar\n",
      "rice\n",
      "potatoes\n",
      "ketchup\n",
      "burger\n"
     ]
    }
   ],
   "source": [
    "file= open('groceries.txt','r')\n",
    "\n",
    "#go to position 5\n",
    "file.seek(5)\n",
    "\n",
    "print(file.read())\n",
    "\n",
    "file.close()"
   ]
  },
  {
   "cell_type": "code",
   "execution_count": 8,
   "id": "12c20d7f",
   "metadata": {},
   "outputs": [
    {
     "name": "stdout",
     "output_type": "stream",
     "text": [
      "milk\n",
      "sugar\n"
     ]
    }
   ],
   "source": [
    "file= open('groceries.txt','r')\n",
    "print(file.read(10)) # read first 10 characters\n",
    "\n",
    "file.close() \n"
   ]
  },
  {
   "cell_type": "code",
   "execution_count": null,
   "id": "347009b2",
   "metadata": {},
   "outputs": [
    {
     "name": "stdout",
     "output_type": "stream",
     "text": [
      "sugar\n",
      "rice\n"
     ]
    }
   ],
   "source": [
    "#print sugar and rice\n",
    "\n",
    "with open('groceries.txt','r') as file:\n",
    "    file.seek(5)\n",
    "    print(file.read(10))  "
   ]
  },
  {
   "cell_type": "code",
   "execution_count": null,
   "id": "3cafbbc8",
   "metadata": {},
   "outputs": [
    {
     "name": "stdout",
     "output_type": "stream",
     "text": [
      "tatoe\n"
     ]
    }
   ],
   "source": [
    "with open('groceries.txt','r') as file:\n",
    "    file.seek(18)\n",
    "    print(file.read(5))  "
   ]
  },
  {
   "cell_type": "code",
   "execution_count": null,
   "id": "2fdff2a4",
   "metadata": {},
   "outputs": [
    {
     "name": "stdout",
     "output_type": "stream",
     "text": [
      "{'milk': '300', 'sugar': '100', 'rice': '400', 'potatoes': '120', 'ketchup': '110', 'burger': '150'}\n"
     ]
    }
   ],
   "source": [
    "final={}\n",
    "\n",
    "file=open('groceries2.txt','r')\n",
    "\n",
    "for line in file:\n",
    "    # print(line)\n",
    "    grocery,price= line.strip().split(',')\n",
    "    final[grocery] = price\n",
    "\n",
    "file.close()\n",
    "\n",
    "\n",
    "print(final)"
   ]
  },
  {
   "cell_type": "code",
   "execution_count": 16,
   "id": "e047e9d4",
   "metadata": {},
   "outputs": [],
   "source": [
    "#write to a file\n",
    "\n",
    "file=open('test.txt','w')\n",
    "\n",
    "file.write('Audi\\n')\n",
    "file.write('Mercedes\\n')\n",
    "file.write('BMW')\n",
    "\n",
    "file.close()"
   ]
  },
  {
   "cell_type": "code",
   "execution_count": null,
   "id": "b3658a03",
   "metadata": {},
   "outputs": [],
   "source": [
    "#write to a file - be careful as this will overwrite the file if file already exists\n",
    "\n",
    "file=open('test.txt','w')\n",
    "\n",
    "file.write('Mazda\\n')\n",
    "file.write('Toyota\\n')\n",
    "file.write('Nissan')\n",
    "\n",
    "file.close()"
   ]
  },
  {
   "cell_type": "code",
   "execution_count": 24,
   "id": "a555edaf",
   "metadata": {},
   "outputs": [],
   "source": [
    "names= ['John','Jane','Doe']\n",
    "#write a list to a file\n",
    "\n",
    "file=open('names.txt','w')\n",
    "\n",
    "# file.writelines('\\n'.join(names))\n",
    "\n",
    "for name in names:\n",
    "    file.write(name + '\\n')\n",
    "\n",
    "file.close()"
   ]
  },
  {
   "cell_type": "code",
   "execution_count": null,
   "id": "fc0167e7",
   "metadata": {},
   "outputs": [],
   "source": [
    "with open('names.txt','w') as file: #overwrite the contents of the file\n",
    "    file.write('Eric \\n')"
   ]
  },
  {
   "cell_type": "code",
   "execution_count": 25,
   "id": "c6bd6744",
   "metadata": {},
   "outputs": [],
   "source": [
    "#append to a file\n",
    "\n",
    "file=open('names.txt','a')\n",
    "file.write('Alice \\n')\n",
    "file.write('Bob \\n')\n",
    "file.close()"
   ]
  },
  {
   "cell_type": "code",
   "execution_count": 26,
   "id": "a53aa957",
   "metadata": {},
   "outputs": [],
   "source": [
    "with open('names.txt','a') as file:\n",
    "    file.write('Charlie \\n')\n",
    "    file.write('Dave \\n')\n",
    "\n",
    "    "
   ]
  },
  {
   "cell_type": "code",
   "execution_count": 27,
   "id": "5c920150",
   "metadata": {},
   "outputs": [],
   "source": [
    "with open('names2.txt','a') as file:\n",
    "    file.write('George \\n')\n",
    "    file.write('David \\n')\n"
   ]
  },
  {
   "cell_type": "code",
   "execution_count": 30,
   "id": "ac8bce6a",
   "metadata": {},
   "outputs": [
    {
     "name": "stdout",
     "output_type": "stream",
     "text": [
      "Error\n"
     ]
    }
   ],
   "source": [
    "try:\n",
    "    file= open('namescwhgvjbqk.txt','r')\n",
    "    content = file.read()\n",
    "    print(content)\n",
    "    file.close()\n",
    "except:\n",
    "    print(\"Error\")"
   ]
  },
  {
   "cell_type": "code",
   "execution_count": null,
   "id": "7658b9a5",
   "metadata": {},
   "outputs": [
    {
     "name": "stdout",
     "output_type": "stream",
     "text": [
      "George \n",
      "David😀\n",
      "\n"
     ]
    }
   ],
   "source": [
    "file=open('names3.txt','r',encoding='utf-8')\n",
    "print(file.read())\n",
    "file.close()"
   ]
  }
 ],
 "metadata": {
  "kernelspec": {
   "display_name": "Python 3",
   "language": "python",
   "name": "python3"
  },
  "language_info": {
   "codemirror_mode": {
    "name": "ipython",
    "version": 3
   },
   "file_extension": ".py",
   "mimetype": "text/x-python",
   "name": "python",
   "nbconvert_exporter": "python",
   "pygments_lexer": "ipython3",
   "version": "3.13.4"
  }
 },
 "nbformat": 4,
 "nbformat_minor": 5
}
