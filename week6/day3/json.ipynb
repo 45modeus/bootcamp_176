{
 "cells": [
  {
   "cell_type": "code",
   "execution_count": 1,
   "id": "4b1f78e8",
   "metadata": {},
   "outputs": [
    {
     "name": "stdout",
     "output_type": "stream",
     "text": [
      "{'name': 'John Doe', 'age': 30, 'city': 'New York', 'is_student': False, 'courses': ['Math', 'Science', 'History']}\n",
      "{\n",
      "    \"name\": \"John Doe\",\n",
      "    \"age\": 30,\n",
      "    \"city\": \"New York\",\n",
      "    \"is_student\": false,\n",
      "    \"courses\": [\n",
      "        \"Math\",\n",
      "        \"Science\",\n",
      "        \"History\"\n",
      "    ]\n",
      "}\n"
     ]
    }
   ],
   "source": [
    "import json\n",
    "\n",
    "\n",
    "person={\n",
    "    \"name\": \"John Doe\",\n",
    "    \"age\": 30,\n",
    "    \"city\": \"New York\",\n",
    "    \"is_student\": False,\n",
    "    \"courses\": [\"Math\", \"Science\", \"History\"],\n",
    "}\n",
    "\n",
    "# Convert the Python dictionary to a JSON string\n",
    "json_string = json.dumps(person, indent=4)\n",
    "\n",
    "print(person)\n",
    "print(json_string)"
   ]
  },
  {
   "cell_type": "code",
   "execution_count": 2,
   "id": "df74007a",
   "metadata": {},
   "outputs": [],
   "source": [
    "#save to json file\n",
    "\n",
    "with open(\"person.json\", \"w\") as json_file:\n",
    "    json.dump(person, json_file, indent=4)"
   ]
  },
  {
   "cell_type": "code",
   "execution_count": null,
   "id": "48309a77",
   "metadata": {},
   "outputs": [
    {
     "name": "stdout",
     "output_type": "stream",
     "text": [
      "{'name': 'John Doe', 'age': 30, 'city': 'New York', 'is_student': False, 'courses': ['Math', 'Science', 'History']}\n",
      "John Doe\n"
     ]
    }
   ],
   "source": [
    "#opposite operation: load from json file\n",
    "\n",
    "\n",
    "#load from json file\n",
    "file= open(\"person.json\", \"r\") \n",
    "\n",
    "loaded_person = json.load(file) #load the JSON data from the file\n",
    "print(loaded_person)\n",
    "\n",
    "\n",
    "print(loaded_person[\"name\"])"
   ]
  },
  {
   "cell_type": "code",
   "execution_count": 6,
   "id": "1f48e3cb",
   "metadata": {},
   "outputs": [
    {
     "name": "stdout",
     "output_type": "stream",
     "text": [
      "It takes a team of groundskeepers three days to shave the entire surface area of Chuck Norris' balls.\n"
     ]
    }
   ],
   "source": [
    "import requests\n",
    "\n",
    "#send get request\n",
    "\n",
    "url=\"https://api.chucknorris.io/jokes/random\"\n",
    "\n",
    "response=requests.get(url).json()\n",
    "\n",
    "\n",
    "print(response[\"value\"])\n",
    "\n"
   ]
  },
  {
   "cell_type": "code",
   "execution_count": 7,
   "id": "58d80771",
   "metadata": {},
   "outputs": [
    {
     "name": "stdout",
     "output_type": "stream",
     "text": [
      "['animal', 'career', 'celebrity', 'dev', 'explicit', 'fashion', 'food', 'history', 'money', 'movie', 'music', 'political', 'religion', 'science', 'sport', 'travel']\n"
     ]
    }
   ],
   "source": [
    "#get categories\n",
    "\n",
    "url=\"https://api.chucknorris.io/jokes/categories\"\n",
    "response=requests.get(url).json()\n",
    "print(response)"
   ]
  },
  {
   "cell_type": "code",
   "execution_count": 10,
   "id": "f4c987bd",
   "metadata": {},
   "outputs": [
    {
     "name": "stdout",
     "output_type": "stream",
     "text": [
      "Chuck Norris makes onions cry.\n"
     ]
    }
   ],
   "source": [
    "#get food joke\n",
    "category=\"food\"\n",
    "\n",
    "url=f\"https://api.chucknorris.io/jokes/random?category={category}\"\n",
    "response=requests.get(url).json()\n",
    "print(response[\"value\"])"
   ]
  }
 ],
 "metadata": {
  "kernelspec": {
   "display_name": "Python 3",
   "language": "python",
   "name": "python3"
  },
  "language_info": {
   "codemirror_mode": {
    "name": "ipython",
    "version": 3
   },
   "file_extension": ".py",
   "mimetype": "text/x-python",
   "name": "python",
   "nbconvert_exporter": "python",
   "pygments_lexer": "ipython3",
   "version": "3.13.4"
  }
 },
 "nbformat": 4,
 "nbformat_minor": 5
}
