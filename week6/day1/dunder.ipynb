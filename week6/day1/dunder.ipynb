{
 "cells": [
  {
   "cell_type": "code",
   "execution_count": null,
   "id": "fa54ebcb",
   "metadata": {},
   "outputs": [],
   "source": [
    "class Fruit:\n",
    "    def __init__(self, name, color): #dunder method - double undrrscore\n",
    "        self.name = name\n",
    "        self.color = color\n",
    "\n"
   ]
  },
  {
   "cell_type": "code",
   "execution_count": null,
   "id": "f1a12877",
   "metadata": {},
   "outputs": [
    {
     "name": "stdout",
     "output_type": "stream",
     "text": [
      "<class 'int'>\n"
     ]
    }
   ],
   "source": [
    "x=10\n",
    "print(type(x))\n",
    "\n",
    "\n",
    "y=6\n",
    "\n",
    "\n",
    "z=x+y"
   ]
  },
  {
   "cell_type": "code",
   "execution_count": 13,
   "id": "21fc47ca",
   "metadata": {},
   "outputs": [
    {
     "name": "stdout",
     "output_type": "stream",
     "text": [
      "30\n",
      "20\n",
      "5\n",
      "Clip called\n"
     ]
    }
   ],
   "source": [
    "class Clip:\n",
    "    def __init__(self, value):\n",
    "        self.value=value\n",
    "\n",
    "    def __add__(self, other):\n",
    "        return self.value + other.value\n",
    "    \n",
    "    def __str__(self):\n",
    "        return str(self.value)\n",
    "    \n",
    "    def __repr__(self):\n",
    "        return str(self.value)\n",
    "    \n",
    "    def __len__(self):\n",
    "        return int(self.value/2)\n",
    "    \n",
    "    def __call__(self):\n",
    "        print(\"Clip called\")\n",
    "\n",
    "\n",
    "\n",
    "c1=Clip(10)\n",
    "\n",
    "c2=Clip(20)\n",
    "\n",
    "\n",
    "print(c1+c2)\n",
    "\n",
    "print(c2)\n",
    "\n",
    "print(len(c1))\n",
    "\n",
    "\n",
    "c2()"
   ]
  },
  {
   "cell_type": "code",
   "execution_count": null,
   "id": "93ea234f",
   "metadata": {},
   "outputs": [
    {
     "ename": "TypeError",
     "evalue": "X() takes no arguments",
     "output_type": "error",
     "traceback": [
      "\u001b[0;31m---------------------------------------------------------------------------\u001b[0m",
      "\u001b[0;31mTypeError\u001b[0m                                 Traceback (most recent call last)",
      "Cell \u001b[0;32mIn[16], line 6\u001b[0m\n\u001b[1;32m      2\u001b[0m     \u001b[38;5;28;01mdef\u001b[39;00m \u001b[38;5;21m__add__\u001b[39m(\u001b[38;5;28mself\u001b[39m, other):\n\u001b[1;32m      3\u001b[0m         \u001b[38;5;28mprint\u001b[39m(\u001b[38;5;124m\"\u001b[39m\u001b[38;5;124mThis is a custom int class, not the built-in one.\u001b[39m\u001b[38;5;124m\"\u001b[39m)\n\u001b[0;32m----> 6\u001b[0m x \u001b[38;5;241m=\u001b[39m \u001b[43mX\u001b[49m\u001b[43m(\u001b[49m\u001b[38;5;241;43m10\u001b[39;49m\u001b[43m)\u001b[49m\n\u001b[1;32m      7\u001b[0m y \u001b[38;5;241m=\u001b[39m X(\u001b[38;5;241m20\u001b[39m)\n\u001b[1;32m      9\u001b[0m \u001b[38;5;28mprint\u001b[39m(x \u001b[38;5;241m+\u001b[39m y)  \u001b[38;5;66;03m# This will call the custom __add__ method in class X\u001b[39;00m\n",
      "\u001b[0;31mTypeError\u001b[0m: X() takes no arguments"
     ]
    }
   ],
   "source": [
    "class X(int):\n",
    "    def __add__(self, other):\n",
    "        print(\"This is a custom int class, not the built-in one.\")\n",
    "\n",
    "\n",
    "\n",
    "print(x + y)  # This will call the custom __add__ method in class X\n"
   ]
  }
 ],
 "metadata": {
  "kernelspec": {
   "display_name": "Python 3",
   "language": "python",
   "name": "python3"
  },
  "language_info": {
   "codemirror_mode": {
    "name": "ipython",
    "version": 3
   },
   "file_extension": ".py",
   "mimetype": "text/x-python",
   "name": "python",
   "nbconvert_exporter": "python",
   "pygments_lexer": "ipython3",
   "version": "3.10.2"
  }
 },
 "nbformat": 4,
 "nbformat_minor": 5
}
