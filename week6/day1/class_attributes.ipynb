{
 "cells": [
  {
   "cell_type": "code",
   "execution_count": 2,
   "id": "e283c980",
   "metadata": {},
   "outputs": [
    {
     "ename": "TypeError",
     "evalue": "Car.__init__() takes 3 positional arguments but 4 were given",
     "output_type": "error",
     "traceback": [
      "\u001b[0;31m---------------------------------------------------------------------------\u001b[0m",
      "\u001b[0;31mTypeError\u001b[0m                                 Traceback (most recent call last)",
      "Cell \u001b[0;32mIn[2], line 15\u001b[0m\n\u001b[1;32m     11\u001b[0m         \u001b[38;5;28mprint\u001b[39m(\u001b[38;5;124mf\u001b[39m\u001b[38;5;124m\"\u001b[39m\u001b[38;5;124mCar Year: \u001b[39m\u001b[38;5;132;01m{\u001b[39;00m\u001b[38;5;28mself\u001b[39m\u001b[38;5;241m.\u001b[39myear\u001b[38;5;132;01m}\u001b[39;00m\u001b[38;5;124m\"\u001b[39m)\n\u001b[1;32m     14\u001b[0m \u001b[38;5;66;03m# Example usage\u001b[39;00m\n\u001b[0;32m---> 15\u001b[0m my_car \u001b[38;5;241m=\u001b[39m \u001b[43mCar\u001b[49m\u001b[43m(\u001b[49m\u001b[38;5;124;43m\"\u001b[39;49m\u001b[38;5;124;43mToyota\u001b[39;49m\u001b[38;5;124;43m\"\u001b[39;49m\u001b[43m,\u001b[49m\u001b[43m \u001b[49m\u001b[38;5;124;43m\"\u001b[39;49m\u001b[38;5;124;43mCorolla\u001b[39;49m\u001b[38;5;124;43m\"\u001b[39;49m\u001b[43m,\u001b[49m\u001b[43m \u001b[49m\u001b[38;5;241;43m2020\u001b[39;49m\u001b[43m)\u001b[49m\n\u001b[1;32m     16\u001b[0m my_car\u001b[38;5;241m.\u001b[39mdisplay_info()\n",
      "\u001b[0;31mTypeError\u001b[0m: Car.__init__() takes 3 positional arguments but 4 were given"
     ]
    }
   ],
   "source": [
    "class Car:\n",
    "    def __init__(self, make, model):\n",
    "        self.make = \"Toyota\"\n",
    "        self.model = \"Corolla\"\n",
    "        self.year = 2020\n",
    "\n",
    "\n",
    "    def display_info(self):\n",
    "        print(f\"Car Make: {self.make}\")\n",
    "        print(f\"Car Model: {self.model}\")\n",
    "        print(f\"Car Year: {self.year}\")\n",
    "\n",
    "\n",
    "# Example usage\n",
    "my_car = Car(\"Toyota\", \"Corolla\", 2020)\n",
    "my_car.display_info()"
   ]
  },
  {
   "cell_type": "code",
   "execution_count": null,
   "id": "9af5575d",
   "metadata": {},
   "outputs": [
    {
     "name": "stdout",
     "output_type": "stream",
     "text": [
      "3.14\n"
     ]
    }
   ],
   "source": [
    "class Data:\n",
    "    def __init__(self, value1): #constructor\n",
    "        self.value = value1\n",
    "        self.Pi= 3.14\n",
    "\n",
    "    def display_value(self):\n",
    "        print(f\"Data Value: {self.value}\")\n",
    "\n",
    "\n",
    "\n",
    "# print(Data.Pi)\n",
    "#problem is that you need to create an instance of the Data class to access the Pi attribute\n",
    "\n",
    "test=Data(10)\n",
    "print(test.Pi)"
   ]
  },
  {
   "cell_type": "code",
   "execution_count": null,
   "id": "a979207f",
   "metadata": {},
   "outputs": [
    {
     "name": "stdout",
     "output_type": "stream",
     "text": [
      "3.14\n",
      "3.14\n",
      "6.28\n",
      "6.28\n"
     ]
    }
   ],
   "source": [
    "class Data:\n",
    "    Pi=3.14 #class atribute\n",
    "\n",
    "    def __init__(self, value1): #constructor\n",
    "        self.value = value1\n",
    "\n",
    "    def display_value(self):\n",
    "        print(f\"Data Value: {self.value}\")\n",
    "\n",
    "\n",
    "print(Data.Pi)\n",
    "\n",
    "\n",
    "test1=Data(10)\n",
    "test2=Data(20)\n",
    "\n",
    "\n",
    "print(test1.Pi)\n",
    "\n",
    "Data.Pi=6.28 #changing the class attribute\n",
    "\n",
    "print(Data.Pi)\n",
    "\n",
    "print(test1.Pi)"
   ]
  },
  {
   "cell_type": "code",
   "execution_count": null,
   "id": "d7909517",
   "metadata": {},
   "outputs": [
    {
     "name": "stdout",
     "output_type": "stream",
     "text": [
      "Tom\n",
      "Eric\n",
      "John\n"
     ]
    }
   ],
   "source": [
    "name=\"John\"\n",
    "name=\"Tom\"\n",
    "\n",
    "print(name)\n",
    "\n",
    "\n",
    "#constants\n",
    "NAME=\"Eric\"\n",
    "print(NAME)\n",
    "\n",
    "NAME=\"John\" \n",
    "print(NAME)"
   ]
  },
  {
   "cell_type": "code",
   "execution_count": null,
   "id": "93867b2f",
   "metadata": {},
   "outputs": [
    {
     "name": "stdout",
     "output_type": "stream",
     "text": [
      "Paul has clocked in.\n",
      "Eric has clocked in.\n",
      "Number of staff present: 2\n",
      "Rita has clocked in.\n",
      "Number of staff present: 3\n",
      "Tom has clocked in.\n",
      "Number of staff present: 4\n"
     ]
    }
   ],
   "source": [
    "class Staff:\n",
    "    number_staff_present=0\n",
    "\n",
    "    def __init__(self, name, position):\n",
    "        self.name = name\n",
    "        self.position = position\n",
    "\n",
    "    def display_info(self):\n",
    "        print(f\"Staff Name: {self.name}\")\n",
    "        print(f\"Staff Position: {self.position}\")\n",
    "\n",
    "    def clock_in(self):\n",
    "        Staff.number_staff_present += 1\n",
    "        print(f\"{self.name} has clocked in.\")\n",
    "\n",
    "paul= Staff(\"Paul\", \"Manager\")\n",
    "eric= Staff(\"Eric\", \"Developer\")\n",
    "tom=Staff(\"Tom\", \"Designer\")\n",
    "rita= Staff(\"Rita\", \"HR\")\n",
    "\n",
    "paul.clock_in()\n",
    "eric.clock_in()\n",
    "print(f\"Number of staff present: {Staff.number_staff_present}\")\n",
    "rita.clock_in()\n",
    "print(f\"Number of staff present: {Staff.number_staff_present}\")\n",
    "tom.clock_in()\n",
    "print(f\"Number of staff present: {Staff.number_staff_present}\")\n"
   ]
  },
  {
   "cell_type": "code",
   "execution_count": 4,
   "id": "cf1b5629",
   "metadata": {},
   "outputs": [
    {
     "name": "stdout",
     "output_type": "stream",
     "text": [
      "This is a test method in the Extra class.\n"
     ]
    }
   ],
   "source": [
    "class Extra:\n",
    "    def test(self):\n",
    "        print(\"This is a test method in the Extra class.\")\n",
    "\n",
    "e1= Extra()\n",
    "e1.test()\n",
    "\n"
   ]
  },
  {
   "cell_type": "code",
   "execution_count": 7,
   "id": "65645eb7",
   "metadata": {},
   "outputs": [
    {
     "ename": "TypeError",
     "evalue": "Extra.test() missing 1 required positional argument: 'self'",
     "output_type": "error",
     "traceback": [
      "\u001b[0;31m---------------------------------------------------------------------------\u001b[0m",
      "\u001b[0;31mTypeError\u001b[0m                                 Traceback (most recent call last)",
      "Cell \u001b[0;32mIn[7], line 2\u001b[0m\n\u001b[1;32m      1\u001b[0m \u001b[38;5;66;03m# Extra.test(e1)\u001b[39;00m\n\u001b[0;32m----> 2\u001b[0m \u001b[43mExtra\u001b[49m\u001b[38;5;241;43m.\u001b[39;49m\u001b[43mtest\u001b[49m\u001b[43m(\u001b[49m\u001b[43m)\u001b[49m\n",
      "\u001b[0;31mTypeError\u001b[0m: Extra.test() missing 1 required positional argument: 'self'"
     ]
    }
   ],
   "source": [
    "# Extra.test(e1)\n",
    "Extra.test()"
   ]
  },
  {
   "cell_type": "code",
   "execution_count": 8,
   "id": "c4966335",
   "metadata": {},
   "outputs": [
    {
     "name": "stdout",
     "output_type": "stream",
     "text": [
      "This is a test method in the Extra class.\n"
     ]
    }
   ],
   "source": [
    "class Extra:\n",
    "    @staticmethod    #decorator to define a static method\n",
    "    def test():\n",
    "        print(\"This is a test method in the Extra class.\")\n",
    "\n",
    "    \n",
    "\n",
    "Extra.test()  # Calling the static method directly from the class"
   ]
  },
  {
   "cell_type": "code",
   "execution_count": null,
   "id": "47ce2318",
   "metadata": {},
   "outputs": [
    {
     "name": "stdout",
     "output_type": "stream",
     "text": [
      "3\n",
      "This is a test method in the Extra2 class.\n"
     ]
    }
   ],
   "source": [
    "class Extra2:\n",
    "    @classmethod #decorator to define a static method\n",
    "    def add(cls,x,y):\n",
    "        print(x+y)\n",
    "\n",
    "    @classmethod\n",
    "    def test(cls):\n",
    "        print(\"This is a test method in the Extra2 class.\")\n",
    "\n",
    "\n",
    "Extra2.add(1,2)\n",
    "\n",
    "Extra2.test()  # Calling the class method directly from the class"
   ]
  },
  {
   "cell_type": "code",
   "execution_count": null,
   "id": "44d02770",
   "metadata": {},
   "outputs": [
    {
     "name": "stdout",
     "output_type": "stream",
     "text": [
      "64\n",
      "8\n",
      "15.0\n"
     ]
    }
   ],
   "source": [
    "import math\n",
    "\n",
    "class Square:\n",
    "    def __init__(self, length):\n",
    "        self.length = length\n",
    "\n",
    "    @property\n",
    "    #getter\n",
    "    def area(self): \n",
    "        return self.length * self.length \n",
    "    \n",
    "    #setter\n",
    "    @area.setter\n",
    "    def area(self, value):\n",
    "        self.length = math.sqrt(value)  # Update the length based on the new area value\n",
    "    \n",
    "\n",
    "s1= Square(8)\n",
    "print(s1.area)  # Accessing the area property, which calls the getter method\n",
    "\n",
    "\n",
    "print(s1.length)  # Accessing the length property\n",
    "s1.area=225\n",
    "print(s1.length)  # Accessing the length property, which has been updated by the setter method\n",
    "   "
   ]
  },
  {
   "cell_type": "code",
   "execution_count": 5,
   "id": "78463104",
   "metadata": {},
   "outputs": [
    {
     "name": "stdout",
     "output_type": "stream",
     "text": [
      "Refueled 10 liters. Current fuel level: 10 liters.\n",
      "Driven 150 km. Remaining fuel level: 2.5 liters.\n",
      "Current range: 50.0 km\n",
      "Not enough fuel to drive this distance.\n",
      "Refueled 5 liters. Current fuel level: 7.5 liters.\n",
      "Remaining fuel level: 7.5 liters\n",
      "Current range: 150.0 km\n"
     ]
    },
    {
     "ename": "AttributeError",
     "evalue": "property 'range' of 'Car' object has no setter",
     "output_type": "error",
     "traceback": [
      "\u001b[31m---------------------------------------------------------------------------\u001b[39m",
      "\u001b[31mAttributeError\u001b[39m                            Traceback (most recent call last)",
      "\u001b[36mCell\u001b[39m\u001b[36m \u001b[39m\u001b[32mIn[5]\u001b[39m\u001b[32m, line 35\u001b[39m\n\u001b[32m     32\u001b[39m \u001b[38;5;28mprint\u001b[39m(\u001b[33mf\u001b[39m\u001b[33m\"\u001b[39m\u001b[33mRemaining fuel level: \u001b[39m\u001b[38;5;132;01m{\u001b[39;00mmy_car.fuel_level\u001b[38;5;132;01m}\u001b[39;00m\u001b[33m liters\u001b[39m\u001b[33m\"\u001b[39m)  \u001b[38;5;66;03m# Check the remaining fuel level\u001b[39;00m\n\u001b[32m     33\u001b[39m \u001b[38;5;28mprint\u001b[39m(\u001b[33mf\u001b[39m\u001b[33m\"\u001b[39m\u001b[33mCurrent range: \u001b[39m\u001b[38;5;132;01m{\u001b[39;00mmy_car.range\u001b[38;5;132;01m}\u001b[39;00m\u001b[33m km\u001b[39m\u001b[33m\"\u001b[39m)  \u001b[38;5;66;03m# Check the current range of the car again\u001b[39;00m\n\u001b[32m---> \u001b[39m\u001b[32m35\u001b[39m \u001b[43mmy_car\u001b[49m\u001b[43m.\u001b[49m\u001b[43mrange\u001b[49m = \u001b[32m100\u001b[39m  \u001b[38;5;66;03m# This will raise an error because range is a read-only property\u001b[39;00m\n",
      "\u001b[31mAttributeError\u001b[39m: property 'range' of 'Car' object has no setter"
     ]
    }
   ],
   "source": [
    "class Car:\n",
    "    def __init__(self, make, model, year):\n",
    "        self.make = make\n",
    "        self.model = model\n",
    "        self.year = year\n",
    "        self.fuel_level=0\n",
    "    \n",
    "    @property\n",
    "    #getter\n",
    "    def range(self): \n",
    "        return self.fuel_level * 20 #20km/L\n",
    "    \n",
    "    def refuel(self, liters):\n",
    "        self.fuel_level += liters\n",
    "        print(f\"Refueled {liters} liters. Current fuel level: {self.fuel_level} liters.\")\n",
    "\n",
    "    def drive(self, distance):\n",
    "        if distance > self.range:\n",
    "            print(\"Not enough fuel to drive this distance.\")\n",
    "        else:\n",
    "            self.fuel_level -= distance / 20\n",
    "            print(f\"Driven {distance} km. Remaining fuel level: {self.fuel_level} liters.\")\n",
    "\n",
    "\n",
    "# Example usage\n",
    "my_car = Car(\"Toyota\", \"Corolla\", 2020)\n",
    "my_car.refuel(10)  # Refuel the car with 10 liters\n",
    "my_car.drive(150)  # Drive 150 km\n",
    "print(f\"Current range: {my_car.range} km\")  # Check the current range of the car\n",
    "my_car.drive(200)  # Attempt to drive 200 km, which exceeds the current fuel level\n",
    "my_car.refuel(5)  # Refuel the car with 5 more liters\n",
    "print(f\"Remaining fuel level: {my_car.fuel_level} liters\")  # Check the remaining fuel level\n",
    "print(f\"Current range: {my_car.range} km\")  # Check the current range of the car again\n",
    "\n",
    "my_car.range = 100  # This will raise an error because range is a read-only property"
   ]
  }
 ],
 "metadata": {
  "kernelspec": {
   "display_name": "Python 3",
   "language": "python",
   "name": "python3"
  },
  "language_info": {
   "codemirror_mode": {
    "name": "ipython",
    "version": 3
   },
   "file_extension": ".py",
   "mimetype": "text/x-python",
   "name": "python",
   "nbconvert_exporter": "python",
   "pygments_lexer": "ipython3",
   "version": "3.13.4"
  }
 },
 "nbformat": 4,
 "nbformat_minor": 5
}
