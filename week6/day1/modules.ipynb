{
 "cells": [
  {
   "cell_type": "code",
   "execution_count": null,
   "id": "ad292ec2",
   "metadata": {},
   "outputs": [
    {
     "name": "stdout",
     "output_type": "stream",
     "text": [
      "2.0\n",
      "32.0\n",
      "13\n"
     ]
    }
   ],
   "source": [
    "# import math\n",
    "\n",
    "\n",
    "# print(math.sqrt(4))\n",
    "# print(math.pow(2,5))\n",
    "# print(math.floor(13.9))"
   ]
  },
  {
   "cell_type": "code",
   "execution_count": 4,
   "id": "5ffa6428",
   "metadata": {},
   "outputs": [
    {
     "data": {
      "text/plain": [
       "12"
      ]
     },
     "execution_count": 4,
     "metadata": {},
     "output_type": "execute_result"
    }
   ],
   "source": [
    "from math import floor as fl\n",
    "fl(12.9)"
   ]
  },
  {
   "cell_type": "code",
   "execution_count": 5,
   "id": "3c0519e7",
   "metadata": {},
   "outputs": [
    {
     "name": "stdout",
     "output_type": "stream",
     "text": [
      "It took 6.67572021484375e-05 seconds to execute 1000**1000\n"
     ]
    }
   ],
   "source": [
    "import time\n",
    "\n",
    "before = time.time()\n",
    "long_number = 1000**1000\n",
    "after = time.time()\n",
    "\n",
    "print(f\"It took {after - before} seconds to execute 1000**1000\")"
   ]
  },
  {
   "cell_type": "code",
   "execution_count": 6,
   "id": "1ab99eb1",
   "metadata": {},
   "outputs": [],
   "source": [
    "import turtle\n",
    "\n",
    "# Create turtle\n",
    "t = turtle.Turtle()\n",
    "\n",
    "# Draw a square\n",
    "for _ in range(4):\n",
    "    t.forward(100)\n",
    "    t.right(90)\n",
    "\n",
    "turtle.done()\n"
   ]
  },
  {
   "cell_type": "code",
   "execution_count": null,
   "id": "b8d4631c",
   "metadata": {},
   "outputs": [
    {
     "name": "stdout",
     "output_type": "stream",
     "text": [
      "Chuck Norris once shot down a Russian MIG in an aerial dogfight. Chuck was flying in a hot air ballon.\n",
      "It took 0.9241087436676025 seconds to fetch the joke from the API\n"
     ]
    },
    {
     "ename": "",
     "evalue": "",
     "output_type": "error",
     "traceback": [
      "\u001b[1;31mThe Kernel crashed while executing code in the current cell or a previous cell. \n",
      "\u001b[1;31mPlease review the code in the cell(s) to identify a possible cause of the failure. \n",
      "\u001b[1;31mClick <a href='https://aka.ms/vscodeJupyterKernelCrash'>here</a> for more info. \n",
      "\u001b[1;31mView Jupyter <a href='command:jupyter.viewOutput'>log</a> for further details."
     ]
    }
   ],
   "source": [
    "import requests, time\n",
    "\n",
    "start=time.time()\n",
    "url=\"https://api.chucknorris.io/jokes/random\"\n",
    "response = requests.get(url)\n",
    "\n",
    "data=response.json().get(\"value\")\n",
    "\n",
    "print(f\"{data}\")\n",
    "\n",
    "end=time.time()\n",
    "print(f\"It took {end - start} seconds to fetch the joke from the API\")"
   ]
  }
 ],
 "metadata": {
  "kernelspec": {
   "display_name": "Python 3",
   "language": "python",
   "name": "python3"
  },
  "language_info": {
   "codemirror_mode": {
    "name": "ipython",
    "version": 3
   },
   "file_extension": ".py",
   "mimetype": "text/x-python",
   "name": "python",
   "nbconvert_exporter": "python",
   "pygments_lexer": "ipython3",
   "version": "3.10.2"
  }
 },
 "nbformat": 4,
 "nbformat_minor": 5
}
